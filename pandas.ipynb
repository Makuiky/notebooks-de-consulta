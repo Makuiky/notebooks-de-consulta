{
 "cells": [
  {
   "cell_type": "markdown",
   "id": "831d2823",
   "metadata": {},
   "source": [
    "# Aspectos básicos\n",
    "## Importar pandas"
   ]
  },
  {
   "cell_type": "code",
   "execution_count": 1,
   "id": "aaaee6bd",
   "metadata": {},
   "outputs": [],
   "source": [
    "import pandas as pd"
   ]
  },
  {
   "cell_type": "markdown",
   "id": "ee83b8d6",
   "metadata": {},
   "source": [
    "## Crear serie de datos"
   ]
  },
  {
   "cell_type": "code",
   "execution_count": 2,
   "id": "1b4c5329",
   "metadata": {},
   "outputs": [],
   "source": [
    "data=[2,1,3,4,2,1,6,7,10]"
   ]
  },
  {
   "cell_type": "code",
   "execution_count": 3,
   "id": "c6f093f9",
   "metadata": {},
   "outputs": [],
   "source": [
    "miserie = pd.Series(data)"
   ]
  },
  {
   "cell_type": "code",
   "execution_count": 4,
   "id": "27d6cb62",
   "metadata": {},
   "outputs": [
    {
     "data": {
      "text/plain": [
       "0     2\n",
       "1     1\n",
       "2     3\n",
       "3     4\n",
       "4     2\n",
       "5     1\n",
       "6     6\n",
       "7     7\n",
       "8    10\n",
       "dtype: int64"
      ]
     },
     "execution_count": 4,
     "metadata": {},
     "output_type": "execute_result"
    }
   ],
   "source": [
    "miserie"
   ]
  },
  {
   "cell_type": "markdown",
   "id": "b236bfe7",
   "metadata": {},
   "source": [
    "## Crear un dataframe"
   ]
  },
  {
   "cell_type": "markdown",
   "id": "fa794c6a",
   "metadata": {},
   "source": [
    "### A partir de listas para datos, índices y columnas"
   ]
  },
  {
   "cell_type": "code",
   "execution_count": 5,
   "id": "ddbc3e71",
   "metadata": {},
   "outputs": [],
   "source": [
    "data = [[1,2,3],[2,4,6],[10,20,30]]\n",
    "indice = ['l1','l2','l3']\n",
    "columnas = ['A', 'B', 'C']"
   ]
  },
  {
   "cell_type": "code",
   "execution_count": 6,
   "id": "a5a8300c",
   "metadata": {},
   "outputs": [],
   "source": [
    "df = pd.DataFrame(data, index = indice, columns= columnas ) "
   ]
  },
  {
   "cell_type": "code",
   "execution_count": 7,
   "id": "11afddb1",
   "metadata": {},
   "outputs": [
    {
     "data": {
      "text/html": [
       "<div>\n",
       "<style scoped>\n",
       "    .dataframe tbody tr th:only-of-type {\n",
       "        vertical-align: middle;\n",
       "    }\n",
       "\n",
       "    .dataframe tbody tr th {\n",
       "        vertical-align: top;\n",
       "    }\n",
       "\n",
       "    .dataframe thead th {\n",
       "        text-align: right;\n",
       "    }\n",
       "</style>\n",
       "<table border=\"1\" class=\"dataframe\">\n",
       "  <thead>\n",
       "    <tr style=\"text-align: right;\">\n",
       "      <th></th>\n",
       "      <th>A</th>\n",
       "      <th>B</th>\n",
       "      <th>C</th>\n",
       "    </tr>\n",
       "  </thead>\n",
       "  <tbody>\n",
       "    <tr>\n",
       "      <th>l1</th>\n",
       "      <td>1</td>\n",
       "      <td>2</td>\n",
       "      <td>3</td>\n",
       "    </tr>\n",
       "    <tr>\n",
       "      <th>l2</th>\n",
       "      <td>2</td>\n",
       "      <td>4</td>\n",
       "      <td>6</td>\n",
       "    </tr>\n",
       "    <tr>\n",
       "      <th>l3</th>\n",
       "      <td>10</td>\n",
       "      <td>20</td>\n",
       "      <td>30</td>\n",
       "    </tr>\n",
       "  </tbody>\n",
       "</table>\n",
       "</div>"
      ],
      "text/plain": [
       "     A   B   C\n",
       "l1   1   2   3\n",
       "l2   2   4   6\n",
       "l3  10  20  30"
      ]
     },
     "execution_count": 7,
     "metadata": {},
     "output_type": "execute_result"
    }
   ],
   "source": [
    "df"
   ]
  },
  {
   "cell_type": "markdown",
   "id": "db9ee418",
   "metadata": {},
   "source": [
    "### A partir de diccionario"
   ]
  },
  {
   "cell_type": "code",
   "execution_count": 8,
   "id": "db54ffbd",
   "metadata": {},
   "outputs": [],
   "source": [
    "diccionario = {'A' : [1,2,10], 'B' : [2,4,20], 'C' : [3,6,30]}"
   ]
  },
  {
   "cell_type": "code",
   "execution_count": 9,
   "id": "139342c3",
   "metadata": {},
   "outputs": [],
   "source": [
    "dfdic = pd.DataFrame(diccionario)"
   ]
  },
  {
   "cell_type": "code",
   "execution_count": 10,
   "id": "7f5a1984",
   "metadata": {},
   "outputs": [
    {
     "data": {
      "text/html": [
       "<div>\n",
       "<style scoped>\n",
       "    .dataframe tbody tr th:only-of-type {\n",
       "        vertical-align: middle;\n",
       "    }\n",
       "\n",
       "    .dataframe tbody tr th {\n",
       "        vertical-align: top;\n",
       "    }\n",
       "\n",
       "    .dataframe thead th {\n",
       "        text-align: right;\n",
       "    }\n",
       "</style>\n",
       "<table border=\"1\" class=\"dataframe\">\n",
       "  <thead>\n",
       "    <tr style=\"text-align: right;\">\n",
       "      <th></th>\n",
       "      <th>A</th>\n",
       "      <th>B</th>\n",
       "      <th>C</th>\n",
       "    </tr>\n",
       "  </thead>\n",
       "  <tbody>\n",
       "    <tr>\n",
       "      <th>0</th>\n",
       "      <td>1</td>\n",
       "      <td>2</td>\n",
       "      <td>3</td>\n",
       "    </tr>\n",
       "    <tr>\n",
       "      <th>1</th>\n",
       "      <td>2</td>\n",
       "      <td>4</td>\n",
       "      <td>6</td>\n",
       "    </tr>\n",
       "    <tr>\n",
       "      <th>2</th>\n",
       "      <td>10</td>\n",
       "      <td>20</td>\n",
       "      <td>30</td>\n",
       "    </tr>\n",
       "  </tbody>\n",
       "</table>\n",
       "</div>"
      ],
      "text/plain": [
       "    A   B   C\n",
       "0   1   2   3\n",
       "1   2   4   6\n",
       "2  10  20  30"
      ]
     },
     "execution_count": 10,
     "metadata": {},
     "output_type": "execute_result"
    }
   ],
   "source": [
    "dfdic"
   ]
  },
  {
   "cell_type": "markdown",
   "id": "818f3486",
   "metadata": {},
   "source": [
    "## I/O de datos\n",
    "https://pandas.pydata.org/docs/user_guide/io.html"
   ]
  },
  {
   "cell_type": "markdown",
   "id": "f6bca9cc",
   "metadata": {},
   "source": [
    "### CSV"
   ]
  },
  {
   "cell_type": "markdown",
   "id": "13ea96bf",
   "metadata": {},
   "source": [
    "#### Exportar datos"
   ]
  },
  {
   "cell_type": "code",
   "execution_count": 11,
   "id": "07a29f91",
   "metadata": {},
   "outputs": [],
   "source": [
    "df.to_csv('ejemploexp.csv')"
   ]
  },
  {
   "cell_type": "markdown",
   "id": "b35199cc",
   "metadata": {},
   "source": [
    "#### Importar datos"
   ]
  },
  {
   "cell_type": "code",
   "execution_count": 12,
   "id": "ea6973b9",
   "metadata": {},
   "outputs": [],
   "source": [
    "dfpruebas = pd.read_csv('datos/housing/housing.csv')"
   ]
  },
  {
   "cell_type": "code",
   "execution_count": 13,
   "id": "4fe0e4ac",
   "metadata": {},
   "outputs": [
    {
     "data": {
      "text/html": [
       "<div>\n",
       "<style scoped>\n",
       "    .dataframe tbody tr th:only-of-type {\n",
       "        vertical-align: middle;\n",
       "    }\n",
       "\n",
       "    .dataframe tbody tr th {\n",
       "        vertical-align: top;\n",
       "    }\n",
       "\n",
       "    .dataframe thead th {\n",
       "        text-align: right;\n",
       "    }\n",
       "</style>\n",
       "<table border=\"1\" class=\"dataframe\">\n",
       "  <thead>\n",
       "    <tr style=\"text-align: right;\">\n",
       "      <th></th>\n",
       "      <th>longitude</th>\n",
       "      <th>latitude</th>\n",
       "      <th>housing_median_age</th>\n",
       "      <th>total_rooms</th>\n",
       "      <th>total_bedrooms</th>\n",
       "      <th>population</th>\n",
       "      <th>households</th>\n",
       "      <th>median_income</th>\n",
       "      <th>median_house_value</th>\n",
       "      <th>ocean_proximity</th>\n",
       "    </tr>\n",
       "  </thead>\n",
       "  <tbody>\n",
       "    <tr>\n",
       "      <th>0</th>\n",
       "      <td>-122.23</td>\n",
       "      <td>37.88</td>\n",
       "      <td>41.0</td>\n",
       "      <td>880.0</td>\n",
       "      <td>129.0</td>\n",
       "      <td>322.0</td>\n",
       "      <td>126.0</td>\n",
       "      <td>8.3252</td>\n",
       "      <td>452600.0</td>\n",
       "      <td>NEAR BAY</td>\n",
       "    </tr>\n",
       "    <tr>\n",
       "      <th>1</th>\n",
       "      <td>-122.22</td>\n",
       "      <td>37.86</td>\n",
       "      <td>21.0</td>\n",
       "      <td>7099.0</td>\n",
       "      <td>1106.0</td>\n",
       "      <td>2401.0</td>\n",
       "      <td>1138.0</td>\n",
       "      <td>8.3014</td>\n",
       "      <td>358500.0</td>\n",
       "      <td>NEAR BAY</td>\n",
       "    </tr>\n",
       "    <tr>\n",
       "      <th>2</th>\n",
       "      <td>-122.24</td>\n",
       "      <td>37.85</td>\n",
       "      <td>52.0</td>\n",
       "      <td>1467.0</td>\n",
       "      <td>190.0</td>\n",
       "      <td>496.0</td>\n",
       "      <td>177.0</td>\n",
       "      <td>7.2574</td>\n",
       "      <td>352100.0</td>\n",
       "      <td>NEAR BAY</td>\n",
       "    </tr>\n",
       "    <tr>\n",
       "      <th>3</th>\n",
       "      <td>-122.25</td>\n",
       "      <td>37.85</td>\n",
       "      <td>52.0</td>\n",
       "      <td>1274.0</td>\n",
       "      <td>235.0</td>\n",
       "      <td>558.0</td>\n",
       "      <td>219.0</td>\n",
       "      <td>5.6431</td>\n",
       "      <td>341300.0</td>\n",
       "      <td>NEAR BAY</td>\n",
       "    </tr>\n",
       "    <tr>\n",
       "      <th>4</th>\n",
       "      <td>-122.25</td>\n",
       "      <td>37.85</td>\n",
       "      <td>52.0</td>\n",
       "      <td>1627.0</td>\n",
       "      <td>280.0</td>\n",
       "      <td>565.0</td>\n",
       "      <td>259.0</td>\n",
       "      <td>3.8462</td>\n",
       "      <td>342200.0</td>\n",
       "      <td>NEAR BAY</td>\n",
       "    </tr>\n",
       "    <tr>\n",
       "      <th>...</th>\n",
       "      <td>...</td>\n",
       "      <td>...</td>\n",
       "      <td>...</td>\n",
       "      <td>...</td>\n",
       "      <td>...</td>\n",
       "      <td>...</td>\n",
       "      <td>...</td>\n",
       "      <td>...</td>\n",
       "      <td>...</td>\n",
       "      <td>...</td>\n",
       "    </tr>\n",
       "    <tr>\n",
       "      <th>20635</th>\n",
       "      <td>-121.09</td>\n",
       "      <td>39.48</td>\n",
       "      <td>25.0</td>\n",
       "      <td>1665.0</td>\n",
       "      <td>374.0</td>\n",
       "      <td>845.0</td>\n",
       "      <td>330.0</td>\n",
       "      <td>1.5603</td>\n",
       "      <td>78100.0</td>\n",
       "      <td>INLAND</td>\n",
       "    </tr>\n",
       "    <tr>\n",
       "      <th>20636</th>\n",
       "      <td>-121.21</td>\n",
       "      <td>39.49</td>\n",
       "      <td>18.0</td>\n",
       "      <td>697.0</td>\n",
       "      <td>150.0</td>\n",
       "      <td>356.0</td>\n",
       "      <td>114.0</td>\n",
       "      <td>2.5568</td>\n",
       "      <td>77100.0</td>\n",
       "      <td>INLAND</td>\n",
       "    </tr>\n",
       "    <tr>\n",
       "      <th>20637</th>\n",
       "      <td>-121.22</td>\n",
       "      <td>39.43</td>\n",
       "      <td>17.0</td>\n",
       "      <td>2254.0</td>\n",
       "      <td>485.0</td>\n",
       "      <td>1007.0</td>\n",
       "      <td>433.0</td>\n",
       "      <td>1.7000</td>\n",
       "      <td>92300.0</td>\n",
       "      <td>INLAND</td>\n",
       "    </tr>\n",
       "    <tr>\n",
       "      <th>20638</th>\n",
       "      <td>-121.32</td>\n",
       "      <td>39.43</td>\n",
       "      <td>18.0</td>\n",
       "      <td>1860.0</td>\n",
       "      <td>409.0</td>\n",
       "      <td>741.0</td>\n",
       "      <td>349.0</td>\n",
       "      <td>1.8672</td>\n",
       "      <td>84700.0</td>\n",
       "      <td>INLAND</td>\n",
       "    </tr>\n",
       "    <tr>\n",
       "      <th>20639</th>\n",
       "      <td>-121.24</td>\n",
       "      <td>39.37</td>\n",
       "      <td>16.0</td>\n",
       "      <td>2785.0</td>\n",
       "      <td>616.0</td>\n",
       "      <td>1387.0</td>\n",
       "      <td>530.0</td>\n",
       "      <td>2.3886</td>\n",
       "      <td>89400.0</td>\n",
       "      <td>INLAND</td>\n",
       "    </tr>\n",
       "  </tbody>\n",
       "</table>\n",
       "<p>20640 rows × 10 columns</p>\n",
       "</div>"
      ],
      "text/plain": [
       "       longitude  latitude  housing_median_age  total_rooms  total_bedrooms  \\\n",
       "0        -122.23     37.88                41.0        880.0           129.0   \n",
       "1        -122.22     37.86                21.0       7099.0          1106.0   \n",
       "2        -122.24     37.85                52.0       1467.0           190.0   \n",
       "3        -122.25     37.85                52.0       1274.0           235.0   \n",
       "4        -122.25     37.85                52.0       1627.0           280.0   \n",
       "...          ...       ...                 ...          ...             ...   \n",
       "20635    -121.09     39.48                25.0       1665.0           374.0   \n",
       "20636    -121.21     39.49                18.0        697.0           150.0   \n",
       "20637    -121.22     39.43                17.0       2254.0           485.0   \n",
       "20638    -121.32     39.43                18.0       1860.0           409.0   \n",
       "20639    -121.24     39.37                16.0       2785.0           616.0   \n",
       "\n",
       "       population  households  median_income  median_house_value  \\\n",
       "0           322.0       126.0         8.3252            452600.0   \n",
       "1          2401.0      1138.0         8.3014            358500.0   \n",
       "2           496.0       177.0         7.2574            352100.0   \n",
       "3           558.0       219.0         5.6431            341300.0   \n",
       "4           565.0       259.0         3.8462            342200.0   \n",
       "...           ...         ...            ...                 ...   \n",
       "20635       845.0       330.0         1.5603             78100.0   \n",
       "20636       356.0       114.0         2.5568             77100.0   \n",
       "20637      1007.0       433.0         1.7000             92300.0   \n",
       "20638       741.0       349.0         1.8672             84700.0   \n",
       "20639      1387.0       530.0         2.3886             89400.0   \n",
       "\n",
       "      ocean_proximity  \n",
       "0            NEAR BAY  \n",
       "1            NEAR BAY  \n",
       "2            NEAR BAY  \n",
       "3            NEAR BAY  \n",
       "4            NEAR BAY  \n",
       "...               ...  \n",
       "20635          INLAND  \n",
       "20636          INLAND  \n",
       "20637          INLAND  \n",
       "20638          INLAND  \n",
       "20639          INLAND  \n",
       "\n",
       "[20640 rows x 10 columns]"
      ]
     },
     "execution_count": 13,
     "metadata": {},
     "output_type": "execute_result"
    }
   ],
   "source": [
    "dfpruebas"
   ]
  },
  {
   "cell_type": "markdown",
   "id": "7c4fd223",
   "metadata": {},
   "source": [
    "### Parquet"
   ]
  },
  {
   "cell_type": "markdown",
   "id": "0bec62ef",
   "metadata": {},
   "source": [
    "### Excel"
   ]
  },
  {
   "cell_type": "markdown",
   "id": "9fcd3e7b",
   "metadata": {},
   "source": [
    "## Vista de datos"
   ]
  },
  {
   "cell_type": "markdown",
   "id": "ce1d1902",
   "metadata": {},
   "source": [
    "### Ver primeras filas de los datos"
   ]
  },
  {
   "cell_type": "code",
   "execution_count": 14,
   "id": "4880d03a",
   "metadata": {},
   "outputs": [
    {
     "data": {
      "text/html": [
       "<div>\n",
       "<style scoped>\n",
       "    .dataframe tbody tr th:only-of-type {\n",
       "        vertical-align: middle;\n",
       "    }\n",
       "\n",
       "    .dataframe tbody tr th {\n",
       "        vertical-align: top;\n",
       "    }\n",
       "\n",
       "    .dataframe thead th {\n",
       "        text-align: right;\n",
       "    }\n",
       "</style>\n",
       "<table border=\"1\" class=\"dataframe\">\n",
       "  <thead>\n",
       "    <tr style=\"text-align: right;\">\n",
       "      <th></th>\n",
       "      <th>longitude</th>\n",
       "      <th>latitude</th>\n",
       "      <th>housing_median_age</th>\n",
       "      <th>total_rooms</th>\n",
       "      <th>total_bedrooms</th>\n",
       "      <th>population</th>\n",
       "      <th>households</th>\n",
       "      <th>median_income</th>\n",
       "      <th>median_house_value</th>\n",
       "      <th>ocean_proximity</th>\n",
       "    </tr>\n",
       "  </thead>\n",
       "  <tbody>\n",
       "    <tr>\n",
       "      <th>0</th>\n",
       "      <td>-122.23</td>\n",
       "      <td>37.88</td>\n",
       "      <td>41.0</td>\n",
       "      <td>880.0</td>\n",
       "      <td>129.0</td>\n",
       "      <td>322.0</td>\n",
       "      <td>126.0</td>\n",
       "      <td>8.3252</td>\n",
       "      <td>452600.0</td>\n",
       "      <td>NEAR BAY</td>\n",
       "    </tr>\n",
       "    <tr>\n",
       "      <th>1</th>\n",
       "      <td>-122.22</td>\n",
       "      <td>37.86</td>\n",
       "      <td>21.0</td>\n",
       "      <td>7099.0</td>\n",
       "      <td>1106.0</td>\n",
       "      <td>2401.0</td>\n",
       "      <td>1138.0</td>\n",
       "      <td>8.3014</td>\n",
       "      <td>358500.0</td>\n",
       "      <td>NEAR BAY</td>\n",
       "    </tr>\n",
       "    <tr>\n",
       "      <th>2</th>\n",
       "      <td>-122.24</td>\n",
       "      <td>37.85</td>\n",
       "      <td>52.0</td>\n",
       "      <td>1467.0</td>\n",
       "      <td>190.0</td>\n",
       "      <td>496.0</td>\n",
       "      <td>177.0</td>\n",
       "      <td>7.2574</td>\n",
       "      <td>352100.0</td>\n",
       "      <td>NEAR BAY</td>\n",
       "    </tr>\n",
       "    <tr>\n",
       "      <th>3</th>\n",
       "      <td>-122.25</td>\n",
       "      <td>37.85</td>\n",
       "      <td>52.0</td>\n",
       "      <td>1274.0</td>\n",
       "      <td>235.0</td>\n",
       "      <td>558.0</td>\n",
       "      <td>219.0</td>\n",
       "      <td>5.6431</td>\n",
       "      <td>341300.0</td>\n",
       "      <td>NEAR BAY</td>\n",
       "    </tr>\n",
       "    <tr>\n",
       "      <th>4</th>\n",
       "      <td>-122.25</td>\n",
       "      <td>37.85</td>\n",
       "      <td>52.0</td>\n",
       "      <td>1627.0</td>\n",
       "      <td>280.0</td>\n",
       "      <td>565.0</td>\n",
       "      <td>259.0</td>\n",
       "      <td>3.8462</td>\n",
       "      <td>342200.0</td>\n",
       "      <td>NEAR BAY</td>\n",
       "    </tr>\n",
       "  </tbody>\n",
       "</table>\n",
       "</div>"
      ],
      "text/plain": [
       "   longitude  latitude  housing_median_age  total_rooms  total_bedrooms  \\\n",
       "0    -122.23     37.88                41.0        880.0           129.0   \n",
       "1    -122.22     37.86                21.0       7099.0          1106.0   \n",
       "2    -122.24     37.85                52.0       1467.0           190.0   \n",
       "3    -122.25     37.85                52.0       1274.0           235.0   \n",
       "4    -122.25     37.85                52.0       1627.0           280.0   \n",
       "\n",
       "   population  households  median_income  median_house_value ocean_proximity  \n",
       "0       322.0       126.0         8.3252            452600.0        NEAR BAY  \n",
       "1      2401.0      1138.0         8.3014            358500.0        NEAR BAY  \n",
       "2       496.0       177.0         7.2574            352100.0        NEAR BAY  \n",
       "3       558.0       219.0         5.6431            341300.0        NEAR BAY  \n",
       "4       565.0       259.0         3.8462            342200.0        NEAR BAY  "
      ]
     },
     "execution_count": 14,
     "metadata": {},
     "output_type": "execute_result"
    }
   ],
   "source": [
    "dfpruebas.head()"
   ]
  },
  {
   "cell_type": "code",
   "execution_count": 15,
   "id": "4453c397",
   "metadata": {},
   "outputs": [
    {
     "data": {
      "text/html": [
       "<div>\n",
       "<style scoped>\n",
       "    .dataframe tbody tr th:only-of-type {\n",
       "        vertical-align: middle;\n",
       "    }\n",
       "\n",
       "    .dataframe tbody tr th {\n",
       "        vertical-align: top;\n",
       "    }\n",
       "\n",
       "    .dataframe thead th {\n",
       "        text-align: right;\n",
       "    }\n",
       "</style>\n",
       "<table border=\"1\" class=\"dataframe\">\n",
       "  <thead>\n",
       "    <tr style=\"text-align: right;\">\n",
       "      <th></th>\n",
       "      <th>longitude</th>\n",
       "      <th>latitude</th>\n",
       "      <th>housing_median_age</th>\n",
       "      <th>total_rooms</th>\n",
       "      <th>total_bedrooms</th>\n",
       "      <th>population</th>\n",
       "      <th>households</th>\n",
       "      <th>median_income</th>\n",
       "      <th>median_house_value</th>\n",
       "      <th>ocean_proximity</th>\n",
       "    </tr>\n",
       "  </thead>\n",
       "  <tbody>\n",
       "    <tr>\n",
       "      <th>0</th>\n",
       "      <td>-122.23</td>\n",
       "      <td>37.88</td>\n",
       "      <td>41.0</td>\n",
       "      <td>880.0</td>\n",
       "      <td>129.0</td>\n",
       "      <td>322.0</td>\n",
       "      <td>126.0</td>\n",
       "      <td>8.3252</td>\n",
       "      <td>452600.0</td>\n",
       "      <td>NEAR BAY</td>\n",
       "    </tr>\n",
       "    <tr>\n",
       "      <th>1</th>\n",
       "      <td>-122.22</td>\n",
       "      <td>37.86</td>\n",
       "      <td>21.0</td>\n",
       "      <td>7099.0</td>\n",
       "      <td>1106.0</td>\n",
       "      <td>2401.0</td>\n",
       "      <td>1138.0</td>\n",
       "      <td>8.3014</td>\n",
       "      <td>358500.0</td>\n",
       "      <td>NEAR BAY</td>\n",
       "    </tr>\n",
       "    <tr>\n",
       "      <th>2</th>\n",
       "      <td>-122.24</td>\n",
       "      <td>37.85</td>\n",
       "      <td>52.0</td>\n",
       "      <td>1467.0</td>\n",
       "      <td>190.0</td>\n",
       "      <td>496.0</td>\n",
       "      <td>177.0</td>\n",
       "      <td>7.2574</td>\n",
       "      <td>352100.0</td>\n",
       "      <td>NEAR BAY</td>\n",
       "    </tr>\n",
       "    <tr>\n",
       "      <th>3</th>\n",
       "      <td>-122.25</td>\n",
       "      <td>37.85</td>\n",
       "      <td>52.0</td>\n",
       "      <td>1274.0</td>\n",
       "      <td>235.0</td>\n",
       "      <td>558.0</td>\n",
       "      <td>219.0</td>\n",
       "      <td>5.6431</td>\n",
       "      <td>341300.0</td>\n",
       "      <td>NEAR BAY</td>\n",
       "    </tr>\n",
       "    <tr>\n",
       "      <th>4</th>\n",
       "      <td>-122.25</td>\n",
       "      <td>37.85</td>\n",
       "      <td>52.0</td>\n",
       "      <td>1627.0</td>\n",
       "      <td>280.0</td>\n",
       "      <td>565.0</td>\n",
       "      <td>259.0</td>\n",
       "      <td>3.8462</td>\n",
       "      <td>342200.0</td>\n",
       "      <td>NEAR BAY</td>\n",
       "    </tr>\n",
       "    <tr>\n",
       "      <th>5</th>\n",
       "      <td>-122.25</td>\n",
       "      <td>37.85</td>\n",
       "      <td>52.0</td>\n",
       "      <td>919.0</td>\n",
       "      <td>213.0</td>\n",
       "      <td>413.0</td>\n",
       "      <td>193.0</td>\n",
       "      <td>4.0368</td>\n",
       "      <td>269700.0</td>\n",
       "      <td>NEAR BAY</td>\n",
       "    </tr>\n",
       "    <tr>\n",
       "      <th>6</th>\n",
       "      <td>-122.25</td>\n",
       "      <td>37.84</td>\n",
       "      <td>52.0</td>\n",
       "      <td>2535.0</td>\n",
       "      <td>489.0</td>\n",
       "      <td>1094.0</td>\n",
       "      <td>514.0</td>\n",
       "      <td>3.6591</td>\n",
       "      <td>299200.0</td>\n",
       "      <td>NEAR BAY</td>\n",
       "    </tr>\n",
       "    <tr>\n",
       "      <th>7</th>\n",
       "      <td>-122.25</td>\n",
       "      <td>37.84</td>\n",
       "      <td>52.0</td>\n",
       "      <td>3104.0</td>\n",
       "      <td>687.0</td>\n",
       "      <td>1157.0</td>\n",
       "      <td>647.0</td>\n",
       "      <td>3.1200</td>\n",
       "      <td>241400.0</td>\n",
       "      <td>NEAR BAY</td>\n",
       "    </tr>\n",
       "  </tbody>\n",
       "</table>\n",
       "</div>"
      ],
      "text/plain": [
       "   longitude  latitude  housing_median_age  total_rooms  total_bedrooms  \\\n",
       "0    -122.23     37.88                41.0        880.0           129.0   \n",
       "1    -122.22     37.86                21.0       7099.0          1106.0   \n",
       "2    -122.24     37.85                52.0       1467.0           190.0   \n",
       "3    -122.25     37.85                52.0       1274.0           235.0   \n",
       "4    -122.25     37.85                52.0       1627.0           280.0   \n",
       "5    -122.25     37.85                52.0        919.0           213.0   \n",
       "6    -122.25     37.84                52.0       2535.0           489.0   \n",
       "7    -122.25     37.84                52.0       3104.0           687.0   \n",
       "\n",
       "   population  households  median_income  median_house_value ocean_proximity  \n",
       "0       322.0       126.0         8.3252            452600.0        NEAR BAY  \n",
       "1      2401.0      1138.0         8.3014            358500.0        NEAR BAY  \n",
       "2       496.0       177.0         7.2574            352100.0        NEAR BAY  \n",
       "3       558.0       219.0         5.6431            341300.0        NEAR BAY  \n",
       "4       565.0       259.0         3.8462            342200.0        NEAR BAY  \n",
       "5       413.0       193.0         4.0368            269700.0        NEAR BAY  \n",
       "6      1094.0       514.0         3.6591            299200.0        NEAR BAY  \n",
       "7      1157.0       647.0         3.1200            241400.0        NEAR BAY  "
      ]
     },
     "execution_count": 15,
     "metadata": {},
     "output_type": "execute_result"
    }
   ],
   "source": [
    "dfpruebas.head(8)"
   ]
  },
  {
   "cell_type": "markdown",
   "id": "2a479eaf",
   "metadata": {},
   "source": [
    "### Ver últimas filas de los datos"
   ]
  },
  {
   "cell_type": "code",
   "execution_count": 16,
   "id": "43f5eb94",
   "metadata": {
    "scrolled": true
   },
   "outputs": [
    {
     "data": {
      "text/html": [
       "<div>\n",
       "<style scoped>\n",
       "    .dataframe tbody tr th:only-of-type {\n",
       "        vertical-align: middle;\n",
       "    }\n",
       "\n",
       "    .dataframe tbody tr th {\n",
       "        vertical-align: top;\n",
       "    }\n",
       "\n",
       "    .dataframe thead th {\n",
       "        text-align: right;\n",
       "    }\n",
       "</style>\n",
       "<table border=\"1\" class=\"dataframe\">\n",
       "  <thead>\n",
       "    <tr style=\"text-align: right;\">\n",
       "      <th></th>\n",
       "      <th>longitude</th>\n",
       "      <th>latitude</th>\n",
       "      <th>housing_median_age</th>\n",
       "      <th>total_rooms</th>\n",
       "      <th>total_bedrooms</th>\n",
       "      <th>population</th>\n",
       "      <th>households</th>\n",
       "      <th>median_income</th>\n",
       "      <th>median_house_value</th>\n",
       "      <th>ocean_proximity</th>\n",
       "    </tr>\n",
       "  </thead>\n",
       "  <tbody>\n",
       "    <tr>\n",
       "      <th>20635</th>\n",
       "      <td>-121.09</td>\n",
       "      <td>39.48</td>\n",
       "      <td>25.0</td>\n",
       "      <td>1665.0</td>\n",
       "      <td>374.0</td>\n",
       "      <td>845.0</td>\n",
       "      <td>330.0</td>\n",
       "      <td>1.5603</td>\n",
       "      <td>78100.0</td>\n",
       "      <td>INLAND</td>\n",
       "    </tr>\n",
       "    <tr>\n",
       "      <th>20636</th>\n",
       "      <td>-121.21</td>\n",
       "      <td>39.49</td>\n",
       "      <td>18.0</td>\n",
       "      <td>697.0</td>\n",
       "      <td>150.0</td>\n",
       "      <td>356.0</td>\n",
       "      <td>114.0</td>\n",
       "      <td>2.5568</td>\n",
       "      <td>77100.0</td>\n",
       "      <td>INLAND</td>\n",
       "    </tr>\n",
       "    <tr>\n",
       "      <th>20637</th>\n",
       "      <td>-121.22</td>\n",
       "      <td>39.43</td>\n",
       "      <td>17.0</td>\n",
       "      <td>2254.0</td>\n",
       "      <td>485.0</td>\n",
       "      <td>1007.0</td>\n",
       "      <td>433.0</td>\n",
       "      <td>1.7000</td>\n",
       "      <td>92300.0</td>\n",
       "      <td>INLAND</td>\n",
       "    </tr>\n",
       "    <tr>\n",
       "      <th>20638</th>\n",
       "      <td>-121.32</td>\n",
       "      <td>39.43</td>\n",
       "      <td>18.0</td>\n",
       "      <td>1860.0</td>\n",
       "      <td>409.0</td>\n",
       "      <td>741.0</td>\n",
       "      <td>349.0</td>\n",
       "      <td>1.8672</td>\n",
       "      <td>84700.0</td>\n",
       "      <td>INLAND</td>\n",
       "    </tr>\n",
       "    <tr>\n",
       "      <th>20639</th>\n",
       "      <td>-121.24</td>\n",
       "      <td>39.37</td>\n",
       "      <td>16.0</td>\n",
       "      <td>2785.0</td>\n",
       "      <td>616.0</td>\n",
       "      <td>1387.0</td>\n",
       "      <td>530.0</td>\n",
       "      <td>2.3886</td>\n",
       "      <td>89400.0</td>\n",
       "      <td>INLAND</td>\n",
       "    </tr>\n",
       "  </tbody>\n",
       "</table>\n",
       "</div>"
      ],
      "text/plain": [
       "       longitude  latitude  housing_median_age  total_rooms  total_bedrooms  \\\n",
       "20635    -121.09     39.48                25.0       1665.0           374.0   \n",
       "20636    -121.21     39.49                18.0        697.0           150.0   \n",
       "20637    -121.22     39.43                17.0       2254.0           485.0   \n",
       "20638    -121.32     39.43                18.0       1860.0           409.0   \n",
       "20639    -121.24     39.37                16.0       2785.0           616.0   \n",
       "\n",
       "       population  households  median_income  median_house_value  \\\n",
       "20635       845.0       330.0         1.5603             78100.0   \n",
       "20636       356.0       114.0         2.5568             77100.0   \n",
       "20637      1007.0       433.0         1.7000             92300.0   \n",
       "20638       741.0       349.0         1.8672             84700.0   \n",
       "20639      1387.0       530.0         2.3886             89400.0   \n",
       "\n",
       "      ocean_proximity  \n",
       "20635          INLAND  \n",
       "20636          INLAND  \n",
       "20637          INLAND  \n",
       "20638          INLAND  \n",
       "20639          INLAND  "
      ]
     },
     "execution_count": 16,
     "metadata": {},
     "output_type": "execute_result"
    }
   ],
   "source": [
    "dfpruebas.tail()"
   ]
  },
  {
   "cell_type": "code",
   "execution_count": 17,
   "id": "d5a4f45f",
   "metadata": {
    "scrolled": true
   },
   "outputs": [
    {
     "data": {
      "text/html": [
       "<div>\n",
       "<style scoped>\n",
       "    .dataframe tbody tr th:only-of-type {\n",
       "        vertical-align: middle;\n",
       "    }\n",
       "\n",
       "    .dataframe tbody tr th {\n",
       "        vertical-align: top;\n",
       "    }\n",
       "\n",
       "    .dataframe thead th {\n",
       "        text-align: right;\n",
       "    }\n",
       "</style>\n",
       "<table border=\"1\" class=\"dataframe\">\n",
       "  <thead>\n",
       "    <tr style=\"text-align: right;\">\n",
       "      <th></th>\n",
       "      <th>longitude</th>\n",
       "      <th>latitude</th>\n",
       "      <th>housing_median_age</th>\n",
       "      <th>total_rooms</th>\n",
       "      <th>total_bedrooms</th>\n",
       "      <th>population</th>\n",
       "      <th>households</th>\n",
       "      <th>median_income</th>\n",
       "      <th>median_house_value</th>\n",
       "      <th>ocean_proximity</th>\n",
       "    </tr>\n",
       "  </thead>\n",
       "  <tbody>\n",
       "    <tr>\n",
       "      <th>20638</th>\n",
       "      <td>-121.32</td>\n",
       "      <td>39.43</td>\n",
       "      <td>18.0</td>\n",
       "      <td>1860.0</td>\n",
       "      <td>409.0</td>\n",
       "      <td>741.0</td>\n",
       "      <td>349.0</td>\n",
       "      <td>1.8672</td>\n",
       "      <td>84700.0</td>\n",
       "      <td>INLAND</td>\n",
       "    </tr>\n",
       "    <tr>\n",
       "      <th>20639</th>\n",
       "      <td>-121.24</td>\n",
       "      <td>39.37</td>\n",
       "      <td>16.0</td>\n",
       "      <td>2785.0</td>\n",
       "      <td>616.0</td>\n",
       "      <td>1387.0</td>\n",
       "      <td>530.0</td>\n",
       "      <td>2.3886</td>\n",
       "      <td>89400.0</td>\n",
       "      <td>INLAND</td>\n",
       "    </tr>\n",
       "  </tbody>\n",
       "</table>\n",
       "</div>"
      ],
      "text/plain": [
       "       longitude  latitude  housing_median_age  total_rooms  total_bedrooms  \\\n",
       "20638    -121.32     39.43                18.0       1860.0           409.0   \n",
       "20639    -121.24     39.37                16.0       2785.0           616.0   \n",
       "\n",
       "       population  households  median_income  median_house_value  \\\n",
       "20638       741.0       349.0         1.8672             84700.0   \n",
       "20639      1387.0       530.0         2.3886             89400.0   \n",
       "\n",
       "      ocean_proximity  \n",
       "20638          INLAND  \n",
       "20639          INLAND  "
      ]
     },
     "execution_count": 17,
     "metadata": {},
     "output_type": "execute_result"
    }
   ],
   "source": [
    "dfpruebas.tail(2)"
   ]
  },
  {
   "cell_type": "markdown",
   "id": "d45667eb",
   "metadata": {},
   "source": [
    "### Ver valores de índice"
   ]
  },
  {
   "cell_type": "code",
   "execution_count": 18,
   "id": "e5c5185e",
   "metadata": {
    "scrolled": true
   },
   "outputs": [
    {
     "data": {
      "text/plain": [
       "RangeIndex(start=0, stop=20640, step=1)"
      ]
     },
     "execution_count": 18,
     "metadata": {},
     "output_type": "execute_result"
    }
   ],
   "source": [
    "dfpruebas.index"
   ]
  },
  {
   "cell_type": "markdown",
   "id": "8fedf99a",
   "metadata": {},
   "source": [
    "### Ver nombres de las columnas"
   ]
  },
  {
   "cell_type": "code",
   "execution_count": 19,
   "id": "7481ea83",
   "metadata": {},
   "outputs": [
    {
     "data": {
      "text/plain": [
       "Index(['longitude', 'latitude', 'housing_median_age', 'total_rooms',\n",
       "       'total_bedrooms', 'population', 'households', 'median_income',\n",
       "       'median_house_value', 'ocean_proximity'],\n",
       "      dtype='object')"
      ]
     },
     "execution_count": 19,
     "metadata": {},
     "output_type": "execute_result"
    }
   ],
   "source": [
    "dfpruebas.columns"
   ]
  },
  {
   "cell_type": "markdown",
   "id": "8843d10b",
   "metadata": {},
   "source": [
    "### Sumario estadístico de datos"
   ]
  },
  {
   "cell_type": "code",
   "execution_count": 20,
   "id": "3628fddb",
   "metadata": {
    "scrolled": true
   },
   "outputs": [
    {
     "data": {
      "text/html": [
       "<div>\n",
       "<style scoped>\n",
       "    .dataframe tbody tr th:only-of-type {\n",
       "        vertical-align: middle;\n",
       "    }\n",
       "\n",
       "    .dataframe tbody tr th {\n",
       "        vertical-align: top;\n",
       "    }\n",
       "\n",
       "    .dataframe thead th {\n",
       "        text-align: right;\n",
       "    }\n",
       "</style>\n",
       "<table border=\"1\" class=\"dataframe\">\n",
       "  <thead>\n",
       "    <tr style=\"text-align: right;\">\n",
       "      <th></th>\n",
       "      <th>longitude</th>\n",
       "      <th>latitude</th>\n",
       "      <th>housing_median_age</th>\n",
       "      <th>total_rooms</th>\n",
       "      <th>total_bedrooms</th>\n",
       "      <th>population</th>\n",
       "      <th>households</th>\n",
       "      <th>median_income</th>\n",
       "      <th>median_house_value</th>\n",
       "    </tr>\n",
       "  </thead>\n",
       "  <tbody>\n",
       "    <tr>\n",
       "      <th>count</th>\n",
       "      <td>20640.000000</td>\n",
       "      <td>20640.000000</td>\n",
       "      <td>20640.000000</td>\n",
       "      <td>20640.000000</td>\n",
       "      <td>20433.000000</td>\n",
       "      <td>20640.000000</td>\n",
       "      <td>20640.000000</td>\n",
       "      <td>20640.000000</td>\n",
       "      <td>20640.000000</td>\n",
       "    </tr>\n",
       "    <tr>\n",
       "      <th>mean</th>\n",
       "      <td>-119.569704</td>\n",
       "      <td>35.631861</td>\n",
       "      <td>28.639486</td>\n",
       "      <td>2635.763081</td>\n",
       "      <td>537.870553</td>\n",
       "      <td>1425.476744</td>\n",
       "      <td>499.539680</td>\n",
       "      <td>3.870671</td>\n",
       "      <td>206855.816909</td>\n",
       "    </tr>\n",
       "    <tr>\n",
       "      <th>std</th>\n",
       "      <td>2.003532</td>\n",
       "      <td>2.135952</td>\n",
       "      <td>12.585558</td>\n",
       "      <td>2181.615252</td>\n",
       "      <td>421.385070</td>\n",
       "      <td>1132.462122</td>\n",
       "      <td>382.329753</td>\n",
       "      <td>1.899822</td>\n",
       "      <td>115395.615874</td>\n",
       "    </tr>\n",
       "    <tr>\n",
       "      <th>min</th>\n",
       "      <td>-124.350000</td>\n",
       "      <td>32.540000</td>\n",
       "      <td>1.000000</td>\n",
       "      <td>2.000000</td>\n",
       "      <td>1.000000</td>\n",
       "      <td>3.000000</td>\n",
       "      <td>1.000000</td>\n",
       "      <td>0.499900</td>\n",
       "      <td>14999.000000</td>\n",
       "    </tr>\n",
       "    <tr>\n",
       "      <th>25%</th>\n",
       "      <td>-121.800000</td>\n",
       "      <td>33.930000</td>\n",
       "      <td>18.000000</td>\n",
       "      <td>1447.750000</td>\n",
       "      <td>296.000000</td>\n",
       "      <td>787.000000</td>\n",
       "      <td>280.000000</td>\n",
       "      <td>2.563400</td>\n",
       "      <td>119600.000000</td>\n",
       "    </tr>\n",
       "    <tr>\n",
       "      <th>50%</th>\n",
       "      <td>-118.490000</td>\n",
       "      <td>34.260000</td>\n",
       "      <td>29.000000</td>\n",
       "      <td>2127.000000</td>\n",
       "      <td>435.000000</td>\n",
       "      <td>1166.000000</td>\n",
       "      <td>409.000000</td>\n",
       "      <td>3.534800</td>\n",
       "      <td>179700.000000</td>\n",
       "    </tr>\n",
       "    <tr>\n",
       "      <th>75%</th>\n",
       "      <td>-118.010000</td>\n",
       "      <td>37.710000</td>\n",
       "      <td>37.000000</td>\n",
       "      <td>3148.000000</td>\n",
       "      <td>647.000000</td>\n",
       "      <td>1725.000000</td>\n",
       "      <td>605.000000</td>\n",
       "      <td>4.743250</td>\n",
       "      <td>264725.000000</td>\n",
       "    </tr>\n",
       "    <tr>\n",
       "      <th>max</th>\n",
       "      <td>-114.310000</td>\n",
       "      <td>41.950000</td>\n",
       "      <td>52.000000</td>\n",
       "      <td>39320.000000</td>\n",
       "      <td>6445.000000</td>\n",
       "      <td>35682.000000</td>\n",
       "      <td>6082.000000</td>\n",
       "      <td>15.000100</td>\n",
       "      <td>500001.000000</td>\n",
       "    </tr>\n",
       "  </tbody>\n",
       "</table>\n",
       "</div>"
      ],
      "text/plain": [
       "          longitude      latitude  housing_median_age   total_rooms  \\\n",
       "count  20640.000000  20640.000000        20640.000000  20640.000000   \n",
       "mean    -119.569704     35.631861           28.639486   2635.763081   \n",
       "std        2.003532      2.135952           12.585558   2181.615252   \n",
       "min     -124.350000     32.540000            1.000000      2.000000   \n",
       "25%     -121.800000     33.930000           18.000000   1447.750000   \n",
       "50%     -118.490000     34.260000           29.000000   2127.000000   \n",
       "75%     -118.010000     37.710000           37.000000   3148.000000   \n",
       "max     -114.310000     41.950000           52.000000  39320.000000   \n",
       "\n",
       "       total_bedrooms    population    households  median_income  \\\n",
       "count    20433.000000  20640.000000  20640.000000   20640.000000   \n",
       "mean       537.870553   1425.476744    499.539680       3.870671   \n",
       "std        421.385070   1132.462122    382.329753       1.899822   \n",
       "min          1.000000      3.000000      1.000000       0.499900   \n",
       "25%        296.000000    787.000000    280.000000       2.563400   \n",
       "50%        435.000000   1166.000000    409.000000       3.534800   \n",
       "75%        647.000000   1725.000000    605.000000       4.743250   \n",
       "max       6445.000000  35682.000000   6082.000000      15.000100   \n",
       "\n",
       "       median_house_value  \n",
       "count        20640.000000  \n",
       "mean        206855.816909  \n",
       "std         115395.615874  \n",
       "min          14999.000000  \n",
       "25%         119600.000000  \n",
       "50%         179700.000000  \n",
       "75%         264725.000000  \n",
       "max         500001.000000  "
      ]
     },
     "execution_count": 20,
     "metadata": {},
     "output_type": "execute_result"
    }
   ],
   "source": [
    "dfpruebas.describe()"
   ]
  },
  {
   "cell_type": "code",
   "execution_count": 21,
   "id": "04292ad9",
   "metadata": {},
   "outputs": [
    {
     "data": {
      "text/html": [
       "<div>\n",
       "<style scoped>\n",
       "    .dataframe tbody tr th:only-of-type {\n",
       "        vertical-align: middle;\n",
       "    }\n",
       "\n",
       "    .dataframe tbody tr th {\n",
       "        vertical-align: top;\n",
       "    }\n",
       "\n",
       "    .dataframe thead th {\n",
       "        text-align: right;\n",
       "    }\n",
       "</style>\n",
       "<table border=\"1\" class=\"dataframe\">\n",
       "  <thead>\n",
       "    <tr style=\"text-align: right;\">\n",
       "      <th></th>\n",
       "      <th>longitude</th>\n",
       "      <th>latitude</th>\n",
       "      <th>housing_median_age</th>\n",
       "      <th>total_rooms</th>\n",
       "      <th>total_bedrooms</th>\n",
       "      <th>population</th>\n",
       "      <th>households</th>\n",
       "      <th>median_income</th>\n",
       "      <th>median_house_value</th>\n",
       "      <th>ocean_proximity</th>\n",
       "    </tr>\n",
       "  </thead>\n",
       "  <tbody>\n",
       "    <tr>\n",
       "      <th>count</th>\n",
       "      <td>20640.000000</td>\n",
       "      <td>20640.000000</td>\n",
       "      <td>20640.000000</td>\n",
       "      <td>20640.000000</td>\n",
       "      <td>20433.000000</td>\n",
       "      <td>20640.000000</td>\n",
       "      <td>20640.000000</td>\n",
       "      <td>20640.000000</td>\n",
       "      <td>20640.000000</td>\n",
       "      <td>20640</td>\n",
       "    </tr>\n",
       "    <tr>\n",
       "      <th>unique</th>\n",
       "      <td>NaN</td>\n",
       "      <td>NaN</td>\n",
       "      <td>NaN</td>\n",
       "      <td>NaN</td>\n",
       "      <td>NaN</td>\n",
       "      <td>NaN</td>\n",
       "      <td>NaN</td>\n",
       "      <td>NaN</td>\n",
       "      <td>NaN</td>\n",
       "      <td>5</td>\n",
       "    </tr>\n",
       "    <tr>\n",
       "      <th>top</th>\n",
       "      <td>NaN</td>\n",
       "      <td>NaN</td>\n",
       "      <td>NaN</td>\n",
       "      <td>NaN</td>\n",
       "      <td>NaN</td>\n",
       "      <td>NaN</td>\n",
       "      <td>NaN</td>\n",
       "      <td>NaN</td>\n",
       "      <td>NaN</td>\n",
       "      <td>&lt;1H OCEAN</td>\n",
       "    </tr>\n",
       "    <tr>\n",
       "      <th>freq</th>\n",
       "      <td>NaN</td>\n",
       "      <td>NaN</td>\n",
       "      <td>NaN</td>\n",
       "      <td>NaN</td>\n",
       "      <td>NaN</td>\n",
       "      <td>NaN</td>\n",
       "      <td>NaN</td>\n",
       "      <td>NaN</td>\n",
       "      <td>NaN</td>\n",
       "      <td>9136</td>\n",
       "    </tr>\n",
       "    <tr>\n",
       "      <th>mean</th>\n",
       "      <td>-119.569704</td>\n",
       "      <td>35.631861</td>\n",
       "      <td>28.639486</td>\n",
       "      <td>2635.763081</td>\n",
       "      <td>537.870553</td>\n",
       "      <td>1425.476744</td>\n",
       "      <td>499.539680</td>\n",
       "      <td>3.870671</td>\n",
       "      <td>206855.816909</td>\n",
       "      <td>NaN</td>\n",
       "    </tr>\n",
       "    <tr>\n",
       "      <th>std</th>\n",
       "      <td>2.003532</td>\n",
       "      <td>2.135952</td>\n",
       "      <td>12.585558</td>\n",
       "      <td>2181.615252</td>\n",
       "      <td>421.385070</td>\n",
       "      <td>1132.462122</td>\n",
       "      <td>382.329753</td>\n",
       "      <td>1.899822</td>\n",
       "      <td>115395.615874</td>\n",
       "      <td>NaN</td>\n",
       "    </tr>\n",
       "    <tr>\n",
       "      <th>min</th>\n",
       "      <td>-124.350000</td>\n",
       "      <td>32.540000</td>\n",
       "      <td>1.000000</td>\n",
       "      <td>2.000000</td>\n",
       "      <td>1.000000</td>\n",
       "      <td>3.000000</td>\n",
       "      <td>1.000000</td>\n",
       "      <td>0.499900</td>\n",
       "      <td>14999.000000</td>\n",
       "      <td>NaN</td>\n",
       "    </tr>\n",
       "    <tr>\n",
       "      <th>25%</th>\n",
       "      <td>-121.800000</td>\n",
       "      <td>33.930000</td>\n",
       "      <td>18.000000</td>\n",
       "      <td>1447.750000</td>\n",
       "      <td>296.000000</td>\n",
       "      <td>787.000000</td>\n",
       "      <td>280.000000</td>\n",
       "      <td>2.563400</td>\n",
       "      <td>119600.000000</td>\n",
       "      <td>NaN</td>\n",
       "    </tr>\n",
       "    <tr>\n",
       "      <th>50%</th>\n",
       "      <td>-118.490000</td>\n",
       "      <td>34.260000</td>\n",
       "      <td>29.000000</td>\n",
       "      <td>2127.000000</td>\n",
       "      <td>435.000000</td>\n",
       "      <td>1166.000000</td>\n",
       "      <td>409.000000</td>\n",
       "      <td>3.534800</td>\n",
       "      <td>179700.000000</td>\n",
       "      <td>NaN</td>\n",
       "    </tr>\n",
       "    <tr>\n",
       "      <th>75%</th>\n",
       "      <td>-118.010000</td>\n",
       "      <td>37.710000</td>\n",
       "      <td>37.000000</td>\n",
       "      <td>3148.000000</td>\n",
       "      <td>647.000000</td>\n",
       "      <td>1725.000000</td>\n",
       "      <td>605.000000</td>\n",
       "      <td>4.743250</td>\n",
       "      <td>264725.000000</td>\n",
       "      <td>NaN</td>\n",
       "    </tr>\n",
       "    <tr>\n",
       "      <th>max</th>\n",
       "      <td>-114.310000</td>\n",
       "      <td>41.950000</td>\n",
       "      <td>52.000000</td>\n",
       "      <td>39320.000000</td>\n",
       "      <td>6445.000000</td>\n",
       "      <td>35682.000000</td>\n",
       "      <td>6082.000000</td>\n",
       "      <td>15.000100</td>\n",
       "      <td>500001.000000</td>\n",
       "      <td>NaN</td>\n",
       "    </tr>\n",
       "  </tbody>\n",
       "</table>\n",
       "</div>"
      ],
      "text/plain": [
       "           longitude      latitude  housing_median_age   total_rooms  \\\n",
       "count   20640.000000  20640.000000        20640.000000  20640.000000   \n",
       "unique           NaN           NaN                 NaN           NaN   \n",
       "top              NaN           NaN                 NaN           NaN   \n",
       "freq             NaN           NaN                 NaN           NaN   \n",
       "mean     -119.569704     35.631861           28.639486   2635.763081   \n",
       "std         2.003532      2.135952           12.585558   2181.615252   \n",
       "min      -124.350000     32.540000            1.000000      2.000000   \n",
       "25%      -121.800000     33.930000           18.000000   1447.750000   \n",
       "50%      -118.490000     34.260000           29.000000   2127.000000   \n",
       "75%      -118.010000     37.710000           37.000000   3148.000000   \n",
       "max      -114.310000     41.950000           52.000000  39320.000000   \n",
       "\n",
       "        total_bedrooms    population    households  median_income  \\\n",
       "count     20433.000000  20640.000000  20640.000000   20640.000000   \n",
       "unique             NaN           NaN           NaN            NaN   \n",
       "top                NaN           NaN           NaN            NaN   \n",
       "freq               NaN           NaN           NaN            NaN   \n",
       "mean        537.870553   1425.476744    499.539680       3.870671   \n",
       "std         421.385070   1132.462122    382.329753       1.899822   \n",
       "min           1.000000      3.000000      1.000000       0.499900   \n",
       "25%         296.000000    787.000000    280.000000       2.563400   \n",
       "50%         435.000000   1166.000000    409.000000       3.534800   \n",
       "75%         647.000000   1725.000000    605.000000       4.743250   \n",
       "max        6445.000000  35682.000000   6082.000000      15.000100   \n",
       "\n",
       "        median_house_value ocean_proximity  \n",
       "count         20640.000000           20640  \n",
       "unique                 NaN               5  \n",
       "top                    NaN       <1H OCEAN  \n",
       "freq                   NaN            9136  \n",
       "mean         206855.816909             NaN  \n",
       "std          115395.615874             NaN  \n",
       "min           14999.000000             NaN  \n",
       "25%          119600.000000             NaN  \n",
       "50%          179700.000000             NaN  \n",
       "75%          264725.000000             NaN  \n",
       "max          500001.000000             NaN  "
      ]
     },
     "execution_count": 21,
     "metadata": {},
     "output_type": "execute_result"
    }
   ],
   "source": [
    "dfpruebas.describe(include='all')"
   ]
  },
  {
   "cell_type": "code",
   "execution_count": 22,
   "id": "1a29039e",
   "metadata": {},
   "outputs": [
    {
     "data": {
      "text/html": [
       "<div>\n",
       "<style scoped>\n",
       "    .dataframe tbody tr th:only-of-type {\n",
       "        vertical-align: middle;\n",
       "    }\n",
       "\n",
       "    .dataframe tbody tr th {\n",
       "        vertical-align: top;\n",
       "    }\n",
       "\n",
       "    .dataframe thead th {\n",
       "        text-align: right;\n",
       "    }\n",
       "</style>\n",
       "<table border=\"1\" class=\"dataframe\">\n",
       "  <thead>\n",
       "    <tr style=\"text-align: right;\">\n",
       "      <th></th>\n",
       "      <th>ocean_proximity</th>\n",
       "    </tr>\n",
       "  </thead>\n",
       "  <tbody>\n",
       "    <tr>\n",
       "      <th>count</th>\n",
       "      <td>20640</td>\n",
       "    </tr>\n",
       "    <tr>\n",
       "      <th>unique</th>\n",
       "      <td>5</td>\n",
       "    </tr>\n",
       "    <tr>\n",
       "      <th>top</th>\n",
       "      <td>&lt;1H OCEAN</td>\n",
       "    </tr>\n",
       "    <tr>\n",
       "      <th>freq</th>\n",
       "      <td>9136</td>\n",
       "    </tr>\n",
       "  </tbody>\n",
       "</table>\n",
       "</div>"
      ],
      "text/plain": [
       "       ocean_proximity\n",
       "count            20640\n",
       "unique               5\n",
       "top          <1H OCEAN\n",
       "freq              9136"
      ]
     },
     "execution_count": 22,
     "metadata": {},
     "output_type": "execute_result"
    }
   ],
   "source": [
    "dfpruebas.describe(include=['object'])"
   ]
  },
  {
   "cell_type": "markdown",
   "id": "48a68385",
   "metadata": {},
   "source": [
    "### Sumario de los datos del dataframe"
   ]
  },
  {
   "cell_type": "code",
   "execution_count": 23,
   "id": "626fb84f",
   "metadata": {},
   "outputs": [
    {
     "name": "stdout",
     "output_type": "stream",
     "text": [
      "<class 'pandas.core.frame.DataFrame'>\n",
      "RangeIndex: 20640 entries, 0 to 20639\n",
      "Data columns (total 10 columns):\n",
      " #   Column              Non-Null Count  Dtype  \n",
      "---  ------              --------------  -----  \n",
      " 0   longitude           20640 non-null  float64\n",
      " 1   latitude            20640 non-null  float64\n",
      " 2   housing_median_age  20640 non-null  float64\n",
      " 3   total_rooms         20640 non-null  float64\n",
      " 4   total_bedrooms      20433 non-null  float64\n",
      " 5   population          20640 non-null  float64\n",
      " 6   households          20640 non-null  float64\n",
      " 7   median_income       20640 non-null  float64\n",
      " 8   median_house_value  20640 non-null  float64\n",
      " 9   ocean_proximity     20640 non-null  object \n",
      "dtypes: float64(9), object(1)\n",
      "memory usage: 1.6+ MB\n"
     ]
    }
   ],
   "source": [
    "dfpruebas.info()"
   ]
  },
  {
   "cell_type": "markdown",
   "id": "65f6a134",
   "metadata": {},
   "source": [
    "## Transformación de datos"
   ]
  },
  {
   "cell_type": "markdown",
   "id": "93ad7cc8",
   "metadata": {},
   "source": [
    "### Convertir df a representación numpy"
   ]
  },
  {
   "cell_type": "code",
   "execution_count": 24,
   "id": "1790a560",
   "metadata": {},
   "outputs": [
    {
     "data": {
      "text/plain": [
       "array([[-122.23, 37.88, 41.0, ..., 8.3252, 452600.0, 'NEAR BAY'],\n",
       "       [-122.22, 37.86, 21.0, ..., 8.3014, 358500.0, 'NEAR BAY'],\n",
       "       [-122.24, 37.85, 52.0, ..., 7.2574, 352100.0, 'NEAR BAY'],\n",
       "       ...,\n",
       "       [-121.22, 39.43, 17.0, ..., 1.7, 92300.0, 'INLAND'],\n",
       "       [-121.32, 39.43, 18.0, ..., 1.8672, 84700.0, 'INLAND'],\n",
       "       [-121.24, 39.37, 16.0, ..., 2.3886, 89400.0, 'INLAND']],\n",
       "      dtype=object)"
      ]
     },
     "execution_count": 24,
     "metadata": {},
     "output_type": "execute_result"
    }
   ],
   "source": [
    "dfpruebas.to_numpy()"
   ]
  },
  {
   "cell_type": "markdown",
   "id": "e49b408e",
   "metadata": {},
   "source": [
    "### Trasponer los datos"
   ]
  },
  {
   "cell_type": "code",
   "execution_count": 25,
   "id": "046401fd",
   "metadata": {},
   "outputs": [
    {
     "data": {
      "text/html": [
       "<div>\n",
       "<style scoped>\n",
       "    .dataframe tbody tr th:only-of-type {\n",
       "        vertical-align: middle;\n",
       "    }\n",
       "\n",
       "    .dataframe tbody tr th {\n",
       "        vertical-align: top;\n",
       "    }\n",
       "\n",
       "    .dataframe thead th {\n",
       "        text-align: right;\n",
       "    }\n",
       "</style>\n",
       "<table border=\"1\" class=\"dataframe\">\n",
       "  <thead>\n",
       "    <tr style=\"text-align: right;\">\n",
       "      <th></th>\n",
       "      <th>0</th>\n",
       "      <th>1</th>\n",
       "      <th>2</th>\n",
       "      <th>3</th>\n",
       "      <th>4</th>\n",
       "      <th>5</th>\n",
       "      <th>6</th>\n",
       "      <th>7</th>\n",
       "      <th>8</th>\n",
       "      <th>9</th>\n",
       "      <th>...</th>\n",
       "      <th>20630</th>\n",
       "      <th>20631</th>\n",
       "      <th>20632</th>\n",
       "      <th>20633</th>\n",
       "      <th>20634</th>\n",
       "      <th>20635</th>\n",
       "      <th>20636</th>\n",
       "      <th>20637</th>\n",
       "      <th>20638</th>\n",
       "      <th>20639</th>\n",
       "    </tr>\n",
       "  </thead>\n",
       "  <tbody>\n",
       "    <tr>\n",
       "      <th>longitude</th>\n",
       "      <td>-122.23</td>\n",
       "      <td>-122.22</td>\n",
       "      <td>-122.24</td>\n",
       "      <td>-122.25</td>\n",
       "      <td>-122.25</td>\n",
       "      <td>-122.25</td>\n",
       "      <td>-122.25</td>\n",
       "      <td>-122.25</td>\n",
       "      <td>-122.26</td>\n",
       "      <td>-122.25</td>\n",
       "      <td>...</td>\n",
       "      <td>-121.32</td>\n",
       "      <td>-121.4</td>\n",
       "      <td>-121.45</td>\n",
       "      <td>-121.53</td>\n",
       "      <td>-121.56</td>\n",
       "      <td>-121.09</td>\n",
       "      <td>-121.21</td>\n",
       "      <td>-121.22</td>\n",
       "      <td>-121.32</td>\n",
       "      <td>-121.24</td>\n",
       "    </tr>\n",
       "    <tr>\n",
       "      <th>latitude</th>\n",
       "      <td>37.88</td>\n",
       "      <td>37.86</td>\n",
       "      <td>37.85</td>\n",
       "      <td>37.85</td>\n",
       "      <td>37.85</td>\n",
       "      <td>37.85</td>\n",
       "      <td>37.84</td>\n",
       "      <td>37.84</td>\n",
       "      <td>37.84</td>\n",
       "      <td>37.84</td>\n",
       "      <td>...</td>\n",
       "      <td>39.29</td>\n",
       "      <td>39.33</td>\n",
       "      <td>39.26</td>\n",
       "      <td>39.19</td>\n",
       "      <td>39.27</td>\n",
       "      <td>39.48</td>\n",
       "      <td>39.49</td>\n",
       "      <td>39.43</td>\n",
       "      <td>39.43</td>\n",
       "      <td>39.37</td>\n",
       "    </tr>\n",
       "    <tr>\n",
       "      <th>housing_median_age</th>\n",
       "      <td>41.0</td>\n",
       "      <td>21.0</td>\n",
       "      <td>52.0</td>\n",
       "      <td>52.0</td>\n",
       "      <td>52.0</td>\n",
       "      <td>52.0</td>\n",
       "      <td>52.0</td>\n",
       "      <td>52.0</td>\n",
       "      <td>42.0</td>\n",
       "      <td>52.0</td>\n",
       "      <td>...</td>\n",
       "      <td>11.0</td>\n",
       "      <td>15.0</td>\n",
       "      <td>15.0</td>\n",
       "      <td>27.0</td>\n",
       "      <td>28.0</td>\n",
       "      <td>25.0</td>\n",
       "      <td>18.0</td>\n",
       "      <td>17.0</td>\n",
       "      <td>18.0</td>\n",
       "      <td>16.0</td>\n",
       "    </tr>\n",
       "    <tr>\n",
       "      <th>total_rooms</th>\n",
       "      <td>880.0</td>\n",
       "      <td>7099.0</td>\n",
       "      <td>1467.0</td>\n",
       "      <td>1274.0</td>\n",
       "      <td>1627.0</td>\n",
       "      <td>919.0</td>\n",
       "      <td>2535.0</td>\n",
       "      <td>3104.0</td>\n",
       "      <td>2555.0</td>\n",
       "      <td>3549.0</td>\n",
       "      <td>...</td>\n",
       "      <td>2640.0</td>\n",
       "      <td>2655.0</td>\n",
       "      <td>2319.0</td>\n",
       "      <td>2080.0</td>\n",
       "      <td>2332.0</td>\n",
       "      <td>1665.0</td>\n",
       "      <td>697.0</td>\n",
       "      <td>2254.0</td>\n",
       "      <td>1860.0</td>\n",
       "      <td>2785.0</td>\n",
       "    </tr>\n",
       "    <tr>\n",
       "      <th>total_bedrooms</th>\n",
       "      <td>129.0</td>\n",
       "      <td>1106.0</td>\n",
       "      <td>190.0</td>\n",
       "      <td>235.0</td>\n",
       "      <td>280.0</td>\n",
       "      <td>213.0</td>\n",
       "      <td>489.0</td>\n",
       "      <td>687.0</td>\n",
       "      <td>665.0</td>\n",
       "      <td>707.0</td>\n",
       "      <td>...</td>\n",
       "      <td>505.0</td>\n",
       "      <td>493.0</td>\n",
       "      <td>416.0</td>\n",
       "      <td>412.0</td>\n",
       "      <td>395.0</td>\n",
       "      <td>374.0</td>\n",
       "      <td>150.0</td>\n",
       "      <td>485.0</td>\n",
       "      <td>409.0</td>\n",
       "      <td>616.0</td>\n",
       "    </tr>\n",
       "    <tr>\n",
       "      <th>population</th>\n",
       "      <td>322.0</td>\n",
       "      <td>2401.0</td>\n",
       "      <td>496.0</td>\n",
       "      <td>558.0</td>\n",
       "      <td>565.0</td>\n",
       "      <td>413.0</td>\n",
       "      <td>1094.0</td>\n",
       "      <td>1157.0</td>\n",
       "      <td>1206.0</td>\n",
       "      <td>1551.0</td>\n",
       "      <td>...</td>\n",
       "      <td>1257.0</td>\n",
       "      <td>1200.0</td>\n",
       "      <td>1047.0</td>\n",
       "      <td>1082.0</td>\n",
       "      <td>1041.0</td>\n",
       "      <td>845.0</td>\n",
       "      <td>356.0</td>\n",
       "      <td>1007.0</td>\n",
       "      <td>741.0</td>\n",
       "      <td>1387.0</td>\n",
       "    </tr>\n",
       "    <tr>\n",
       "      <th>households</th>\n",
       "      <td>126.0</td>\n",
       "      <td>1138.0</td>\n",
       "      <td>177.0</td>\n",
       "      <td>219.0</td>\n",
       "      <td>259.0</td>\n",
       "      <td>193.0</td>\n",
       "      <td>514.0</td>\n",
       "      <td>647.0</td>\n",
       "      <td>595.0</td>\n",
       "      <td>714.0</td>\n",
       "      <td>...</td>\n",
       "      <td>445.0</td>\n",
       "      <td>432.0</td>\n",
       "      <td>385.0</td>\n",
       "      <td>382.0</td>\n",
       "      <td>344.0</td>\n",
       "      <td>330.0</td>\n",
       "      <td>114.0</td>\n",
       "      <td>433.0</td>\n",
       "      <td>349.0</td>\n",
       "      <td>530.0</td>\n",
       "    </tr>\n",
       "    <tr>\n",
       "      <th>median_income</th>\n",
       "      <td>8.3252</td>\n",
       "      <td>8.3014</td>\n",
       "      <td>7.2574</td>\n",
       "      <td>5.6431</td>\n",
       "      <td>3.8462</td>\n",
       "      <td>4.0368</td>\n",
       "      <td>3.6591</td>\n",
       "      <td>3.12</td>\n",
       "      <td>2.0804</td>\n",
       "      <td>3.6912</td>\n",
       "      <td>...</td>\n",
       "      <td>3.5673</td>\n",
       "      <td>3.5179</td>\n",
       "      <td>3.125</td>\n",
       "      <td>2.5495</td>\n",
       "      <td>3.7125</td>\n",
       "      <td>1.5603</td>\n",
       "      <td>2.5568</td>\n",
       "      <td>1.7</td>\n",
       "      <td>1.8672</td>\n",
       "      <td>2.3886</td>\n",
       "    </tr>\n",
       "    <tr>\n",
       "      <th>median_house_value</th>\n",
       "      <td>452600.0</td>\n",
       "      <td>358500.0</td>\n",
       "      <td>352100.0</td>\n",
       "      <td>341300.0</td>\n",
       "      <td>342200.0</td>\n",
       "      <td>269700.0</td>\n",
       "      <td>299200.0</td>\n",
       "      <td>241400.0</td>\n",
       "      <td>226700.0</td>\n",
       "      <td>261100.0</td>\n",
       "      <td>...</td>\n",
       "      <td>112000.0</td>\n",
       "      <td>107200.0</td>\n",
       "      <td>115600.0</td>\n",
       "      <td>98300.0</td>\n",
       "      <td>116800.0</td>\n",
       "      <td>78100.0</td>\n",
       "      <td>77100.0</td>\n",
       "      <td>92300.0</td>\n",
       "      <td>84700.0</td>\n",
       "      <td>89400.0</td>\n",
       "    </tr>\n",
       "    <tr>\n",
       "      <th>ocean_proximity</th>\n",
       "      <td>NEAR BAY</td>\n",
       "      <td>NEAR BAY</td>\n",
       "      <td>NEAR BAY</td>\n",
       "      <td>NEAR BAY</td>\n",
       "      <td>NEAR BAY</td>\n",
       "      <td>NEAR BAY</td>\n",
       "      <td>NEAR BAY</td>\n",
       "      <td>NEAR BAY</td>\n",
       "      <td>NEAR BAY</td>\n",
       "      <td>NEAR BAY</td>\n",
       "      <td>...</td>\n",
       "      <td>INLAND</td>\n",
       "      <td>INLAND</td>\n",
       "      <td>INLAND</td>\n",
       "      <td>INLAND</td>\n",
       "      <td>INLAND</td>\n",
       "      <td>INLAND</td>\n",
       "      <td>INLAND</td>\n",
       "      <td>INLAND</td>\n",
       "      <td>INLAND</td>\n",
       "      <td>INLAND</td>\n",
       "    </tr>\n",
       "  </tbody>\n",
       "</table>\n",
       "<p>10 rows × 20640 columns</p>\n",
       "</div>"
      ],
      "text/plain": [
       "                       0         1         2         3         4      \\\n",
       "longitude            -122.23   -122.22   -122.24   -122.25   -122.25   \n",
       "latitude               37.88     37.86     37.85     37.85     37.85   \n",
       "housing_median_age      41.0      21.0      52.0      52.0      52.0   \n",
       "total_rooms            880.0    7099.0    1467.0    1274.0    1627.0   \n",
       "total_bedrooms         129.0    1106.0     190.0     235.0     280.0   \n",
       "population             322.0    2401.0     496.0     558.0     565.0   \n",
       "households             126.0    1138.0     177.0     219.0     259.0   \n",
       "median_income         8.3252    8.3014    7.2574    5.6431    3.8462   \n",
       "median_house_value  452600.0  358500.0  352100.0  341300.0  342200.0   \n",
       "ocean_proximity     NEAR BAY  NEAR BAY  NEAR BAY  NEAR BAY  NEAR BAY   \n",
       "\n",
       "                       5         6         7         8         9      ...  \\\n",
       "longitude            -122.25   -122.25   -122.25   -122.26   -122.25  ...   \n",
       "latitude               37.85     37.84     37.84     37.84     37.84  ...   \n",
       "housing_median_age      52.0      52.0      52.0      42.0      52.0  ...   \n",
       "total_rooms            919.0    2535.0    3104.0    2555.0    3549.0  ...   \n",
       "total_bedrooms         213.0     489.0     687.0     665.0     707.0  ...   \n",
       "population             413.0    1094.0    1157.0    1206.0    1551.0  ...   \n",
       "households             193.0     514.0     647.0     595.0     714.0  ...   \n",
       "median_income         4.0368    3.6591      3.12    2.0804    3.6912  ...   \n",
       "median_house_value  269700.0  299200.0  241400.0  226700.0  261100.0  ...   \n",
       "ocean_proximity     NEAR BAY  NEAR BAY  NEAR BAY  NEAR BAY  NEAR BAY  ...   \n",
       "\n",
       "                       20630     20631     20632    20633     20634    20635  \\\n",
       "longitude            -121.32    -121.4   -121.45  -121.53   -121.56  -121.09   \n",
       "latitude               39.29     39.33     39.26    39.19     39.27    39.48   \n",
       "housing_median_age      11.0      15.0      15.0     27.0      28.0     25.0   \n",
       "total_rooms           2640.0    2655.0    2319.0   2080.0    2332.0   1665.0   \n",
       "total_bedrooms         505.0     493.0     416.0    412.0     395.0    374.0   \n",
       "population            1257.0    1200.0    1047.0   1082.0    1041.0    845.0   \n",
       "households             445.0     432.0     385.0    382.0     344.0    330.0   \n",
       "median_income         3.5673    3.5179     3.125   2.5495    3.7125   1.5603   \n",
       "median_house_value  112000.0  107200.0  115600.0  98300.0  116800.0  78100.0   \n",
       "ocean_proximity       INLAND    INLAND    INLAND   INLAND    INLAND   INLAND   \n",
       "\n",
       "                      20636    20637    20638    20639  \n",
       "longitude           -121.21  -121.22  -121.32  -121.24  \n",
       "latitude              39.49    39.43    39.43    39.37  \n",
       "housing_median_age     18.0     17.0     18.0     16.0  \n",
       "total_rooms           697.0   2254.0   1860.0   2785.0  \n",
       "total_bedrooms        150.0    485.0    409.0    616.0  \n",
       "population            356.0   1007.0    741.0   1387.0  \n",
       "households            114.0    433.0    349.0    530.0  \n",
       "median_income        2.5568      1.7   1.8672   2.3886  \n",
       "median_house_value  77100.0  92300.0  84700.0  89400.0  \n",
       "ocean_proximity      INLAND   INLAND   INLAND   INLAND  \n",
       "\n",
       "[10 rows x 20640 columns]"
      ]
     },
     "execution_count": 25,
     "metadata": {},
     "output_type": "execute_result"
    }
   ],
   "source": [
    "dfpruebas.T"
   ]
  },
  {
   "cell_type": "markdown",
   "id": "48b0ede2",
   "metadata": {},
   "source": [
    "### Ordena las columnas según su nombre\n",
    "**Nota:** se podría hacer una ordenación por el índice configurando axis=0"
   ]
  },
  {
   "cell_type": "code",
   "execution_count": 26,
   "id": "52bf1ee3",
   "metadata": {},
   "outputs": [
    {
     "data": {
      "text/html": [
       "<div>\n",
       "<style scoped>\n",
       "    .dataframe tbody tr th:only-of-type {\n",
       "        vertical-align: middle;\n",
       "    }\n",
       "\n",
       "    .dataframe tbody tr th {\n",
       "        vertical-align: top;\n",
       "    }\n",
       "\n",
       "    .dataframe thead th {\n",
       "        text-align: right;\n",
       "    }\n",
       "</style>\n",
       "<table border=\"1\" class=\"dataframe\">\n",
       "  <thead>\n",
       "    <tr style=\"text-align: right;\">\n",
       "      <th></th>\n",
       "      <th>total_rooms</th>\n",
       "      <th>total_bedrooms</th>\n",
       "      <th>population</th>\n",
       "      <th>ocean_proximity</th>\n",
       "      <th>median_income</th>\n",
       "      <th>median_house_value</th>\n",
       "      <th>longitude</th>\n",
       "      <th>latitude</th>\n",
       "      <th>housing_median_age</th>\n",
       "      <th>households</th>\n",
       "    </tr>\n",
       "  </thead>\n",
       "  <tbody>\n",
       "    <tr>\n",
       "      <th>0</th>\n",
       "      <td>880.0</td>\n",
       "      <td>129.0</td>\n",
       "      <td>322.0</td>\n",
       "      <td>NEAR BAY</td>\n",
       "      <td>8.3252</td>\n",
       "      <td>452600.0</td>\n",
       "      <td>-122.23</td>\n",
       "      <td>37.88</td>\n",
       "      <td>41.0</td>\n",
       "      <td>126.0</td>\n",
       "    </tr>\n",
       "    <tr>\n",
       "      <th>1</th>\n",
       "      <td>7099.0</td>\n",
       "      <td>1106.0</td>\n",
       "      <td>2401.0</td>\n",
       "      <td>NEAR BAY</td>\n",
       "      <td>8.3014</td>\n",
       "      <td>358500.0</td>\n",
       "      <td>-122.22</td>\n",
       "      <td>37.86</td>\n",
       "      <td>21.0</td>\n",
       "      <td>1138.0</td>\n",
       "    </tr>\n",
       "    <tr>\n",
       "      <th>2</th>\n",
       "      <td>1467.0</td>\n",
       "      <td>190.0</td>\n",
       "      <td>496.0</td>\n",
       "      <td>NEAR BAY</td>\n",
       "      <td>7.2574</td>\n",
       "      <td>352100.0</td>\n",
       "      <td>-122.24</td>\n",
       "      <td>37.85</td>\n",
       "      <td>52.0</td>\n",
       "      <td>177.0</td>\n",
       "    </tr>\n",
       "    <tr>\n",
       "      <th>3</th>\n",
       "      <td>1274.0</td>\n",
       "      <td>235.0</td>\n",
       "      <td>558.0</td>\n",
       "      <td>NEAR BAY</td>\n",
       "      <td>5.6431</td>\n",
       "      <td>341300.0</td>\n",
       "      <td>-122.25</td>\n",
       "      <td>37.85</td>\n",
       "      <td>52.0</td>\n",
       "      <td>219.0</td>\n",
       "    </tr>\n",
       "    <tr>\n",
       "      <th>4</th>\n",
       "      <td>1627.0</td>\n",
       "      <td>280.0</td>\n",
       "      <td>565.0</td>\n",
       "      <td>NEAR BAY</td>\n",
       "      <td>3.8462</td>\n",
       "      <td>342200.0</td>\n",
       "      <td>-122.25</td>\n",
       "      <td>37.85</td>\n",
       "      <td>52.0</td>\n",
       "      <td>259.0</td>\n",
       "    </tr>\n",
       "    <tr>\n",
       "      <th>...</th>\n",
       "      <td>...</td>\n",
       "      <td>...</td>\n",
       "      <td>...</td>\n",
       "      <td>...</td>\n",
       "      <td>...</td>\n",
       "      <td>...</td>\n",
       "      <td>...</td>\n",
       "      <td>...</td>\n",
       "      <td>...</td>\n",
       "      <td>...</td>\n",
       "    </tr>\n",
       "    <tr>\n",
       "      <th>20635</th>\n",
       "      <td>1665.0</td>\n",
       "      <td>374.0</td>\n",
       "      <td>845.0</td>\n",
       "      <td>INLAND</td>\n",
       "      <td>1.5603</td>\n",
       "      <td>78100.0</td>\n",
       "      <td>-121.09</td>\n",
       "      <td>39.48</td>\n",
       "      <td>25.0</td>\n",
       "      <td>330.0</td>\n",
       "    </tr>\n",
       "    <tr>\n",
       "      <th>20636</th>\n",
       "      <td>697.0</td>\n",
       "      <td>150.0</td>\n",
       "      <td>356.0</td>\n",
       "      <td>INLAND</td>\n",
       "      <td>2.5568</td>\n",
       "      <td>77100.0</td>\n",
       "      <td>-121.21</td>\n",
       "      <td>39.49</td>\n",
       "      <td>18.0</td>\n",
       "      <td>114.0</td>\n",
       "    </tr>\n",
       "    <tr>\n",
       "      <th>20637</th>\n",
       "      <td>2254.0</td>\n",
       "      <td>485.0</td>\n",
       "      <td>1007.0</td>\n",
       "      <td>INLAND</td>\n",
       "      <td>1.7000</td>\n",
       "      <td>92300.0</td>\n",
       "      <td>-121.22</td>\n",
       "      <td>39.43</td>\n",
       "      <td>17.0</td>\n",
       "      <td>433.0</td>\n",
       "    </tr>\n",
       "    <tr>\n",
       "      <th>20638</th>\n",
       "      <td>1860.0</td>\n",
       "      <td>409.0</td>\n",
       "      <td>741.0</td>\n",
       "      <td>INLAND</td>\n",
       "      <td>1.8672</td>\n",
       "      <td>84700.0</td>\n",
       "      <td>-121.32</td>\n",
       "      <td>39.43</td>\n",
       "      <td>18.0</td>\n",
       "      <td>349.0</td>\n",
       "    </tr>\n",
       "    <tr>\n",
       "      <th>20639</th>\n",
       "      <td>2785.0</td>\n",
       "      <td>616.0</td>\n",
       "      <td>1387.0</td>\n",
       "      <td>INLAND</td>\n",
       "      <td>2.3886</td>\n",
       "      <td>89400.0</td>\n",
       "      <td>-121.24</td>\n",
       "      <td>39.37</td>\n",
       "      <td>16.0</td>\n",
       "      <td>530.0</td>\n",
       "    </tr>\n",
       "  </tbody>\n",
       "</table>\n",
       "<p>20640 rows × 10 columns</p>\n",
       "</div>"
      ],
      "text/plain": [
       "       total_rooms  total_bedrooms  population ocean_proximity  median_income  \\\n",
       "0            880.0           129.0       322.0        NEAR BAY         8.3252   \n",
       "1           7099.0          1106.0      2401.0        NEAR BAY         8.3014   \n",
       "2           1467.0           190.0       496.0        NEAR BAY         7.2574   \n",
       "3           1274.0           235.0       558.0        NEAR BAY         5.6431   \n",
       "4           1627.0           280.0       565.0        NEAR BAY         3.8462   \n",
       "...            ...             ...         ...             ...            ...   \n",
       "20635       1665.0           374.0       845.0          INLAND         1.5603   \n",
       "20636        697.0           150.0       356.0          INLAND         2.5568   \n",
       "20637       2254.0           485.0      1007.0          INLAND         1.7000   \n",
       "20638       1860.0           409.0       741.0          INLAND         1.8672   \n",
       "20639       2785.0           616.0      1387.0          INLAND         2.3886   \n",
       "\n",
       "       median_house_value  longitude  latitude  housing_median_age  households  \n",
       "0                452600.0    -122.23     37.88                41.0       126.0  \n",
       "1                358500.0    -122.22     37.86                21.0      1138.0  \n",
       "2                352100.0    -122.24     37.85                52.0       177.0  \n",
       "3                341300.0    -122.25     37.85                52.0       219.0  \n",
       "4                342200.0    -122.25     37.85                52.0       259.0  \n",
       "...                   ...        ...       ...                 ...         ...  \n",
       "20635             78100.0    -121.09     39.48                25.0       330.0  \n",
       "20636             77100.0    -121.21     39.49                18.0       114.0  \n",
       "20637             92300.0    -121.22     39.43                17.0       433.0  \n",
       "20638             84700.0    -121.32     39.43                18.0       349.0  \n",
       "20639             89400.0    -121.24     39.37                16.0       530.0  \n",
       "\n",
       "[20640 rows x 10 columns]"
      ]
     },
     "execution_count": 26,
     "metadata": {},
     "output_type": "execute_result"
    }
   ],
   "source": [
    "dfpruebas.sort_index(axis=1, ascending=False)"
   ]
  },
  {
   "cell_type": "markdown",
   "id": "607f9518",
   "metadata": {},
   "source": [
    "### Ordena los datos según los valores de una columna\n",
    "https://pandas.pydata.org/docs/user_guide/basics.html#sorting"
   ]
  },
  {
   "cell_type": "code",
   "execution_count": 27,
   "id": "b945e18d",
   "metadata": {},
   "outputs": [
    {
     "data": {
      "text/html": [
       "<div>\n",
       "<style scoped>\n",
       "    .dataframe tbody tr th:only-of-type {\n",
       "        vertical-align: middle;\n",
       "    }\n",
       "\n",
       "    .dataframe tbody tr th {\n",
       "        vertical-align: top;\n",
       "    }\n",
       "\n",
       "    .dataframe thead th {\n",
       "        text-align: right;\n",
       "    }\n",
       "</style>\n",
       "<table border=\"1\" class=\"dataframe\">\n",
       "  <thead>\n",
       "    <tr style=\"text-align: right;\">\n",
       "      <th></th>\n",
       "      <th>longitude</th>\n",
       "      <th>latitude</th>\n",
       "      <th>housing_median_age</th>\n",
       "      <th>total_rooms</th>\n",
       "      <th>total_bedrooms</th>\n",
       "      <th>population</th>\n",
       "      <th>households</th>\n",
       "      <th>median_income</th>\n",
       "      <th>median_house_value</th>\n",
       "      <th>ocean_proximity</th>\n",
       "    </tr>\n",
       "  </thead>\n",
       "  <tbody>\n",
       "    <tr>\n",
       "      <th>13139</th>\n",
       "      <td>-121.44</td>\n",
       "      <td>38.43</td>\n",
       "      <td>3.0</td>\n",
       "      <td>39320.0</td>\n",
       "      <td>6210.0</td>\n",
       "      <td>16305.0</td>\n",
       "      <td>5358.0</td>\n",
       "      <td>4.9516</td>\n",
       "      <td>153700.0</td>\n",
       "      <td>INLAND</td>\n",
       "    </tr>\n",
       "    <tr>\n",
       "      <th>10309</th>\n",
       "      <td>-117.74</td>\n",
       "      <td>33.89</td>\n",
       "      <td>4.0</td>\n",
       "      <td>37937.0</td>\n",
       "      <td>5471.0</td>\n",
       "      <td>16122.0</td>\n",
       "      <td>5189.0</td>\n",
       "      <td>7.4947</td>\n",
       "      <td>366300.0</td>\n",
       "      <td>&lt;1H OCEAN</td>\n",
       "    </tr>\n",
       "    <tr>\n",
       "      <th>9880</th>\n",
       "      <td>-121.79</td>\n",
       "      <td>36.64</td>\n",
       "      <td>11.0</td>\n",
       "      <td>32627.0</td>\n",
       "      <td>6445.0</td>\n",
       "      <td>28566.0</td>\n",
       "      <td>6082.0</td>\n",
       "      <td>2.3087</td>\n",
       "      <td>118800.0</td>\n",
       "      <td>&lt;1H OCEAN</td>\n",
       "    </tr>\n",
       "    <tr>\n",
       "      <th>6057</th>\n",
       "      <td>-117.78</td>\n",
       "      <td>34.03</td>\n",
       "      <td>8.0</td>\n",
       "      <td>32054.0</td>\n",
       "      <td>5290.0</td>\n",
       "      <td>15507.0</td>\n",
       "      <td>5050.0</td>\n",
       "      <td>6.0191</td>\n",
       "      <td>253900.0</td>\n",
       "      <td>&lt;1H OCEAN</td>\n",
       "    </tr>\n",
       "    <tr>\n",
       "      <th>12201</th>\n",
       "      <td>-117.20</td>\n",
       "      <td>33.58</td>\n",
       "      <td>2.0</td>\n",
       "      <td>30450.0</td>\n",
       "      <td>5033.0</td>\n",
       "      <td>9419.0</td>\n",
       "      <td>3197.0</td>\n",
       "      <td>4.5936</td>\n",
       "      <td>174300.0</td>\n",
       "      <td>&lt;1H OCEAN</td>\n",
       "    </tr>\n",
       "    <tr>\n",
       "      <th>...</th>\n",
       "      <td>...</td>\n",
       "      <td>...</td>\n",
       "      <td>...</td>\n",
       "      <td>...</td>\n",
       "      <td>...</td>\n",
       "      <td>...</td>\n",
       "      <td>...</td>\n",
       "      <td>...</td>\n",
       "      <td>...</td>\n",
       "      <td>...</td>\n",
       "    </tr>\n",
       "    <tr>\n",
       "      <th>73</th>\n",
       "      <td>-122.29</td>\n",
       "      <td>37.81</td>\n",
       "      <td>46.0</td>\n",
       "      <td>12.0</td>\n",
       "      <td>4.0</td>\n",
       "      <td>18.0</td>\n",
       "      <td>7.0</td>\n",
       "      <td>0.4999</td>\n",
       "      <td>67500.0</td>\n",
       "      <td>NEAR BAY</td>\n",
       "    </tr>\n",
       "    <tr>\n",
       "      <th>5916</th>\n",
       "      <td>-118.44</td>\n",
       "      <td>34.28</td>\n",
       "      <td>46.0</td>\n",
       "      <td>11.0</td>\n",
       "      <td>11.0</td>\n",
       "      <td>24.0</td>\n",
       "      <td>13.0</td>\n",
       "      <td>2.8750</td>\n",
       "      <td>162500.0</td>\n",
       "      <td>&lt;1H OCEAN</td>\n",
       "    </tr>\n",
       "    <tr>\n",
       "      <th>16171</th>\n",
       "      <td>-122.50</td>\n",
       "      <td>37.79</td>\n",
       "      <td>52.0</td>\n",
       "      <td>8.0</td>\n",
       "      <td>1.0</td>\n",
       "      <td>13.0</td>\n",
       "      <td>1.0</td>\n",
       "      <td>15.0001</td>\n",
       "      <td>500001.0</td>\n",
       "      <td>NEAR BAY</td>\n",
       "    </tr>\n",
       "    <tr>\n",
       "      <th>12286</th>\n",
       "      <td>-116.95</td>\n",
       "      <td>33.86</td>\n",
       "      <td>1.0</td>\n",
       "      <td>6.0</td>\n",
       "      <td>2.0</td>\n",
       "      <td>8.0</td>\n",
       "      <td>2.0</td>\n",
       "      <td>1.6250</td>\n",
       "      <td>55000.0</td>\n",
       "      <td>INLAND</td>\n",
       "    </tr>\n",
       "    <tr>\n",
       "      <th>3126</th>\n",
       "      <td>-117.79</td>\n",
       "      <td>35.21</td>\n",
       "      <td>4.0</td>\n",
       "      <td>2.0</td>\n",
       "      <td>2.0</td>\n",
       "      <td>6.0</td>\n",
       "      <td>2.0</td>\n",
       "      <td>2.3750</td>\n",
       "      <td>137500.0</td>\n",
       "      <td>INLAND</td>\n",
       "    </tr>\n",
       "  </tbody>\n",
       "</table>\n",
       "<p>20640 rows × 10 columns</p>\n",
       "</div>"
      ],
      "text/plain": [
       "       longitude  latitude  housing_median_age  total_rooms  total_bedrooms  \\\n",
       "13139    -121.44     38.43                 3.0      39320.0          6210.0   \n",
       "10309    -117.74     33.89                 4.0      37937.0          5471.0   \n",
       "9880     -121.79     36.64                11.0      32627.0          6445.0   \n",
       "6057     -117.78     34.03                 8.0      32054.0          5290.0   \n",
       "12201    -117.20     33.58                 2.0      30450.0          5033.0   \n",
       "...          ...       ...                 ...          ...             ...   \n",
       "73       -122.29     37.81                46.0         12.0             4.0   \n",
       "5916     -118.44     34.28                46.0         11.0            11.0   \n",
       "16171    -122.50     37.79                52.0          8.0             1.0   \n",
       "12286    -116.95     33.86                 1.0          6.0             2.0   \n",
       "3126     -117.79     35.21                 4.0          2.0             2.0   \n",
       "\n",
       "       population  households  median_income  median_house_value  \\\n",
       "13139     16305.0      5358.0         4.9516            153700.0   \n",
       "10309     16122.0      5189.0         7.4947            366300.0   \n",
       "9880      28566.0      6082.0         2.3087            118800.0   \n",
       "6057      15507.0      5050.0         6.0191            253900.0   \n",
       "12201      9419.0      3197.0         4.5936            174300.0   \n",
       "...           ...         ...            ...                 ...   \n",
       "73           18.0         7.0         0.4999             67500.0   \n",
       "5916         24.0        13.0         2.8750            162500.0   \n",
       "16171        13.0         1.0        15.0001            500001.0   \n",
       "12286         8.0         2.0         1.6250             55000.0   \n",
       "3126          6.0         2.0         2.3750            137500.0   \n",
       "\n",
       "      ocean_proximity  \n",
       "13139          INLAND  \n",
       "10309       <1H OCEAN  \n",
       "9880        <1H OCEAN  \n",
       "6057        <1H OCEAN  \n",
       "12201       <1H OCEAN  \n",
       "...               ...  \n",
       "73           NEAR BAY  \n",
       "5916        <1H OCEAN  \n",
       "16171        NEAR BAY  \n",
       "12286          INLAND  \n",
       "3126           INLAND  \n",
       "\n",
       "[20640 rows x 10 columns]"
      ]
     },
     "execution_count": 27,
     "metadata": {},
     "output_type": "execute_result"
    }
   ],
   "source": [
    "dfpruebas.sort_values(by='total_rooms', ascending = False)"
   ]
  },
  {
   "cell_type": "markdown",
   "id": "a535878a",
   "metadata": {},
   "source": [
    "### Métodos de transformación de strings\n",
    "Se pueden aplicar métodos de transformación de strings (lower, upper, split...) a las series de los data frames"
   ]
  },
  {
   "cell_type": "code",
   "execution_count": 28,
   "id": "9d8a1ed0",
   "metadata": {},
   "outputs": [],
   "source": [
    "dfpruebas['ocean_proximity']=dfpruebas['ocean_proximity'].str.lower()"
   ]
  },
  {
   "cell_type": "markdown",
   "id": "ddef428f",
   "metadata": {},
   "source": [
    "## Selección de datos\n",
    "https://pandas.pydata.org/docs/user_guide/indexing.html\n",
    "\n",
    "Gestión de multiíndices: https://pandas.pydata.org/docs/user_guide/advanced.html"
   ]
  },
  {
   "cell_type": "markdown",
   "id": "69a453f8",
   "metadata": {},
   "source": [
    "### Selección por etiqueta"
   ]
  },
  {
   "cell_type": "markdown",
   "id": "e67a88aa",
   "metadata": {},
   "source": [
    "#### Seleccionar los datos de una o varias columnas"
   ]
  },
  {
   "cell_type": "code",
   "execution_count": 29,
   "id": "9a0fab2b",
   "metadata": {},
   "outputs": [
    {
     "data": {
      "text/plain": [
       "0        37.88\n",
       "1        37.86\n",
       "2        37.85\n",
       "3        37.85\n",
       "4        37.85\n",
       "         ...  \n",
       "20635    39.48\n",
       "20636    39.49\n",
       "20637    39.43\n",
       "20638    39.43\n",
       "20639    39.37\n",
       "Name: latitude, Length: 20640, dtype: float64"
      ]
     },
     "execution_count": 29,
     "metadata": {},
     "output_type": "execute_result"
    }
   ],
   "source": [
    "dfpruebas['latitude']"
   ]
  },
  {
   "cell_type": "code",
   "execution_count": 30,
   "id": "f5131e97",
   "metadata": {},
   "outputs": [
    {
     "data": {
      "text/html": [
       "<div>\n",
       "<style scoped>\n",
       "    .dataframe tbody tr th:only-of-type {\n",
       "        vertical-align: middle;\n",
       "    }\n",
       "\n",
       "    .dataframe tbody tr th {\n",
       "        vertical-align: top;\n",
       "    }\n",
       "\n",
       "    .dataframe thead th {\n",
       "        text-align: right;\n",
       "    }\n",
       "</style>\n",
       "<table border=\"1\" class=\"dataframe\">\n",
       "  <thead>\n",
       "    <tr style=\"text-align: right;\">\n",
       "      <th></th>\n",
       "      <th>latitude</th>\n",
       "      <th>longitude</th>\n",
       "    </tr>\n",
       "  </thead>\n",
       "  <tbody>\n",
       "    <tr>\n",
       "      <th>0</th>\n",
       "      <td>37.88</td>\n",
       "      <td>-122.23</td>\n",
       "    </tr>\n",
       "    <tr>\n",
       "      <th>1</th>\n",
       "      <td>37.86</td>\n",
       "      <td>-122.22</td>\n",
       "    </tr>\n",
       "    <tr>\n",
       "      <th>2</th>\n",
       "      <td>37.85</td>\n",
       "      <td>-122.24</td>\n",
       "    </tr>\n",
       "    <tr>\n",
       "      <th>3</th>\n",
       "      <td>37.85</td>\n",
       "      <td>-122.25</td>\n",
       "    </tr>\n",
       "    <tr>\n",
       "      <th>4</th>\n",
       "      <td>37.85</td>\n",
       "      <td>-122.25</td>\n",
       "    </tr>\n",
       "    <tr>\n",
       "      <th>...</th>\n",
       "      <td>...</td>\n",
       "      <td>...</td>\n",
       "    </tr>\n",
       "    <tr>\n",
       "      <th>20635</th>\n",
       "      <td>39.48</td>\n",
       "      <td>-121.09</td>\n",
       "    </tr>\n",
       "    <tr>\n",
       "      <th>20636</th>\n",
       "      <td>39.49</td>\n",
       "      <td>-121.21</td>\n",
       "    </tr>\n",
       "    <tr>\n",
       "      <th>20637</th>\n",
       "      <td>39.43</td>\n",
       "      <td>-121.22</td>\n",
       "    </tr>\n",
       "    <tr>\n",
       "      <th>20638</th>\n",
       "      <td>39.43</td>\n",
       "      <td>-121.32</td>\n",
       "    </tr>\n",
       "    <tr>\n",
       "      <th>20639</th>\n",
       "      <td>39.37</td>\n",
       "      <td>-121.24</td>\n",
       "    </tr>\n",
       "  </tbody>\n",
       "</table>\n",
       "<p>20640 rows × 2 columns</p>\n",
       "</div>"
      ],
      "text/plain": [
       "       latitude  longitude\n",
       "0         37.88    -122.23\n",
       "1         37.86    -122.22\n",
       "2         37.85    -122.24\n",
       "3         37.85    -122.25\n",
       "4         37.85    -122.25\n",
       "...         ...        ...\n",
       "20635     39.48    -121.09\n",
       "20636     39.49    -121.21\n",
       "20637     39.43    -121.22\n",
       "20638     39.43    -121.32\n",
       "20639     39.37    -121.24\n",
       "\n",
       "[20640 rows x 2 columns]"
      ]
     },
     "execution_count": 30,
     "metadata": {},
     "output_type": "execute_result"
    }
   ],
   "source": [
    "dfpruebas[['latitude','longitude']]"
   ]
  },
  {
   "cell_type": "code",
   "execution_count": 31,
   "id": "58566885",
   "metadata": {},
   "outputs": [
    {
     "data": {
      "text/html": [
       "<div>\n",
       "<style scoped>\n",
       "    .dataframe tbody tr th:only-of-type {\n",
       "        vertical-align: middle;\n",
       "    }\n",
       "\n",
       "    .dataframe tbody tr th {\n",
       "        vertical-align: top;\n",
       "    }\n",
       "\n",
       "    .dataframe thead th {\n",
       "        text-align: right;\n",
       "    }\n",
       "</style>\n",
       "<table border=\"1\" class=\"dataframe\">\n",
       "  <thead>\n",
       "    <tr style=\"text-align: right;\">\n",
       "      <th></th>\n",
       "      <th>latitude</th>\n",
       "      <th>longitude</th>\n",
       "    </tr>\n",
       "  </thead>\n",
       "  <tbody>\n",
       "    <tr>\n",
       "      <th>0</th>\n",
       "      <td>37.88</td>\n",
       "      <td>-122.23</td>\n",
       "    </tr>\n",
       "    <tr>\n",
       "      <th>1</th>\n",
       "      <td>37.86</td>\n",
       "      <td>-122.22</td>\n",
       "    </tr>\n",
       "    <tr>\n",
       "      <th>2</th>\n",
       "      <td>37.85</td>\n",
       "      <td>-122.24</td>\n",
       "    </tr>\n",
       "    <tr>\n",
       "      <th>3</th>\n",
       "      <td>37.85</td>\n",
       "      <td>-122.25</td>\n",
       "    </tr>\n",
       "    <tr>\n",
       "      <th>4</th>\n",
       "      <td>37.85</td>\n",
       "      <td>-122.25</td>\n",
       "    </tr>\n",
       "    <tr>\n",
       "      <th>...</th>\n",
       "      <td>...</td>\n",
       "      <td>...</td>\n",
       "    </tr>\n",
       "    <tr>\n",
       "      <th>20635</th>\n",
       "      <td>39.48</td>\n",
       "      <td>-121.09</td>\n",
       "    </tr>\n",
       "    <tr>\n",
       "      <th>20636</th>\n",
       "      <td>39.49</td>\n",
       "      <td>-121.21</td>\n",
       "    </tr>\n",
       "    <tr>\n",
       "      <th>20637</th>\n",
       "      <td>39.43</td>\n",
       "      <td>-121.22</td>\n",
       "    </tr>\n",
       "    <tr>\n",
       "      <th>20638</th>\n",
       "      <td>39.43</td>\n",
       "      <td>-121.32</td>\n",
       "    </tr>\n",
       "    <tr>\n",
       "      <th>20639</th>\n",
       "      <td>39.37</td>\n",
       "      <td>-121.24</td>\n",
       "    </tr>\n",
       "  </tbody>\n",
       "</table>\n",
       "<p>20640 rows × 2 columns</p>\n",
       "</div>"
      ],
      "text/plain": [
       "       latitude  longitude\n",
       "0         37.88    -122.23\n",
       "1         37.86    -122.22\n",
       "2         37.85    -122.24\n",
       "3         37.85    -122.25\n",
       "4         37.85    -122.25\n",
       "...         ...        ...\n",
       "20635     39.48    -121.09\n",
       "20636     39.49    -121.21\n",
       "20637     39.43    -121.22\n",
       "20638     39.43    -121.32\n",
       "20639     39.37    -121.24\n",
       "\n",
       "[20640 rows x 2 columns]"
      ]
     },
     "execution_count": 31,
     "metadata": {},
     "output_type": "execute_result"
    }
   ],
   "source": [
    "dfpruebas.loc[:, [\"latitude\", \"longitude\"]]"
   ]
  },
  {
   "cell_type": "markdown",
   "id": "51c7688a",
   "metadata": {},
   "source": [
    "#### Seleccionar datos de un rango de filas"
   ]
  },
  {
   "cell_type": "code",
   "execution_count": 32,
   "id": "583a2500",
   "metadata": {},
   "outputs": [
    {
     "data": {
      "text/html": [
       "<div>\n",
       "<style scoped>\n",
       "    .dataframe tbody tr th:only-of-type {\n",
       "        vertical-align: middle;\n",
       "    }\n",
       "\n",
       "    .dataframe tbody tr th {\n",
       "        vertical-align: top;\n",
       "    }\n",
       "\n",
       "    .dataframe thead th {\n",
       "        text-align: right;\n",
       "    }\n",
       "</style>\n",
       "<table border=\"1\" class=\"dataframe\">\n",
       "  <thead>\n",
       "    <tr style=\"text-align: right;\">\n",
       "      <th></th>\n",
       "      <th>longitude</th>\n",
       "      <th>latitude</th>\n",
       "      <th>housing_median_age</th>\n",
       "      <th>total_rooms</th>\n",
       "      <th>total_bedrooms</th>\n",
       "      <th>population</th>\n",
       "      <th>households</th>\n",
       "      <th>median_income</th>\n",
       "      <th>median_house_value</th>\n",
       "      <th>ocean_proximity</th>\n",
       "    </tr>\n",
       "  </thead>\n",
       "  <tbody>\n",
       "    <tr>\n",
       "      <th>12</th>\n",
       "      <td>-122.26</td>\n",
       "      <td>37.85</td>\n",
       "      <td>52.0</td>\n",
       "      <td>2491.0</td>\n",
       "      <td>474.0</td>\n",
       "      <td>1098.0</td>\n",
       "      <td>468.0</td>\n",
       "      <td>3.0750</td>\n",
       "      <td>213500.0</td>\n",
       "      <td>near bay</td>\n",
       "    </tr>\n",
       "    <tr>\n",
       "      <th>13</th>\n",
       "      <td>-122.26</td>\n",
       "      <td>37.84</td>\n",
       "      <td>52.0</td>\n",
       "      <td>696.0</td>\n",
       "      <td>191.0</td>\n",
       "      <td>345.0</td>\n",
       "      <td>174.0</td>\n",
       "      <td>2.6736</td>\n",
       "      <td>191300.0</td>\n",
       "      <td>near bay</td>\n",
       "    </tr>\n",
       "    <tr>\n",
       "      <th>14</th>\n",
       "      <td>-122.26</td>\n",
       "      <td>37.85</td>\n",
       "      <td>52.0</td>\n",
       "      <td>2643.0</td>\n",
       "      <td>626.0</td>\n",
       "      <td>1212.0</td>\n",
       "      <td>620.0</td>\n",
       "      <td>1.9167</td>\n",
       "      <td>159200.0</td>\n",
       "      <td>near bay</td>\n",
       "    </tr>\n",
       "  </tbody>\n",
       "</table>\n",
       "</div>"
      ],
      "text/plain": [
       "    longitude  latitude  housing_median_age  total_rooms  total_bedrooms  \\\n",
       "12    -122.26     37.85                52.0       2491.0           474.0   \n",
       "13    -122.26     37.84                52.0        696.0           191.0   \n",
       "14    -122.26     37.85                52.0       2643.0           626.0   \n",
       "\n",
       "    population  households  median_income  median_house_value ocean_proximity  \n",
       "12      1098.0       468.0         3.0750            213500.0        near bay  \n",
       "13       345.0       174.0         2.6736            191300.0        near bay  \n",
       "14      1212.0       620.0         1.9167            159200.0        near bay  "
      ]
     },
     "execution_count": 32,
     "metadata": {},
     "output_type": "execute_result"
    }
   ],
   "source": [
    "dfpruebas[12:15]"
   ]
  },
  {
   "cell_type": "code",
   "execution_count": 33,
   "id": "7ab2cbb5",
   "metadata": {},
   "outputs": [],
   "source": [
    "indice = [0,1,5,10,100,1000]"
   ]
  },
  {
   "cell_type": "markdown",
   "id": "a73f0c82",
   "metadata": {},
   "source": [
    "#### Seleccionar dato según valor del índice de filas"
   ]
  },
  {
   "cell_type": "code",
   "execution_count": 34,
   "id": "71d41401",
   "metadata": {},
   "outputs": [
    {
     "data": {
      "text/plain": [
       "longitude              -122.25\n",
       "latitude                 37.85\n",
       "housing_median_age        52.0\n",
       "total_rooms              919.0\n",
       "total_bedrooms           213.0\n",
       "population               413.0\n",
       "households               193.0\n",
       "median_income           4.0368\n",
       "median_house_value    269700.0\n",
       "ocean_proximity       near bay\n",
       "Name: 5, dtype: object"
      ]
     },
     "execution_count": 34,
     "metadata": {},
     "output_type": "execute_result"
    }
   ],
   "source": [
    "dfpruebas.loc[indice[2]]"
   ]
  },
  {
   "cell_type": "code",
   "execution_count": 35,
   "id": "c3484fcf",
   "metadata": {},
   "outputs": [
    {
     "data": {
      "text/plain": [
       "longitude              -122.25\n",
       "latitude                 37.85\n",
       "housing_median_age        52.0\n",
       "total_rooms              919.0\n",
       "total_bedrooms           213.0\n",
       "population               413.0\n",
       "households               193.0\n",
       "median_income           4.0368\n",
       "median_house_value    269700.0\n",
       "ocean_proximity       near bay\n",
       "Name: 5, dtype: object"
      ]
     },
     "execution_count": 35,
     "metadata": {},
     "output_type": "execute_result"
    }
   ],
   "source": [
    "dfpruebas.loc[5]"
   ]
  },
  {
   "cell_type": "markdown",
   "id": "58bf7981",
   "metadata": {},
   "source": [
    "Se pueden combinar ambas ideas para seleccionar datos según índice de fila y columna.\n",
    "\n",
    "**Nota**: Los dos ejemplos siguientes hacen lo mismo pero el segundo es más rápido."
   ]
  },
  {
   "cell_type": "code",
   "execution_count": 36,
   "id": "588a6c1a",
   "metadata": {},
   "outputs": [
    {
     "data": {
      "text/plain": [
       "413.0"
      ]
     },
     "execution_count": 36,
     "metadata": {},
     "output_type": "execute_result"
    }
   ],
   "source": [
    "dfpruebas.loc[5, 'population']"
   ]
  },
  {
   "cell_type": "code",
   "execution_count": 37,
   "id": "f1c10924",
   "metadata": {},
   "outputs": [
    {
     "data": {
      "text/plain": [
       "413.0"
      ]
     },
     "execution_count": 37,
     "metadata": {},
     "output_type": "execute_result"
    }
   ],
   "source": [
    "dfpruebas.at[5, 'population']"
   ]
  },
  {
   "cell_type": "markdown",
   "id": "20cb38bb",
   "metadata": {},
   "source": [
    "### Selección por posición"
   ]
  },
  {
   "cell_type": "markdown",
   "id": "e0e712e7",
   "metadata": {},
   "source": [
    "#### Seleccionar una fila concreta"
   ]
  },
  {
   "cell_type": "code",
   "execution_count": 38,
   "id": "46196a7d",
   "metadata": {},
   "outputs": [
    {
     "data": {
      "text/plain": [
       "longitude              -122.25\n",
       "latitude                 37.85\n",
       "housing_median_age        52.0\n",
       "total_rooms             1274.0\n",
       "total_bedrooms           235.0\n",
       "population               558.0\n",
       "households               219.0\n",
       "median_income           5.6431\n",
       "median_house_value    341300.0\n",
       "ocean_proximity       near bay\n",
       "Name: 3, dtype: object"
      ]
     },
     "execution_count": 38,
     "metadata": {},
     "output_type": "execute_result"
    }
   ],
   "source": [
    "dfpruebas.iloc[3]"
   ]
  },
  {
   "cell_type": "markdown",
   "id": "54b35bed",
   "metadata": {},
   "source": [
    "#### Seleccionar según rango de filas y columnas"
   ]
  },
  {
   "cell_type": "code",
   "execution_count": 39,
   "id": "0cb949e5",
   "metadata": {},
   "outputs": [
    {
     "data": {
      "text/html": [
       "<div>\n",
       "<style scoped>\n",
       "    .dataframe tbody tr th:only-of-type {\n",
       "        vertical-align: middle;\n",
       "    }\n",
       "\n",
       "    .dataframe tbody tr th {\n",
       "        vertical-align: top;\n",
       "    }\n",
       "\n",
       "    .dataframe thead th {\n",
       "        text-align: right;\n",
       "    }\n",
       "</style>\n",
       "<table border=\"1\" class=\"dataframe\">\n",
       "  <thead>\n",
       "    <tr style=\"text-align: right;\">\n",
       "      <th></th>\n",
       "      <th>housing_median_age</th>\n",
       "      <th>total_rooms</th>\n",
       "      <th>total_bedrooms</th>\n",
       "    </tr>\n",
       "  </thead>\n",
       "  <tbody>\n",
       "    <tr>\n",
       "      <th>0</th>\n",
       "      <td>41.0</td>\n",
       "      <td>880.0</td>\n",
       "      <td>129.0</td>\n",
       "    </tr>\n",
       "    <tr>\n",
       "      <th>1</th>\n",
       "      <td>21.0</td>\n",
       "      <td>7099.0</td>\n",
       "      <td>1106.0</td>\n",
       "    </tr>\n",
       "    <tr>\n",
       "      <th>2</th>\n",
       "      <td>52.0</td>\n",
       "      <td>1467.0</td>\n",
       "      <td>190.0</td>\n",
       "    </tr>\n",
       "  </tbody>\n",
       "</table>\n",
       "</div>"
      ],
      "text/plain": [
       "   housing_median_age  total_rooms  total_bedrooms\n",
       "0                41.0        880.0           129.0\n",
       "1                21.0       7099.0          1106.0\n",
       "2                52.0       1467.0           190.0"
      ]
     },
     "execution_count": 39,
     "metadata": {},
     "output_type": "execute_result"
    }
   ],
   "source": [
    "dfpruebas.iloc[:3,2:5]"
   ]
  },
  {
   "cell_type": "code",
   "execution_count": 40,
   "id": "b63eafeb",
   "metadata": {
    "scrolled": true
   },
   "outputs": [
    {
     "data": {
      "text/html": [
       "<div>\n",
       "<style scoped>\n",
       "    .dataframe tbody tr th:only-of-type {\n",
       "        vertical-align: middle;\n",
       "    }\n",
       "\n",
       "    .dataframe tbody tr th {\n",
       "        vertical-align: top;\n",
       "    }\n",
       "\n",
       "    .dataframe thead th {\n",
       "        text-align: right;\n",
       "    }\n",
       "</style>\n",
       "<table border=\"1\" class=\"dataframe\">\n",
       "  <thead>\n",
       "    <tr style=\"text-align: right;\">\n",
       "      <th></th>\n",
       "      <th>longitude</th>\n",
       "      <th>housing_median_age</th>\n",
       "    </tr>\n",
       "  </thead>\n",
       "  <tbody>\n",
       "    <tr>\n",
       "      <th>1</th>\n",
       "      <td>-122.22</td>\n",
       "      <td>21.0</td>\n",
       "    </tr>\n",
       "    <tr>\n",
       "      <th>2</th>\n",
       "      <td>-122.24</td>\n",
       "      <td>52.0</td>\n",
       "    </tr>\n",
       "    <tr>\n",
       "      <th>4</th>\n",
       "      <td>-122.25</td>\n",
       "      <td>52.0</td>\n",
       "    </tr>\n",
       "  </tbody>\n",
       "</table>\n",
       "</div>"
      ],
      "text/plain": [
       "   longitude  housing_median_age\n",
       "1    -122.22                21.0\n",
       "2    -122.24                52.0\n",
       "4    -122.25                52.0"
      ]
     },
     "execution_count": 40,
     "metadata": {},
     "output_type": "execute_result"
    }
   ],
   "source": [
    "dfpruebas.iloc[[1, 2, 4], [0, 2]]"
   ]
  },
  {
   "cell_type": "markdown",
   "id": "73eedd54",
   "metadata": {},
   "source": [
    "#### Seleccionar un valor concreto"
   ]
  },
  {
   "cell_type": "code",
   "execution_count": 41,
   "id": "0435dc0d",
   "metadata": {},
   "outputs": [
    {
     "data": {
      "text/plain": [
       "4"
      ]
     },
     "execution_count": 41,
     "metadata": {},
     "output_type": "execute_result"
    }
   ],
   "source": [
    "df.iloc[1, 1]"
   ]
  },
  {
   "cell_type": "code",
   "execution_count": 42,
   "id": "2b6595e9",
   "metadata": {},
   "outputs": [
    {
     "data": {
      "text/plain": [
       "4"
      ]
     },
     "execution_count": 42,
     "metadata": {},
     "output_type": "execute_result"
    }
   ],
   "source": [
    "df.iat[1,1]"
   ]
  },
  {
   "cell_type": "markdown",
   "id": "e8d9e181",
   "metadata": {},
   "source": [
    "### Selección booleana"
   ]
  },
  {
   "cell_type": "markdown",
   "id": "ffe7fba6",
   "metadata": {},
   "source": [
    "#### Selección de filas que cumplen una condición"
   ]
  },
  {
   "cell_type": "code",
   "execution_count": 43,
   "id": "9c81ac17",
   "metadata": {},
   "outputs": [
    {
     "data": {
      "text/html": [
       "<div>\n",
       "<style scoped>\n",
       "    .dataframe tbody tr th:only-of-type {\n",
       "        vertical-align: middle;\n",
       "    }\n",
       "\n",
       "    .dataframe tbody tr th {\n",
       "        vertical-align: top;\n",
       "    }\n",
       "\n",
       "    .dataframe thead th {\n",
       "        text-align: right;\n",
       "    }\n",
       "</style>\n",
       "<table border=\"1\" class=\"dataframe\">\n",
       "  <thead>\n",
       "    <tr style=\"text-align: right;\">\n",
       "      <th></th>\n",
       "      <th>longitude</th>\n",
       "      <th>latitude</th>\n",
       "      <th>housing_median_age</th>\n",
       "      <th>total_rooms</th>\n",
       "      <th>total_bedrooms</th>\n",
       "      <th>population</th>\n",
       "      <th>households</th>\n",
       "      <th>median_income</th>\n",
       "      <th>median_house_value</th>\n",
       "      <th>ocean_proximity</th>\n",
       "    </tr>\n",
       "  </thead>\n",
       "  <tbody>\n",
       "    <tr>\n",
       "      <th>1022</th>\n",
       "      <td>-119.78</td>\n",
       "      <td>38.69</td>\n",
       "      <td>17.0</td>\n",
       "      <td>1364.0</td>\n",
       "      <td>282.0</td>\n",
       "      <td>338.0</td>\n",
       "      <td>152.0</td>\n",
       "      <td>2.4500</td>\n",
       "      <td>117600.0</td>\n",
       "      <td>inland</td>\n",
       "    </tr>\n",
       "    <tr>\n",
       "      <th>1023</th>\n",
       "      <td>-119.93</td>\n",
       "      <td>38.72</td>\n",
       "      <td>15.0</td>\n",
       "      <td>2061.0</td>\n",
       "      <td>465.0</td>\n",
       "      <td>573.0</td>\n",
       "      <td>196.0</td>\n",
       "      <td>2.2417</td>\n",
       "      <td>97900.0</td>\n",
       "      <td>inland</td>\n",
       "    </tr>\n",
       "    <tr>\n",
       "      <th>1024</th>\n",
       "      <td>-120.00</td>\n",
       "      <td>38.52</td>\n",
       "      <td>16.0</td>\n",
       "      <td>3045.0</td>\n",
       "      <td>543.0</td>\n",
       "      <td>202.0</td>\n",
       "      <td>102.0</td>\n",
       "      <td>3.1500</td>\n",
       "      <td>140600.0</td>\n",
       "      <td>inland</td>\n",
       "    </tr>\n",
       "    <tr>\n",
       "      <th>1025</th>\n",
       "      <td>-120.56</td>\n",
       "      <td>38.48</td>\n",
       "      <td>14.0</td>\n",
       "      <td>3545.0</td>\n",
       "      <td>702.0</td>\n",
       "      <td>946.0</td>\n",
       "      <td>411.0</td>\n",
       "      <td>3.4609</td>\n",
       "      <td>120900.0</td>\n",
       "      <td>inland</td>\n",
       "    </tr>\n",
       "    <tr>\n",
       "      <th>1026</th>\n",
       "      <td>-120.59</td>\n",
       "      <td>38.45</td>\n",
       "      <td>13.0</td>\n",
       "      <td>2944.0</td>\n",
       "      <td>558.0</td>\n",
       "      <td>1091.0</td>\n",
       "      <td>466.0</td>\n",
       "      <td>3.0000</td>\n",
       "      <td>119000.0</td>\n",
       "      <td>inland</td>\n",
       "    </tr>\n",
       "    <tr>\n",
       "      <th>...</th>\n",
       "      <td>...</td>\n",
       "      <td>...</td>\n",
       "      <td>...</td>\n",
       "      <td>...</td>\n",
       "      <td>...</td>\n",
       "      <td>...</td>\n",
       "      <td>...</td>\n",
       "      <td>...</td>\n",
       "      <td>...</td>\n",
       "      <td>...</td>\n",
       "    </tr>\n",
       "    <tr>\n",
       "      <th>20635</th>\n",
       "      <td>-121.09</td>\n",
       "      <td>39.48</td>\n",
       "      <td>25.0</td>\n",
       "      <td>1665.0</td>\n",
       "      <td>374.0</td>\n",
       "      <td>845.0</td>\n",
       "      <td>330.0</td>\n",
       "      <td>1.5603</td>\n",
       "      <td>78100.0</td>\n",
       "      <td>inland</td>\n",
       "    </tr>\n",
       "    <tr>\n",
       "      <th>20636</th>\n",
       "      <td>-121.21</td>\n",
       "      <td>39.49</td>\n",
       "      <td>18.0</td>\n",
       "      <td>697.0</td>\n",
       "      <td>150.0</td>\n",
       "      <td>356.0</td>\n",
       "      <td>114.0</td>\n",
       "      <td>2.5568</td>\n",
       "      <td>77100.0</td>\n",
       "      <td>inland</td>\n",
       "    </tr>\n",
       "    <tr>\n",
       "      <th>20637</th>\n",
       "      <td>-121.22</td>\n",
       "      <td>39.43</td>\n",
       "      <td>17.0</td>\n",
       "      <td>2254.0</td>\n",
       "      <td>485.0</td>\n",
       "      <td>1007.0</td>\n",
       "      <td>433.0</td>\n",
       "      <td>1.7000</td>\n",
       "      <td>92300.0</td>\n",
       "      <td>inland</td>\n",
       "    </tr>\n",
       "    <tr>\n",
       "      <th>20638</th>\n",
       "      <td>-121.32</td>\n",
       "      <td>39.43</td>\n",
       "      <td>18.0</td>\n",
       "      <td>1860.0</td>\n",
       "      <td>409.0</td>\n",
       "      <td>741.0</td>\n",
       "      <td>349.0</td>\n",
       "      <td>1.8672</td>\n",
       "      <td>84700.0</td>\n",
       "      <td>inland</td>\n",
       "    </tr>\n",
       "    <tr>\n",
       "      <th>20639</th>\n",
       "      <td>-121.24</td>\n",
       "      <td>39.37</td>\n",
       "      <td>16.0</td>\n",
       "      <td>2785.0</td>\n",
       "      <td>616.0</td>\n",
       "      <td>1387.0</td>\n",
       "      <td>530.0</td>\n",
       "      <td>2.3886</td>\n",
       "      <td>89400.0</td>\n",
       "      <td>inland</td>\n",
       "    </tr>\n",
       "  </tbody>\n",
       "</table>\n",
       "<p>3015 rows × 10 columns</p>\n",
       "</div>"
      ],
      "text/plain": [
       "       longitude  latitude  housing_median_age  total_rooms  total_bedrooms  \\\n",
       "1022     -119.78     38.69                17.0       1364.0           282.0   \n",
       "1023     -119.93     38.72                15.0       2061.0           465.0   \n",
       "1024     -120.00     38.52                16.0       3045.0           543.0   \n",
       "1025     -120.56     38.48                14.0       3545.0           702.0   \n",
       "1026     -120.59     38.45                13.0       2944.0           558.0   \n",
       "...          ...       ...                 ...          ...             ...   \n",
       "20635    -121.09     39.48                25.0       1665.0           374.0   \n",
       "20636    -121.21     39.49                18.0        697.0           150.0   \n",
       "20637    -121.22     39.43                17.0       2254.0           485.0   \n",
       "20638    -121.32     39.43                18.0       1860.0           409.0   \n",
       "20639    -121.24     39.37                16.0       2785.0           616.0   \n",
       "\n",
       "       population  households  median_income  median_house_value  \\\n",
       "1022        338.0       152.0         2.4500            117600.0   \n",
       "1023        573.0       196.0         2.2417             97900.0   \n",
       "1024        202.0       102.0         3.1500            140600.0   \n",
       "1025        946.0       411.0         3.4609            120900.0   \n",
       "1026       1091.0       466.0         3.0000            119000.0   \n",
       "...           ...         ...            ...                 ...   \n",
       "20635       845.0       330.0         1.5603             78100.0   \n",
       "20636       356.0       114.0         2.5568             77100.0   \n",
       "20637      1007.0       433.0         1.7000             92300.0   \n",
       "20638       741.0       349.0         1.8672             84700.0   \n",
       "20639      1387.0       530.0         2.3886             89400.0   \n",
       "\n",
       "      ocean_proximity  \n",
       "1022           inland  \n",
       "1023           inland  \n",
       "1024           inland  \n",
       "1025           inland  \n",
       "1026           inland  \n",
       "...               ...  \n",
       "20635          inland  \n",
       "20636          inland  \n",
       "20637          inland  \n",
       "20638          inland  \n",
       "20639          inland  \n",
       "\n",
       "[3015 rows x 10 columns]"
      ]
     },
     "execution_count": 43,
     "metadata": {},
     "output_type": "execute_result"
    }
   ],
   "source": [
    "dfpruebas[dfpruebas['latitude']>38]"
   ]
  },
  {
   "cell_type": "markdown",
   "id": "cc2a6ad2",
   "metadata": {},
   "source": [
    "#### Devuelve los valores que cumplen la condición, al resto asigna NaN"
   ]
  },
  {
   "cell_type": "code",
   "execution_count": 44,
   "id": "dce33448",
   "metadata": {},
   "outputs": [
    {
     "data": {
      "text/html": [
       "<div>\n",
       "<style scoped>\n",
       "    .dataframe tbody tr th:only-of-type {\n",
       "        vertical-align: middle;\n",
       "    }\n",
       "\n",
       "    .dataframe tbody tr th {\n",
       "        vertical-align: top;\n",
       "    }\n",
       "\n",
       "    .dataframe thead th {\n",
       "        text-align: right;\n",
       "    }\n",
       "</style>\n",
       "<table border=\"1\" class=\"dataframe\">\n",
       "  <thead>\n",
       "    <tr style=\"text-align: right;\">\n",
       "      <th></th>\n",
       "      <th>A</th>\n",
       "      <th>B</th>\n",
       "      <th>C</th>\n",
       "    </tr>\n",
       "  </thead>\n",
       "  <tbody>\n",
       "    <tr>\n",
       "      <th>l1</th>\n",
       "      <td>1</td>\n",
       "      <td>2</td>\n",
       "      <td>3</td>\n",
       "    </tr>\n",
       "    <tr>\n",
       "      <th>l2</th>\n",
       "      <td>2</td>\n",
       "      <td>4</td>\n",
       "      <td>6</td>\n",
       "    </tr>\n",
       "    <tr>\n",
       "      <th>l3</th>\n",
       "      <td>10</td>\n",
       "      <td>20</td>\n",
       "      <td>30</td>\n",
       "    </tr>\n",
       "  </tbody>\n",
       "</table>\n",
       "</div>"
      ],
      "text/plain": [
       "     A   B   C\n",
       "l1   1   2   3\n",
       "l2   2   4   6\n",
       "l3  10  20  30"
      ]
     },
     "execution_count": 44,
     "metadata": {},
     "output_type": "execute_result"
    }
   ],
   "source": [
    "df"
   ]
  },
  {
   "cell_type": "code",
   "execution_count": 45,
   "id": "fa2c5d5b",
   "metadata": {},
   "outputs": [
    {
     "data": {
      "text/html": [
       "<div>\n",
       "<style scoped>\n",
       "    .dataframe tbody tr th:only-of-type {\n",
       "        vertical-align: middle;\n",
       "    }\n",
       "\n",
       "    .dataframe tbody tr th {\n",
       "        vertical-align: top;\n",
       "    }\n",
       "\n",
       "    .dataframe thead th {\n",
       "        text-align: right;\n",
       "    }\n",
       "</style>\n",
       "<table border=\"1\" class=\"dataframe\">\n",
       "  <thead>\n",
       "    <tr style=\"text-align: right;\">\n",
       "      <th></th>\n",
       "      <th>A</th>\n",
       "      <th>B</th>\n",
       "      <th>C</th>\n",
       "    </tr>\n",
       "  </thead>\n",
       "  <tbody>\n",
       "    <tr>\n",
       "      <th>l1</th>\n",
       "      <td>NaN</td>\n",
       "      <td>NaN</td>\n",
       "      <td>NaN</td>\n",
       "    </tr>\n",
       "    <tr>\n",
       "      <th>l2</th>\n",
       "      <td>NaN</td>\n",
       "      <td>NaN</td>\n",
       "      <td>6.0</td>\n",
       "    </tr>\n",
       "    <tr>\n",
       "      <th>l3</th>\n",
       "      <td>10.0</td>\n",
       "      <td>20.0</td>\n",
       "      <td>30.0</td>\n",
       "    </tr>\n",
       "  </tbody>\n",
       "</table>\n",
       "</div>"
      ],
      "text/plain": [
       "       A     B     C\n",
       "l1   NaN   NaN   NaN\n",
       "l2   NaN   NaN   6.0\n",
       "l3  10.0  20.0  30.0"
      ]
     },
     "execution_count": 45,
     "metadata": {},
     "output_type": "execute_result"
    }
   ],
   "source": [
    "df[df>4]"
   ]
  },
  {
   "cell_type": "markdown",
   "id": "f1586ac6",
   "metadata": {},
   "source": [
    "#### Filtrar por valor o grupo de valores"
   ]
  },
  {
   "cell_type": "code",
   "execution_count": 46,
   "id": "0bd7651a",
   "metadata": {},
   "outputs": [
    {
     "data": {
      "text/html": [
       "<div>\n",
       "<style scoped>\n",
       "    .dataframe tbody tr th:only-of-type {\n",
       "        vertical-align: middle;\n",
       "    }\n",
       "\n",
       "    .dataframe tbody tr th {\n",
       "        vertical-align: top;\n",
       "    }\n",
       "\n",
       "    .dataframe thead th {\n",
       "        text-align: right;\n",
       "    }\n",
       "</style>\n",
       "<table border=\"1\" class=\"dataframe\">\n",
       "  <thead>\n",
       "    <tr style=\"text-align: right;\">\n",
       "      <th></th>\n",
       "      <th>longitude</th>\n",
       "      <th>latitude</th>\n",
       "      <th>housing_median_age</th>\n",
       "      <th>total_rooms</th>\n",
       "      <th>total_bedrooms</th>\n",
       "      <th>population</th>\n",
       "      <th>households</th>\n",
       "      <th>median_income</th>\n",
       "      <th>median_house_value</th>\n",
       "      <th>ocean_proximity</th>\n",
       "    </tr>\n",
       "  </thead>\n",
       "  <tbody>\n",
       "  </tbody>\n",
       "</table>\n",
       "</div>"
      ],
      "text/plain": [
       "Empty DataFrame\n",
       "Columns: [longitude, latitude, housing_median_age, total_rooms, total_bedrooms, population, households, median_income, median_house_value, ocean_proximity]\n",
       "Index: []"
      ]
     },
     "execution_count": 46,
     "metadata": {},
     "output_type": "execute_result"
    }
   ],
   "source": [
    "dfpruebas[dfpruebas['ocean_proximity'].isin(['NEAR BAY','INLAND'])]"
   ]
  },
  {
   "cell_type": "code",
   "execution_count": 47,
   "id": "9a6c70fb",
   "metadata": {},
   "outputs": [
    {
     "data": {
      "text/html": [
       "<div>\n",
       "<style scoped>\n",
       "    .dataframe tbody tr th:only-of-type {\n",
       "        vertical-align: middle;\n",
       "    }\n",
       "\n",
       "    .dataframe tbody tr th {\n",
       "        vertical-align: top;\n",
       "    }\n",
       "\n",
       "    .dataframe thead th {\n",
       "        text-align: right;\n",
       "    }\n",
       "</style>\n",
       "<table border=\"1\" class=\"dataframe\">\n",
       "  <thead>\n",
       "    <tr style=\"text-align: right;\">\n",
       "      <th></th>\n",
       "      <th>longitude</th>\n",
       "      <th>latitude</th>\n",
       "      <th>housing_median_age</th>\n",
       "      <th>total_rooms</th>\n",
       "      <th>total_bedrooms</th>\n",
       "      <th>population</th>\n",
       "      <th>households</th>\n",
       "      <th>median_income</th>\n",
       "      <th>median_house_value</th>\n",
       "      <th>ocean_proximity</th>\n",
       "    </tr>\n",
       "  </thead>\n",
       "  <tbody>\n",
       "    <tr>\n",
       "      <th>0</th>\n",
       "      <td>-122.23</td>\n",
       "      <td>37.88</td>\n",
       "      <td>41.0</td>\n",
       "      <td>880.0</td>\n",
       "      <td>129.0</td>\n",
       "      <td>322.0</td>\n",
       "      <td>126.0</td>\n",
       "      <td>8.3252</td>\n",
       "      <td>452600.0</td>\n",
       "      <td>near bay</td>\n",
       "    </tr>\n",
       "    <tr>\n",
       "      <th>118</th>\n",
       "      <td>-122.23</td>\n",
       "      <td>37.84</td>\n",
       "      <td>50.0</td>\n",
       "      <td>2515.0</td>\n",
       "      <td>399.0</td>\n",
       "      <td>970.0</td>\n",
       "      <td>373.0</td>\n",
       "      <td>5.8596</td>\n",
       "      <td>327600.0</td>\n",
       "      <td>near bay</td>\n",
       "    </tr>\n",
       "    <tr>\n",
       "      <th>119</th>\n",
       "      <td>-122.23</td>\n",
       "      <td>37.84</td>\n",
       "      <td>47.0</td>\n",
       "      <td>3175.0</td>\n",
       "      <td>454.0</td>\n",
       "      <td>1098.0</td>\n",
       "      <td>485.0</td>\n",
       "      <td>5.2868</td>\n",
       "      <td>347600.0</td>\n",
       "      <td>near bay</td>\n",
       "    </tr>\n",
       "    <tr>\n",
       "      <th>122</th>\n",
       "      <td>-122.23</td>\n",
       "      <td>37.85</td>\n",
       "      <td>52.0</td>\n",
       "      <td>2800.0</td>\n",
       "      <td>411.0</td>\n",
       "      <td>1061.0</td>\n",
       "      <td>403.0</td>\n",
       "      <td>6.3434</td>\n",
       "      <td>373600.0</td>\n",
       "      <td>near bay</td>\n",
       "    </tr>\n",
       "    <tr>\n",
       "      <th>152</th>\n",
       "      <td>-122.23</td>\n",
       "      <td>37.80</td>\n",
       "      <td>52.0</td>\n",
       "      <td>2033.0</td>\n",
       "      <td>486.0</td>\n",
       "      <td>787.0</td>\n",
       "      <td>459.0</td>\n",
       "      <td>3.1603</td>\n",
       "      <td>269500.0</td>\n",
       "      <td>near bay</td>\n",
       "    </tr>\n",
       "    <tr>\n",
       "      <th>...</th>\n",
       "      <td>...</td>\n",
       "      <td>...</td>\n",
       "      <td>...</td>\n",
       "      <td>...</td>\n",
       "      <td>...</td>\n",
       "      <td>...</td>\n",
       "      <td>...</td>\n",
       "      <td>...</td>\n",
       "      <td>...</td>\n",
       "      <td>...</td>\n",
       "    </tr>\n",
       "    <tr>\n",
       "      <th>19748</th>\n",
       "      <td>-122.23</td>\n",
       "      <td>40.20</td>\n",
       "      <td>17.0</td>\n",
       "      <td>762.0</td>\n",
       "      <td>138.0</td>\n",
       "      <td>322.0</td>\n",
       "      <td>139.0</td>\n",
       "      <td>4.2917</td>\n",
       "      <td>128800.0</td>\n",
       "      <td>inland</td>\n",
       "    </tr>\n",
       "    <tr>\n",
       "      <th>19758</th>\n",
       "      <td>-122.23</td>\n",
       "      <td>40.17</td>\n",
       "      <td>21.0</td>\n",
       "      <td>1401.0</td>\n",
       "      <td>331.0</td>\n",
       "      <td>651.0</td>\n",
       "      <td>299.0</td>\n",
       "      <td>2.2250</td>\n",
       "      <td>64700.0</td>\n",
       "      <td>inland</td>\n",
       "    </tr>\n",
       "    <tr>\n",
       "      <th>19759</th>\n",
       "      <td>-122.23</td>\n",
       "      <td>40.15</td>\n",
       "      <td>14.0</td>\n",
       "      <td>2297.0</td>\n",
       "      <td>573.0</td>\n",
       "      <td>1637.0</td>\n",
       "      <td>551.0</td>\n",
       "      <td>1.7870</td>\n",
       "      <td>51600.0</td>\n",
       "      <td>inland</td>\n",
       "    </tr>\n",
       "    <tr>\n",
       "      <th>19774</th>\n",
       "      <td>-122.23</td>\n",
       "      <td>39.95</td>\n",
       "      <td>21.0</td>\n",
       "      <td>2087.0</td>\n",
       "      <td>382.0</td>\n",
       "      <td>888.0</td>\n",
       "      <td>361.0</td>\n",
       "      <td>2.2070</td>\n",
       "      <td>86400.0</td>\n",
       "      <td>inland</td>\n",
       "    </tr>\n",
       "    <tr>\n",
       "      <th>19776</th>\n",
       "      <td>-122.23</td>\n",
       "      <td>39.86</td>\n",
       "      <td>21.0</td>\n",
       "      <td>1730.0</td>\n",
       "      <td>350.0</td>\n",
       "      <td>982.0</td>\n",
       "      <td>322.0</td>\n",
       "      <td>1.8375</td>\n",
       "      <td>79800.0</td>\n",
       "      <td>inland</td>\n",
       "    </tr>\n",
       "  </tbody>\n",
       "</table>\n",
       "<p>72 rows × 10 columns</p>\n",
       "</div>"
      ],
      "text/plain": [
       "       longitude  latitude  housing_median_age  total_rooms  total_bedrooms  \\\n",
       "0        -122.23     37.88                41.0        880.0           129.0   \n",
       "118      -122.23     37.84                50.0       2515.0           399.0   \n",
       "119      -122.23     37.84                47.0       3175.0           454.0   \n",
       "122      -122.23     37.85                52.0       2800.0           411.0   \n",
       "152      -122.23     37.80                52.0       2033.0           486.0   \n",
       "...          ...       ...                 ...          ...             ...   \n",
       "19748    -122.23     40.20                17.0        762.0           138.0   \n",
       "19758    -122.23     40.17                21.0       1401.0           331.0   \n",
       "19759    -122.23     40.15                14.0       2297.0           573.0   \n",
       "19774    -122.23     39.95                21.0       2087.0           382.0   \n",
       "19776    -122.23     39.86                21.0       1730.0           350.0   \n",
       "\n",
       "       population  households  median_income  median_house_value  \\\n",
       "0           322.0       126.0         8.3252            452600.0   \n",
       "118         970.0       373.0         5.8596            327600.0   \n",
       "119        1098.0       485.0         5.2868            347600.0   \n",
       "122        1061.0       403.0         6.3434            373600.0   \n",
       "152         787.0       459.0         3.1603            269500.0   \n",
       "...           ...         ...            ...                 ...   \n",
       "19748       322.0       139.0         4.2917            128800.0   \n",
       "19758       651.0       299.0         2.2250             64700.0   \n",
       "19759      1637.0       551.0         1.7870             51600.0   \n",
       "19774       888.0       361.0         2.2070             86400.0   \n",
       "19776       982.0       322.0         1.8375             79800.0   \n",
       "\n",
       "      ocean_proximity  \n",
       "0            near bay  \n",
       "118          near bay  \n",
       "119          near bay  \n",
       "122          near bay  \n",
       "152          near bay  \n",
       "...               ...  \n",
       "19748          inland  \n",
       "19758          inland  \n",
       "19759          inland  \n",
       "19774          inland  \n",
       "19776          inland  \n",
       "\n",
       "[72 rows x 10 columns]"
      ]
     },
     "execution_count": 47,
     "metadata": {},
     "output_type": "execute_result"
    }
   ],
   "source": [
    "dfpruebas[dfpruebas['longitude'].isin([-122.23])]"
   ]
  },
  {
   "cell_type": "markdown",
   "id": "4a920d91",
   "metadata": {},
   "source": [
    "## Borrado de columnas"
   ]
  },
  {
   "cell_type": "markdown",
   "id": "ea399fe6",
   "metadata": {},
   "source": [
    "### Eliminación de columna del dataframe"
   ]
  },
  {
   "cell_type": "code",
   "execution_count": 48,
   "id": "cafea7f4",
   "metadata": {},
   "outputs": [],
   "source": [
    "del dfpruebas['total_rooms']"
   ]
  },
  {
   "cell_type": "code",
   "execution_count": 49,
   "id": "cd47df50",
   "metadata": {},
   "outputs": [
    {
     "data": {
      "text/html": [
       "<div>\n",
       "<style scoped>\n",
       "    .dataframe tbody tr th:only-of-type {\n",
       "        vertical-align: middle;\n",
       "    }\n",
       "\n",
       "    .dataframe tbody tr th {\n",
       "        vertical-align: top;\n",
       "    }\n",
       "\n",
       "    .dataframe thead th {\n",
       "        text-align: right;\n",
       "    }\n",
       "</style>\n",
       "<table border=\"1\" class=\"dataframe\">\n",
       "  <thead>\n",
       "    <tr style=\"text-align: right;\">\n",
       "      <th></th>\n",
       "      <th>longitude</th>\n",
       "      <th>latitude</th>\n",
       "      <th>housing_median_age</th>\n",
       "      <th>total_bedrooms</th>\n",
       "      <th>population</th>\n",
       "      <th>households</th>\n",
       "      <th>median_income</th>\n",
       "      <th>median_house_value</th>\n",
       "      <th>ocean_proximity</th>\n",
       "    </tr>\n",
       "  </thead>\n",
       "  <tbody>\n",
       "    <tr>\n",
       "      <th>0</th>\n",
       "      <td>-122.23</td>\n",
       "      <td>37.88</td>\n",
       "      <td>41.0</td>\n",
       "      <td>129.0</td>\n",
       "      <td>322.0</td>\n",
       "      <td>126.0</td>\n",
       "      <td>8.3252</td>\n",
       "      <td>452600.0</td>\n",
       "      <td>near bay</td>\n",
       "    </tr>\n",
       "    <tr>\n",
       "      <th>1</th>\n",
       "      <td>-122.22</td>\n",
       "      <td>37.86</td>\n",
       "      <td>21.0</td>\n",
       "      <td>1106.0</td>\n",
       "      <td>2401.0</td>\n",
       "      <td>1138.0</td>\n",
       "      <td>8.3014</td>\n",
       "      <td>358500.0</td>\n",
       "      <td>near bay</td>\n",
       "    </tr>\n",
       "    <tr>\n",
       "      <th>2</th>\n",
       "      <td>-122.24</td>\n",
       "      <td>37.85</td>\n",
       "      <td>52.0</td>\n",
       "      <td>190.0</td>\n",
       "      <td>496.0</td>\n",
       "      <td>177.0</td>\n",
       "      <td>7.2574</td>\n",
       "      <td>352100.0</td>\n",
       "      <td>near bay</td>\n",
       "    </tr>\n",
       "    <tr>\n",
       "      <th>3</th>\n",
       "      <td>-122.25</td>\n",
       "      <td>37.85</td>\n",
       "      <td>52.0</td>\n",
       "      <td>235.0</td>\n",
       "      <td>558.0</td>\n",
       "      <td>219.0</td>\n",
       "      <td>5.6431</td>\n",
       "      <td>341300.0</td>\n",
       "      <td>near bay</td>\n",
       "    </tr>\n",
       "    <tr>\n",
       "      <th>4</th>\n",
       "      <td>-122.25</td>\n",
       "      <td>37.85</td>\n",
       "      <td>52.0</td>\n",
       "      <td>280.0</td>\n",
       "      <td>565.0</td>\n",
       "      <td>259.0</td>\n",
       "      <td>3.8462</td>\n",
       "      <td>342200.0</td>\n",
       "      <td>near bay</td>\n",
       "    </tr>\n",
       "    <tr>\n",
       "      <th>...</th>\n",
       "      <td>...</td>\n",
       "      <td>...</td>\n",
       "      <td>...</td>\n",
       "      <td>...</td>\n",
       "      <td>...</td>\n",
       "      <td>...</td>\n",
       "      <td>...</td>\n",
       "      <td>...</td>\n",
       "      <td>...</td>\n",
       "    </tr>\n",
       "    <tr>\n",
       "      <th>20635</th>\n",
       "      <td>-121.09</td>\n",
       "      <td>39.48</td>\n",
       "      <td>25.0</td>\n",
       "      <td>374.0</td>\n",
       "      <td>845.0</td>\n",
       "      <td>330.0</td>\n",
       "      <td>1.5603</td>\n",
       "      <td>78100.0</td>\n",
       "      <td>inland</td>\n",
       "    </tr>\n",
       "    <tr>\n",
       "      <th>20636</th>\n",
       "      <td>-121.21</td>\n",
       "      <td>39.49</td>\n",
       "      <td>18.0</td>\n",
       "      <td>150.0</td>\n",
       "      <td>356.0</td>\n",
       "      <td>114.0</td>\n",
       "      <td>2.5568</td>\n",
       "      <td>77100.0</td>\n",
       "      <td>inland</td>\n",
       "    </tr>\n",
       "    <tr>\n",
       "      <th>20637</th>\n",
       "      <td>-121.22</td>\n",
       "      <td>39.43</td>\n",
       "      <td>17.0</td>\n",
       "      <td>485.0</td>\n",
       "      <td>1007.0</td>\n",
       "      <td>433.0</td>\n",
       "      <td>1.7000</td>\n",
       "      <td>92300.0</td>\n",
       "      <td>inland</td>\n",
       "    </tr>\n",
       "    <tr>\n",
       "      <th>20638</th>\n",
       "      <td>-121.32</td>\n",
       "      <td>39.43</td>\n",
       "      <td>18.0</td>\n",
       "      <td>409.0</td>\n",
       "      <td>741.0</td>\n",
       "      <td>349.0</td>\n",
       "      <td>1.8672</td>\n",
       "      <td>84700.0</td>\n",
       "      <td>inland</td>\n",
       "    </tr>\n",
       "    <tr>\n",
       "      <th>20639</th>\n",
       "      <td>-121.24</td>\n",
       "      <td>39.37</td>\n",
       "      <td>16.0</td>\n",
       "      <td>616.0</td>\n",
       "      <td>1387.0</td>\n",
       "      <td>530.0</td>\n",
       "      <td>2.3886</td>\n",
       "      <td>89400.0</td>\n",
       "      <td>inland</td>\n",
       "    </tr>\n",
       "  </tbody>\n",
       "</table>\n",
       "<p>20640 rows × 9 columns</p>\n",
       "</div>"
      ],
      "text/plain": [
       "       longitude  latitude  housing_median_age  total_bedrooms  population  \\\n",
       "0        -122.23     37.88                41.0           129.0       322.0   \n",
       "1        -122.22     37.86                21.0          1106.0      2401.0   \n",
       "2        -122.24     37.85                52.0           190.0       496.0   \n",
       "3        -122.25     37.85                52.0           235.0       558.0   \n",
       "4        -122.25     37.85                52.0           280.0       565.0   \n",
       "...          ...       ...                 ...             ...         ...   \n",
       "20635    -121.09     39.48                25.0           374.0       845.0   \n",
       "20636    -121.21     39.49                18.0           150.0       356.0   \n",
       "20637    -121.22     39.43                17.0           485.0      1007.0   \n",
       "20638    -121.32     39.43                18.0           409.0       741.0   \n",
       "20639    -121.24     39.37                16.0           616.0      1387.0   \n",
       "\n",
       "       households  median_income  median_house_value ocean_proximity  \n",
       "0           126.0         8.3252            452600.0        near bay  \n",
       "1          1138.0         8.3014            358500.0        near bay  \n",
       "2           177.0         7.2574            352100.0        near bay  \n",
       "3           219.0         5.6431            341300.0        near bay  \n",
       "4           259.0         3.8462            342200.0        near bay  \n",
       "...           ...            ...                 ...             ...  \n",
       "20635       330.0         1.5603             78100.0          inland  \n",
       "20636       114.0         2.5568             77100.0          inland  \n",
       "20637       433.0         1.7000             92300.0          inland  \n",
       "20638       349.0         1.8672             84700.0          inland  \n",
       "20639       530.0         2.3886             89400.0          inland  \n",
       "\n",
       "[20640 rows x 9 columns]"
      ]
     },
     "execution_count": 49,
     "metadata": {},
     "output_type": "execute_result"
    }
   ],
   "source": [
    "dfpruebas"
   ]
  },
  {
   "cell_type": "markdown",
   "id": "ec1043be",
   "metadata": {},
   "source": [
    "### Eliminación de columna del dataframe y reasignación"
   ]
  },
  {
   "cell_type": "code",
   "execution_count": 50,
   "id": "241e70e0",
   "metadata": {},
   "outputs": [],
   "source": [
    "total_bedrooms = dfpruebas.pop('total_bedrooms')"
   ]
  },
  {
   "cell_type": "code",
   "execution_count": 51,
   "id": "a50b0a79",
   "metadata": {},
   "outputs": [
    {
     "data": {
      "text/plain": [
       "0         129.0\n",
       "1        1106.0\n",
       "2         190.0\n",
       "3         235.0\n",
       "4         280.0\n",
       "          ...  \n",
       "20635     374.0\n",
       "20636     150.0\n",
       "20637     485.0\n",
       "20638     409.0\n",
       "20639     616.0\n",
       "Name: total_bedrooms, Length: 20640, dtype: float64"
      ]
     },
     "execution_count": 51,
     "metadata": {},
     "output_type": "execute_result"
    }
   ],
   "source": [
    "total_bedrooms"
   ]
  },
  {
   "cell_type": "code",
   "execution_count": 52,
   "id": "b7a6c329",
   "metadata": {},
   "outputs": [
    {
     "data": {
      "text/html": [
       "<div>\n",
       "<style scoped>\n",
       "    .dataframe tbody tr th:only-of-type {\n",
       "        vertical-align: middle;\n",
       "    }\n",
       "\n",
       "    .dataframe tbody tr th {\n",
       "        vertical-align: top;\n",
       "    }\n",
       "\n",
       "    .dataframe thead th {\n",
       "        text-align: right;\n",
       "    }\n",
       "</style>\n",
       "<table border=\"1\" class=\"dataframe\">\n",
       "  <thead>\n",
       "    <tr style=\"text-align: right;\">\n",
       "      <th></th>\n",
       "      <th>longitude</th>\n",
       "      <th>latitude</th>\n",
       "      <th>housing_median_age</th>\n",
       "      <th>population</th>\n",
       "      <th>households</th>\n",
       "      <th>median_income</th>\n",
       "      <th>median_house_value</th>\n",
       "      <th>ocean_proximity</th>\n",
       "    </tr>\n",
       "  </thead>\n",
       "  <tbody>\n",
       "    <tr>\n",
       "      <th>0</th>\n",
       "      <td>-122.23</td>\n",
       "      <td>37.88</td>\n",
       "      <td>41.0</td>\n",
       "      <td>322.0</td>\n",
       "      <td>126.0</td>\n",
       "      <td>8.3252</td>\n",
       "      <td>452600.0</td>\n",
       "      <td>near bay</td>\n",
       "    </tr>\n",
       "    <tr>\n",
       "      <th>1</th>\n",
       "      <td>-122.22</td>\n",
       "      <td>37.86</td>\n",
       "      <td>21.0</td>\n",
       "      <td>2401.0</td>\n",
       "      <td>1138.0</td>\n",
       "      <td>8.3014</td>\n",
       "      <td>358500.0</td>\n",
       "      <td>near bay</td>\n",
       "    </tr>\n",
       "    <tr>\n",
       "      <th>2</th>\n",
       "      <td>-122.24</td>\n",
       "      <td>37.85</td>\n",
       "      <td>52.0</td>\n",
       "      <td>496.0</td>\n",
       "      <td>177.0</td>\n",
       "      <td>7.2574</td>\n",
       "      <td>352100.0</td>\n",
       "      <td>near bay</td>\n",
       "    </tr>\n",
       "    <tr>\n",
       "      <th>3</th>\n",
       "      <td>-122.25</td>\n",
       "      <td>37.85</td>\n",
       "      <td>52.0</td>\n",
       "      <td>558.0</td>\n",
       "      <td>219.0</td>\n",
       "      <td>5.6431</td>\n",
       "      <td>341300.0</td>\n",
       "      <td>near bay</td>\n",
       "    </tr>\n",
       "    <tr>\n",
       "      <th>4</th>\n",
       "      <td>-122.25</td>\n",
       "      <td>37.85</td>\n",
       "      <td>52.0</td>\n",
       "      <td>565.0</td>\n",
       "      <td>259.0</td>\n",
       "      <td>3.8462</td>\n",
       "      <td>342200.0</td>\n",
       "      <td>near bay</td>\n",
       "    </tr>\n",
       "    <tr>\n",
       "      <th>...</th>\n",
       "      <td>...</td>\n",
       "      <td>...</td>\n",
       "      <td>...</td>\n",
       "      <td>...</td>\n",
       "      <td>...</td>\n",
       "      <td>...</td>\n",
       "      <td>...</td>\n",
       "      <td>...</td>\n",
       "    </tr>\n",
       "    <tr>\n",
       "      <th>20635</th>\n",
       "      <td>-121.09</td>\n",
       "      <td>39.48</td>\n",
       "      <td>25.0</td>\n",
       "      <td>845.0</td>\n",
       "      <td>330.0</td>\n",
       "      <td>1.5603</td>\n",
       "      <td>78100.0</td>\n",
       "      <td>inland</td>\n",
       "    </tr>\n",
       "    <tr>\n",
       "      <th>20636</th>\n",
       "      <td>-121.21</td>\n",
       "      <td>39.49</td>\n",
       "      <td>18.0</td>\n",
       "      <td>356.0</td>\n",
       "      <td>114.0</td>\n",
       "      <td>2.5568</td>\n",
       "      <td>77100.0</td>\n",
       "      <td>inland</td>\n",
       "    </tr>\n",
       "    <tr>\n",
       "      <th>20637</th>\n",
       "      <td>-121.22</td>\n",
       "      <td>39.43</td>\n",
       "      <td>17.0</td>\n",
       "      <td>1007.0</td>\n",
       "      <td>433.0</td>\n",
       "      <td>1.7000</td>\n",
       "      <td>92300.0</td>\n",
       "      <td>inland</td>\n",
       "    </tr>\n",
       "    <tr>\n",
       "      <th>20638</th>\n",
       "      <td>-121.32</td>\n",
       "      <td>39.43</td>\n",
       "      <td>18.0</td>\n",
       "      <td>741.0</td>\n",
       "      <td>349.0</td>\n",
       "      <td>1.8672</td>\n",
       "      <td>84700.0</td>\n",
       "      <td>inland</td>\n",
       "    </tr>\n",
       "    <tr>\n",
       "      <th>20639</th>\n",
       "      <td>-121.24</td>\n",
       "      <td>39.37</td>\n",
       "      <td>16.0</td>\n",
       "      <td>1387.0</td>\n",
       "      <td>530.0</td>\n",
       "      <td>2.3886</td>\n",
       "      <td>89400.0</td>\n",
       "      <td>inland</td>\n",
       "    </tr>\n",
       "  </tbody>\n",
       "</table>\n",
       "<p>20640 rows × 8 columns</p>\n",
       "</div>"
      ],
      "text/plain": [
       "       longitude  latitude  housing_median_age  population  households  \\\n",
       "0        -122.23     37.88                41.0       322.0       126.0   \n",
       "1        -122.22     37.86                21.0      2401.0      1138.0   \n",
       "2        -122.24     37.85                52.0       496.0       177.0   \n",
       "3        -122.25     37.85                52.0       558.0       219.0   \n",
       "4        -122.25     37.85                52.0       565.0       259.0   \n",
       "...          ...       ...                 ...         ...         ...   \n",
       "20635    -121.09     39.48                25.0       845.0       330.0   \n",
       "20636    -121.21     39.49                18.0       356.0       114.0   \n",
       "20637    -121.22     39.43                17.0      1007.0       433.0   \n",
       "20638    -121.32     39.43                18.0       741.0       349.0   \n",
       "20639    -121.24     39.37                16.0      1387.0       530.0   \n",
       "\n",
       "       median_income  median_house_value ocean_proximity  \n",
       "0             8.3252            452600.0        near bay  \n",
       "1             8.3014            358500.0        near bay  \n",
       "2             7.2574            352100.0        near bay  \n",
       "3             5.6431            341300.0        near bay  \n",
       "4             3.8462            342200.0        near bay  \n",
       "...              ...                 ...             ...  \n",
       "20635         1.5603             78100.0          inland  \n",
       "20636         2.5568             77100.0          inland  \n",
       "20637         1.7000             92300.0          inland  \n",
       "20638         1.8672             84700.0          inland  \n",
       "20639         2.3886             89400.0          inland  \n",
       "\n",
       "[20640 rows x 8 columns]"
      ]
     },
     "execution_count": 52,
     "metadata": {},
     "output_type": "execute_result"
    }
   ],
   "source": [
    "dfpruebas"
   ]
  },
  {
   "cell_type": "markdown",
   "id": "405bc6ec",
   "metadata": {},
   "source": [
    "## Asignación de valores"
   ]
  },
  {
   "cell_type": "markdown",
   "id": "7cfb025c",
   "metadata": {},
   "source": [
    "### Asignación de valores a una nueva columna"
   ]
  },
  {
   "cell_type": "code",
   "execution_count": 53,
   "id": "6dfdfe7b",
   "metadata": {},
   "outputs": [],
   "source": [
    "import numpy as np\n",
    "valores = np.zeros(20640)"
   ]
  },
  {
   "cell_type": "code",
   "execution_count": 54,
   "id": "b50835af",
   "metadata": {},
   "outputs": [
    {
     "data": {
      "text/plain": [
       "array([0., 0., 0., ..., 0., 0., 0.])"
      ]
     },
     "execution_count": 54,
     "metadata": {},
     "output_type": "execute_result"
    }
   ],
   "source": [
    "valores"
   ]
  },
  {
   "cell_type": "code",
   "execution_count": 55,
   "id": "f2530ef8",
   "metadata": {},
   "outputs": [],
   "source": [
    "dfpruebas['ceros'] = valores"
   ]
  },
  {
   "cell_type": "code",
   "execution_count": 56,
   "id": "6245c27f",
   "metadata": {},
   "outputs": [],
   "source": [
    "dfpruebas['latmaslong']=dfpruebas['longitude']+dfpruebas['latitude']"
   ]
  },
  {
   "cell_type": "code",
   "execution_count": 57,
   "id": "3d49c69d",
   "metadata": {},
   "outputs": [
    {
     "data": {
      "text/html": [
       "<div>\n",
       "<style scoped>\n",
       "    .dataframe tbody tr th:only-of-type {\n",
       "        vertical-align: middle;\n",
       "    }\n",
       "\n",
       "    .dataframe tbody tr th {\n",
       "        vertical-align: top;\n",
       "    }\n",
       "\n",
       "    .dataframe thead th {\n",
       "        text-align: right;\n",
       "    }\n",
       "</style>\n",
       "<table border=\"1\" class=\"dataframe\">\n",
       "  <thead>\n",
       "    <tr style=\"text-align: right;\">\n",
       "      <th></th>\n",
       "      <th>longitude</th>\n",
       "      <th>latitude</th>\n",
       "      <th>housing_median_age</th>\n",
       "      <th>population</th>\n",
       "      <th>households</th>\n",
       "      <th>median_income</th>\n",
       "      <th>median_house_value</th>\n",
       "      <th>ocean_proximity</th>\n",
       "      <th>ceros</th>\n",
       "      <th>latmaslong</th>\n",
       "    </tr>\n",
       "  </thead>\n",
       "  <tbody>\n",
       "    <tr>\n",
       "      <th>0</th>\n",
       "      <td>-122.23</td>\n",
       "      <td>37.88</td>\n",
       "      <td>41.0</td>\n",
       "      <td>322.0</td>\n",
       "      <td>126.0</td>\n",
       "      <td>8.3252</td>\n",
       "      <td>452600.0</td>\n",
       "      <td>near bay</td>\n",
       "      <td>0.0</td>\n",
       "      <td>-84.35</td>\n",
       "    </tr>\n",
       "    <tr>\n",
       "      <th>1</th>\n",
       "      <td>-122.22</td>\n",
       "      <td>37.86</td>\n",
       "      <td>21.0</td>\n",
       "      <td>2401.0</td>\n",
       "      <td>1138.0</td>\n",
       "      <td>8.3014</td>\n",
       "      <td>358500.0</td>\n",
       "      <td>near bay</td>\n",
       "      <td>0.0</td>\n",
       "      <td>-84.36</td>\n",
       "    </tr>\n",
       "    <tr>\n",
       "      <th>2</th>\n",
       "      <td>-122.24</td>\n",
       "      <td>37.85</td>\n",
       "      <td>52.0</td>\n",
       "      <td>496.0</td>\n",
       "      <td>177.0</td>\n",
       "      <td>7.2574</td>\n",
       "      <td>352100.0</td>\n",
       "      <td>near bay</td>\n",
       "      <td>0.0</td>\n",
       "      <td>-84.39</td>\n",
       "    </tr>\n",
       "    <tr>\n",
       "      <th>3</th>\n",
       "      <td>-122.25</td>\n",
       "      <td>37.85</td>\n",
       "      <td>52.0</td>\n",
       "      <td>558.0</td>\n",
       "      <td>219.0</td>\n",
       "      <td>5.6431</td>\n",
       "      <td>341300.0</td>\n",
       "      <td>near bay</td>\n",
       "      <td>0.0</td>\n",
       "      <td>-84.40</td>\n",
       "    </tr>\n",
       "    <tr>\n",
       "      <th>4</th>\n",
       "      <td>-122.25</td>\n",
       "      <td>37.85</td>\n",
       "      <td>52.0</td>\n",
       "      <td>565.0</td>\n",
       "      <td>259.0</td>\n",
       "      <td>3.8462</td>\n",
       "      <td>342200.0</td>\n",
       "      <td>near bay</td>\n",
       "      <td>0.0</td>\n",
       "      <td>-84.40</td>\n",
       "    </tr>\n",
       "    <tr>\n",
       "      <th>...</th>\n",
       "      <td>...</td>\n",
       "      <td>...</td>\n",
       "      <td>...</td>\n",
       "      <td>...</td>\n",
       "      <td>...</td>\n",
       "      <td>...</td>\n",
       "      <td>...</td>\n",
       "      <td>...</td>\n",
       "      <td>...</td>\n",
       "      <td>...</td>\n",
       "    </tr>\n",
       "    <tr>\n",
       "      <th>20635</th>\n",
       "      <td>-121.09</td>\n",
       "      <td>39.48</td>\n",
       "      <td>25.0</td>\n",
       "      <td>845.0</td>\n",
       "      <td>330.0</td>\n",
       "      <td>1.5603</td>\n",
       "      <td>78100.0</td>\n",
       "      <td>inland</td>\n",
       "      <td>0.0</td>\n",
       "      <td>-81.61</td>\n",
       "    </tr>\n",
       "    <tr>\n",
       "      <th>20636</th>\n",
       "      <td>-121.21</td>\n",
       "      <td>39.49</td>\n",
       "      <td>18.0</td>\n",
       "      <td>356.0</td>\n",
       "      <td>114.0</td>\n",
       "      <td>2.5568</td>\n",
       "      <td>77100.0</td>\n",
       "      <td>inland</td>\n",
       "      <td>0.0</td>\n",
       "      <td>-81.72</td>\n",
       "    </tr>\n",
       "    <tr>\n",
       "      <th>20637</th>\n",
       "      <td>-121.22</td>\n",
       "      <td>39.43</td>\n",
       "      <td>17.0</td>\n",
       "      <td>1007.0</td>\n",
       "      <td>433.0</td>\n",
       "      <td>1.7000</td>\n",
       "      <td>92300.0</td>\n",
       "      <td>inland</td>\n",
       "      <td>0.0</td>\n",
       "      <td>-81.79</td>\n",
       "    </tr>\n",
       "    <tr>\n",
       "      <th>20638</th>\n",
       "      <td>-121.32</td>\n",
       "      <td>39.43</td>\n",
       "      <td>18.0</td>\n",
       "      <td>741.0</td>\n",
       "      <td>349.0</td>\n",
       "      <td>1.8672</td>\n",
       "      <td>84700.0</td>\n",
       "      <td>inland</td>\n",
       "      <td>0.0</td>\n",
       "      <td>-81.89</td>\n",
       "    </tr>\n",
       "    <tr>\n",
       "      <th>20639</th>\n",
       "      <td>-121.24</td>\n",
       "      <td>39.37</td>\n",
       "      <td>16.0</td>\n",
       "      <td>1387.0</td>\n",
       "      <td>530.0</td>\n",
       "      <td>2.3886</td>\n",
       "      <td>89400.0</td>\n",
       "      <td>inland</td>\n",
       "      <td>0.0</td>\n",
       "      <td>-81.87</td>\n",
       "    </tr>\n",
       "  </tbody>\n",
       "</table>\n",
       "<p>20640 rows × 10 columns</p>\n",
       "</div>"
      ],
      "text/plain": [
       "       longitude  latitude  housing_median_age  population  households  \\\n",
       "0        -122.23     37.88                41.0       322.0       126.0   \n",
       "1        -122.22     37.86                21.0      2401.0      1138.0   \n",
       "2        -122.24     37.85                52.0       496.0       177.0   \n",
       "3        -122.25     37.85                52.0       558.0       219.0   \n",
       "4        -122.25     37.85                52.0       565.0       259.0   \n",
       "...          ...       ...                 ...         ...         ...   \n",
       "20635    -121.09     39.48                25.0       845.0       330.0   \n",
       "20636    -121.21     39.49                18.0       356.0       114.0   \n",
       "20637    -121.22     39.43                17.0      1007.0       433.0   \n",
       "20638    -121.32     39.43                18.0       741.0       349.0   \n",
       "20639    -121.24     39.37                16.0      1387.0       530.0   \n",
       "\n",
       "       median_income  median_house_value ocean_proximity  ceros  latmaslong  \n",
       "0             8.3252            452600.0        near bay    0.0      -84.35  \n",
       "1             8.3014            358500.0        near bay    0.0      -84.36  \n",
       "2             7.2574            352100.0        near bay    0.0      -84.39  \n",
       "3             5.6431            341300.0        near bay    0.0      -84.40  \n",
       "4             3.8462            342200.0        near bay    0.0      -84.40  \n",
       "...              ...                 ...             ...    ...         ...  \n",
       "20635         1.5603             78100.0          inland    0.0      -81.61  \n",
       "20636         2.5568             77100.0          inland    0.0      -81.72  \n",
       "20637         1.7000             92300.0          inland    0.0      -81.79  \n",
       "20638         1.8672             84700.0          inland    0.0      -81.89  \n",
       "20639         2.3886             89400.0          inland    0.0      -81.87  \n",
       "\n",
       "[20640 rows x 10 columns]"
      ]
     },
     "execution_count": 57,
     "metadata": {},
     "output_type": "execute_result"
    }
   ],
   "source": [
    "dfpruebas"
   ]
  },
  {
   "cell_type": "markdown",
   "id": "11eb0263",
   "metadata": {},
   "source": [
    "### Asignación por posición o etiqueta"
   ]
  },
  {
   "cell_type": "code",
   "execution_count": 58,
   "id": "e8e31b3c",
   "metadata": {},
   "outputs": [],
   "source": [
    "dfpruebas.at[0,'longitude']=0"
   ]
  },
  {
   "cell_type": "code",
   "execution_count": 59,
   "id": "c30a709f",
   "metadata": {},
   "outputs": [],
   "source": [
    "dfpruebas.iat[0,1]=0"
   ]
  },
  {
   "cell_type": "code",
   "execution_count": 60,
   "id": "7be52f24",
   "metadata": {},
   "outputs": [
    {
     "data": {
      "text/html": [
       "<div>\n",
       "<style scoped>\n",
       "    .dataframe tbody tr th:only-of-type {\n",
       "        vertical-align: middle;\n",
       "    }\n",
       "\n",
       "    .dataframe tbody tr th {\n",
       "        vertical-align: top;\n",
       "    }\n",
       "\n",
       "    .dataframe thead th {\n",
       "        text-align: right;\n",
       "    }\n",
       "</style>\n",
       "<table border=\"1\" class=\"dataframe\">\n",
       "  <thead>\n",
       "    <tr style=\"text-align: right;\">\n",
       "      <th></th>\n",
       "      <th>longitude</th>\n",
       "      <th>latitude</th>\n",
       "      <th>housing_median_age</th>\n",
       "      <th>population</th>\n",
       "      <th>households</th>\n",
       "      <th>median_income</th>\n",
       "      <th>median_house_value</th>\n",
       "      <th>ocean_proximity</th>\n",
       "      <th>ceros</th>\n",
       "      <th>latmaslong</th>\n",
       "    </tr>\n",
       "  </thead>\n",
       "  <tbody>\n",
       "    <tr>\n",
       "      <th>0</th>\n",
       "      <td>0.00</td>\n",
       "      <td>0.00</td>\n",
       "      <td>41.0</td>\n",
       "      <td>322.0</td>\n",
       "      <td>126.0</td>\n",
       "      <td>8.3252</td>\n",
       "      <td>452600.0</td>\n",
       "      <td>near bay</td>\n",
       "      <td>0.0</td>\n",
       "      <td>-84.35</td>\n",
       "    </tr>\n",
       "    <tr>\n",
       "      <th>1</th>\n",
       "      <td>-122.22</td>\n",
       "      <td>37.86</td>\n",
       "      <td>21.0</td>\n",
       "      <td>2401.0</td>\n",
       "      <td>1138.0</td>\n",
       "      <td>8.3014</td>\n",
       "      <td>358500.0</td>\n",
       "      <td>near bay</td>\n",
       "      <td>0.0</td>\n",
       "      <td>-84.36</td>\n",
       "    </tr>\n",
       "    <tr>\n",
       "      <th>2</th>\n",
       "      <td>-122.24</td>\n",
       "      <td>37.85</td>\n",
       "      <td>52.0</td>\n",
       "      <td>496.0</td>\n",
       "      <td>177.0</td>\n",
       "      <td>7.2574</td>\n",
       "      <td>352100.0</td>\n",
       "      <td>near bay</td>\n",
       "      <td>0.0</td>\n",
       "      <td>-84.39</td>\n",
       "    </tr>\n",
       "    <tr>\n",
       "      <th>3</th>\n",
       "      <td>-122.25</td>\n",
       "      <td>37.85</td>\n",
       "      <td>52.0</td>\n",
       "      <td>558.0</td>\n",
       "      <td>219.0</td>\n",
       "      <td>5.6431</td>\n",
       "      <td>341300.0</td>\n",
       "      <td>near bay</td>\n",
       "      <td>0.0</td>\n",
       "      <td>-84.40</td>\n",
       "    </tr>\n",
       "    <tr>\n",
       "      <th>4</th>\n",
       "      <td>-122.25</td>\n",
       "      <td>37.85</td>\n",
       "      <td>52.0</td>\n",
       "      <td>565.0</td>\n",
       "      <td>259.0</td>\n",
       "      <td>3.8462</td>\n",
       "      <td>342200.0</td>\n",
       "      <td>near bay</td>\n",
       "      <td>0.0</td>\n",
       "      <td>-84.40</td>\n",
       "    </tr>\n",
       "    <tr>\n",
       "      <th>...</th>\n",
       "      <td>...</td>\n",
       "      <td>...</td>\n",
       "      <td>...</td>\n",
       "      <td>...</td>\n",
       "      <td>...</td>\n",
       "      <td>...</td>\n",
       "      <td>...</td>\n",
       "      <td>...</td>\n",
       "      <td>...</td>\n",
       "      <td>...</td>\n",
       "    </tr>\n",
       "    <tr>\n",
       "      <th>20635</th>\n",
       "      <td>-121.09</td>\n",
       "      <td>39.48</td>\n",
       "      <td>25.0</td>\n",
       "      <td>845.0</td>\n",
       "      <td>330.0</td>\n",
       "      <td>1.5603</td>\n",
       "      <td>78100.0</td>\n",
       "      <td>inland</td>\n",
       "      <td>0.0</td>\n",
       "      <td>-81.61</td>\n",
       "    </tr>\n",
       "    <tr>\n",
       "      <th>20636</th>\n",
       "      <td>-121.21</td>\n",
       "      <td>39.49</td>\n",
       "      <td>18.0</td>\n",
       "      <td>356.0</td>\n",
       "      <td>114.0</td>\n",
       "      <td>2.5568</td>\n",
       "      <td>77100.0</td>\n",
       "      <td>inland</td>\n",
       "      <td>0.0</td>\n",
       "      <td>-81.72</td>\n",
       "    </tr>\n",
       "    <tr>\n",
       "      <th>20637</th>\n",
       "      <td>-121.22</td>\n",
       "      <td>39.43</td>\n",
       "      <td>17.0</td>\n",
       "      <td>1007.0</td>\n",
       "      <td>433.0</td>\n",
       "      <td>1.7000</td>\n",
       "      <td>92300.0</td>\n",
       "      <td>inland</td>\n",
       "      <td>0.0</td>\n",
       "      <td>-81.79</td>\n",
       "    </tr>\n",
       "    <tr>\n",
       "      <th>20638</th>\n",
       "      <td>-121.32</td>\n",
       "      <td>39.43</td>\n",
       "      <td>18.0</td>\n",
       "      <td>741.0</td>\n",
       "      <td>349.0</td>\n",
       "      <td>1.8672</td>\n",
       "      <td>84700.0</td>\n",
       "      <td>inland</td>\n",
       "      <td>0.0</td>\n",
       "      <td>-81.89</td>\n",
       "    </tr>\n",
       "    <tr>\n",
       "      <th>20639</th>\n",
       "      <td>-121.24</td>\n",
       "      <td>39.37</td>\n",
       "      <td>16.0</td>\n",
       "      <td>1387.0</td>\n",
       "      <td>530.0</td>\n",
       "      <td>2.3886</td>\n",
       "      <td>89400.0</td>\n",
       "      <td>inland</td>\n",
       "      <td>0.0</td>\n",
       "      <td>-81.87</td>\n",
       "    </tr>\n",
       "  </tbody>\n",
       "</table>\n",
       "<p>20640 rows × 10 columns</p>\n",
       "</div>"
      ],
      "text/plain": [
       "       longitude  latitude  housing_median_age  population  households  \\\n",
       "0           0.00      0.00                41.0       322.0       126.0   \n",
       "1        -122.22     37.86                21.0      2401.0      1138.0   \n",
       "2        -122.24     37.85                52.0       496.0       177.0   \n",
       "3        -122.25     37.85                52.0       558.0       219.0   \n",
       "4        -122.25     37.85                52.0       565.0       259.0   \n",
       "...          ...       ...                 ...         ...         ...   \n",
       "20635    -121.09     39.48                25.0       845.0       330.0   \n",
       "20636    -121.21     39.49                18.0       356.0       114.0   \n",
       "20637    -121.22     39.43                17.0      1007.0       433.0   \n",
       "20638    -121.32     39.43                18.0       741.0       349.0   \n",
       "20639    -121.24     39.37                16.0      1387.0       530.0   \n",
       "\n",
       "       median_income  median_house_value ocean_proximity  ceros  latmaslong  \n",
       "0             8.3252            452600.0        near bay    0.0      -84.35  \n",
       "1             8.3014            358500.0        near bay    0.0      -84.36  \n",
       "2             7.2574            352100.0        near bay    0.0      -84.39  \n",
       "3             5.6431            341300.0        near bay    0.0      -84.40  \n",
       "4             3.8462            342200.0        near bay    0.0      -84.40  \n",
       "...              ...                 ...             ...    ...         ...  \n",
       "20635         1.5603             78100.0          inland    0.0      -81.61  \n",
       "20636         2.5568             77100.0          inland    0.0      -81.72  \n",
       "20637         1.7000             92300.0          inland    0.0      -81.79  \n",
       "20638         1.8672             84700.0          inland    0.0      -81.89  \n",
       "20639         2.3886             89400.0          inland    0.0      -81.87  \n",
       "\n",
       "[20640 rows x 10 columns]"
      ]
     },
     "execution_count": 60,
     "metadata": {},
     "output_type": "execute_result"
    }
   ],
   "source": [
    "dfpruebas"
   ]
  },
  {
   "cell_type": "markdown",
   "id": "db4ff8fc",
   "metadata": {},
   "source": [
    "### Asignación por numpy array"
   ]
  },
  {
   "cell_type": "code",
   "execution_count": 61,
   "id": "dcc89cf2",
   "metadata": {},
   "outputs": [],
   "source": [
    "dfpruebas.loc[:,'longitude']= np.array([5]*len(dfpruebas))"
   ]
  },
  {
   "cell_type": "code",
   "execution_count": 62,
   "id": "7a3dc018",
   "metadata": {},
   "outputs": [
    {
     "data": {
      "text/html": [
       "<div>\n",
       "<style scoped>\n",
       "    .dataframe tbody tr th:only-of-type {\n",
       "        vertical-align: middle;\n",
       "    }\n",
       "\n",
       "    .dataframe tbody tr th {\n",
       "        vertical-align: top;\n",
       "    }\n",
       "\n",
       "    .dataframe thead th {\n",
       "        text-align: right;\n",
       "    }\n",
       "</style>\n",
       "<table border=\"1\" class=\"dataframe\">\n",
       "  <thead>\n",
       "    <tr style=\"text-align: right;\">\n",
       "      <th></th>\n",
       "      <th>longitude</th>\n",
       "      <th>latitude</th>\n",
       "      <th>housing_median_age</th>\n",
       "      <th>population</th>\n",
       "      <th>households</th>\n",
       "      <th>median_income</th>\n",
       "      <th>median_house_value</th>\n",
       "      <th>ocean_proximity</th>\n",
       "      <th>ceros</th>\n",
       "      <th>latmaslong</th>\n",
       "    </tr>\n",
       "  </thead>\n",
       "  <tbody>\n",
       "    <tr>\n",
       "      <th>0</th>\n",
       "      <td>5</td>\n",
       "      <td>0.00</td>\n",
       "      <td>41.0</td>\n",
       "      <td>322.0</td>\n",
       "      <td>126.0</td>\n",
       "      <td>8.3252</td>\n",
       "      <td>452600.0</td>\n",
       "      <td>near bay</td>\n",
       "      <td>0.0</td>\n",
       "      <td>-84.35</td>\n",
       "    </tr>\n",
       "    <tr>\n",
       "      <th>1</th>\n",
       "      <td>5</td>\n",
       "      <td>37.86</td>\n",
       "      <td>21.0</td>\n",
       "      <td>2401.0</td>\n",
       "      <td>1138.0</td>\n",
       "      <td>8.3014</td>\n",
       "      <td>358500.0</td>\n",
       "      <td>near bay</td>\n",
       "      <td>0.0</td>\n",
       "      <td>-84.36</td>\n",
       "    </tr>\n",
       "    <tr>\n",
       "      <th>2</th>\n",
       "      <td>5</td>\n",
       "      <td>37.85</td>\n",
       "      <td>52.0</td>\n",
       "      <td>496.0</td>\n",
       "      <td>177.0</td>\n",
       "      <td>7.2574</td>\n",
       "      <td>352100.0</td>\n",
       "      <td>near bay</td>\n",
       "      <td>0.0</td>\n",
       "      <td>-84.39</td>\n",
       "    </tr>\n",
       "    <tr>\n",
       "      <th>3</th>\n",
       "      <td>5</td>\n",
       "      <td>37.85</td>\n",
       "      <td>52.0</td>\n",
       "      <td>558.0</td>\n",
       "      <td>219.0</td>\n",
       "      <td>5.6431</td>\n",
       "      <td>341300.0</td>\n",
       "      <td>near bay</td>\n",
       "      <td>0.0</td>\n",
       "      <td>-84.40</td>\n",
       "    </tr>\n",
       "    <tr>\n",
       "      <th>4</th>\n",
       "      <td>5</td>\n",
       "      <td>37.85</td>\n",
       "      <td>52.0</td>\n",
       "      <td>565.0</td>\n",
       "      <td>259.0</td>\n",
       "      <td>3.8462</td>\n",
       "      <td>342200.0</td>\n",
       "      <td>near bay</td>\n",
       "      <td>0.0</td>\n",
       "      <td>-84.40</td>\n",
       "    </tr>\n",
       "    <tr>\n",
       "      <th>...</th>\n",
       "      <td>...</td>\n",
       "      <td>...</td>\n",
       "      <td>...</td>\n",
       "      <td>...</td>\n",
       "      <td>...</td>\n",
       "      <td>...</td>\n",
       "      <td>...</td>\n",
       "      <td>...</td>\n",
       "      <td>...</td>\n",
       "      <td>...</td>\n",
       "    </tr>\n",
       "    <tr>\n",
       "      <th>20635</th>\n",
       "      <td>5</td>\n",
       "      <td>39.48</td>\n",
       "      <td>25.0</td>\n",
       "      <td>845.0</td>\n",
       "      <td>330.0</td>\n",
       "      <td>1.5603</td>\n",
       "      <td>78100.0</td>\n",
       "      <td>inland</td>\n",
       "      <td>0.0</td>\n",
       "      <td>-81.61</td>\n",
       "    </tr>\n",
       "    <tr>\n",
       "      <th>20636</th>\n",
       "      <td>5</td>\n",
       "      <td>39.49</td>\n",
       "      <td>18.0</td>\n",
       "      <td>356.0</td>\n",
       "      <td>114.0</td>\n",
       "      <td>2.5568</td>\n",
       "      <td>77100.0</td>\n",
       "      <td>inland</td>\n",
       "      <td>0.0</td>\n",
       "      <td>-81.72</td>\n",
       "    </tr>\n",
       "    <tr>\n",
       "      <th>20637</th>\n",
       "      <td>5</td>\n",
       "      <td>39.43</td>\n",
       "      <td>17.0</td>\n",
       "      <td>1007.0</td>\n",
       "      <td>433.0</td>\n",
       "      <td>1.7000</td>\n",
       "      <td>92300.0</td>\n",
       "      <td>inland</td>\n",
       "      <td>0.0</td>\n",
       "      <td>-81.79</td>\n",
       "    </tr>\n",
       "    <tr>\n",
       "      <th>20638</th>\n",
       "      <td>5</td>\n",
       "      <td>39.43</td>\n",
       "      <td>18.0</td>\n",
       "      <td>741.0</td>\n",
       "      <td>349.0</td>\n",
       "      <td>1.8672</td>\n",
       "      <td>84700.0</td>\n",
       "      <td>inland</td>\n",
       "      <td>0.0</td>\n",
       "      <td>-81.89</td>\n",
       "    </tr>\n",
       "    <tr>\n",
       "      <th>20639</th>\n",
       "      <td>5</td>\n",
       "      <td>39.37</td>\n",
       "      <td>16.0</td>\n",
       "      <td>1387.0</td>\n",
       "      <td>530.0</td>\n",
       "      <td>2.3886</td>\n",
       "      <td>89400.0</td>\n",
       "      <td>inland</td>\n",
       "      <td>0.0</td>\n",
       "      <td>-81.87</td>\n",
       "    </tr>\n",
       "  </tbody>\n",
       "</table>\n",
       "<p>20640 rows × 10 columns</p>\n",
       "</div>"
      ],
      "text/plain": [
       "       longitude  latitude  housing_median_age  population  households  \\\n",
       "0              5      0.00                41.0       322.0       126.0   \n",
       "1              5     37.86                21.0      2401.0      1138.0   \n",
       "2              5     37.85                52.0       496.0       177.0   \n",
       "3              5     37.85                52.0       558.0       219.0   \n",
       "4              5     37.85                52.0       565.0       259.0   \n",
       "...          ...       ...                 ...         ...         ...   \n",
       "20635          5     39.48                25.0       845.0       330.0   \n",
       "20636          5     39.49                18.0       356.0       114.0   \n",
       "20637          5     39.43                17.0      1007.0       433.0   \n",
       "20638          5     39.43                18.0       741.0       349.0   \n",
       "20639          5     39.37                16.0      1387.0       530.0   \n",
       "\n",
       "       median_income  median_house_value ocean_proximity  ceros  latmaslong  \n",
       "0             8.3252            452600.0        near bay    0.0      -84.35  \n",
       "1             8.3014            358500.0        near bay    0.0      -84.36  \n",
       "2             7.2574            352100.0        near bay    0.0      -84.39  \n",
       "3             5.6431            341300.0        near bay    0.0      -84.40  \n",
       "4             3.8462            342200.0        near bay    0.0      -84.40  \n",
       "...              ...                 ...             ...    ...         ...  \n",
       "20635         1.5603             78100.0          inland    0.0      -81.61  \n",
       "20636         2.5568             77100.0          inland    0.0      -81.72  \n",
       "20637         1.7000             92300.0          inland    0.0      -81.79  \n",
       "20638         1.8672             84700.0          inland    0.0      -81.89  \n",
       "20639         2.3886             89400.0          inland    0.0      -81.87  \n",
       "\n",
       "[20640 rows x 10 columns]"
      ]
     },
     "execution_count": 62,
     "metadata": {},
     "output_type": "execute_result"
    }
   ],
   "source": [
    "dfpruebas"
   ]
  },
  {
   "cell_type": "markdown",
   "id": "8e258bb1",
   "metadata": {},
   "source": [
    "### Asignación por escalar"
   ]
  },
  {
   "cell_type": "code",
   "execution_count": 63,
   "id": "eee14264",
   "metadata": {},
   "outputs": [],
   "source": [
    "dfpruebas['longitude']=1"
   ]
  },
  {
   "cell_type": "code",
   "execution_count": 64,
   "id": "e97627a1",
   "metadata": {},
   "outputs": [
    {
     "data": {
      "text/html": [
       "<div>\n",
       "<style scoped>\n",
       "    .dataframe tbody tr th:only-of-type {\n",
       "        vertical-align: middle;\n",
       "    }\n",
       "\n",
       "    .dataframe tbody tr th {\n",
       "        vertical-align: top;\n",
       "    }\n",
       "\n",
       "    .dataframe thead th {\n",
       "        text-align: right;\n",
       "    }\n",
       "</style>\n",
       "<table border=\"1\" class=\"dataframe\">\n",
       "  <thead>\n",
       "    <tr style=\"text-align: right;\">\n",
       "      <th></th>\n",
       "      <th>longitude</th>\n",
       "      <th>latitude</th>\n",
       "      <th>housing_median_age</th>\n",
       "      <th>population</th>\n",
       "      <th>households</th>\n",
       "      <th>median_income</th>\n",
       "      <th>median_house_value</th>\n",
       "      <th>ocean_proximity</th>\n",
       "      <th>ceros</th>\n",
       "      <th>latmaslong</th>\n",
       "    </tr>\n",
       "  </thead>\n",
       "  <tbody>\n",
       "    <tr>\n",
       "      <th>0</th>\n",
       "      <td>1</td>\n",
       "      <td>0.00</td>\n",
       "      <td>41.0</td>\n",
       "      <td>322.0</td>\n",
       "      <td>126.0</td>\n",
       "      <td>8.3252</td>\n",
       "      <td>452600.0</td>\n",
       "      <td>near bay</td>\n",
       "      <td>0.0</td>\n",
       "      <td>-84.35</td>\n",
       "    </tr>\n",
       "    <tr>\n",
       "      <th>1</th>\n",
       "      <td>1</td>\n",
       "      <td>37.86</td>\n",
       "      <td>21.0</td>\n",
       "      <td>2401.0</td>\n",
       "      <td>1138.0</td>\n",
       "      <td>8.3014</td>\n",
       "      <td>358500.0</td>\n",
       "      <td>near bay</td>\n",
       "      <td>0.0</td>\n",
       "      <td>-84.36</td>\n",
       "    </tr>\n",
       "    <tr>\n",
       "      <th>2</th>\n",
       "      <td>1</td>\n",
       "      <td>37.85</td>\n",
       "      <td>52.0</td>\n",
       "      <td>496.0</td>\n",
       "      <td>177.0</td>\n",
       "      <td>7.2574</td>\n",
       "      <td>352100.0</td>\n",
       "      <td>near bay</td>\n",
       "      <td>0.0</td>\n",
       "      <td>-84.39</td>\n",
       "    </tr>\n",
       "    <tr>\n",
       "      <th>3</th>\n",
       "      <td>1</td>\n",
       "      <td>37.85</td>\n",
       "      <td>52.0</td>\n",
       "      <td>558.0</td>\n",
       "      <td>219.0</td>\n",
       "      <td>5.6431</td>\n",
       "      <td>341300.0</td>\n",
       "      <td>near bay</td>\n",
       "      <td>0.0</td>\n",
       "      <td>-84.40</td>\n",
       "    </tr>\n",
       "    <tr>\n",
       "      <th>4</th>\n",
       "      <td>1</td>\n",
       "      <td>37.85</td>\n",
       "      <td>52.0</td>\n",
       "      <td>565.0</td>\n",
       "      <td>259.0</td>\n",
       "      <td>3.8462</td>\n",
       "      <td>342200.0</td>\n",
       "      <td>near bay</td>\n",
       "      <td>0.0</td>\n",
       "      <td>-84.40</td>\n",
       "    </tr>\n",
       "    <tr>\n",
       "      <th>...</th>\n",
       "      <td>...</td>\n",
       "      <td>...</td>\n",
       "      <td>...</td>\n",
       "      <td>...</td>\n",
       "      <td>...</td>\n",
       "      <td>...</td>\n",
       "      <td>...</td>\n",
       "      <td>...</td>\n",
       "      <td>...</td>\n",
       "      <td>...</td>\n",
       "    </tr>\n",
       "    <tr>\n",
       "      <th>20635</th>\n",
       "      <td>1</td>\n",
       "      <td>39.48</td>\n",
       "      <td>25.0</td>\n",
       "      <td>845.0</td>\n",
       "      <td>330.0</td>\n",
       "      <td>1.5603</td>\n",
       "      <td>78100.0</td>\n",
       "      <td>inland</td>\n",
       "      <td>0.0</td>\n",
       "      <td>-81.61</td>\n",
       "    </tr>\n",
       "    <tr>\n",
       "      <th>20636</th>\n",
       "      <td>1</td>\n",
       "      <td>39.49</td>\n",
       "      <td>18.0</td>\n",
       "      <td>356.0</td>\n",
       "      <td>114.0</td>\n",
       "      <td>2.5568</td>\n",
       "      <td>77100.0</td>\n",
       "      <td>inland</td>\n",
       "      <td>0.0</td>\n",
       "      <td>-81.72</td>\n",
       "    </tr>\n",
       "    <tr>\n",
       "      <th>20637</th>\n",
       "      <td>1</td>\n",
       "      <td>39.43</td>\n",
       "      <td>17.0</td>\n",
       "      <td>1007.0</td>\n",
       "      <td>433.0</td>\n",
       "      <td>1.7000</td>\n",
       "      <td>92300.0</td>\n",
       "      <td>inland</td>\n",
       "      <td>0.0</td>\n",
       "      <td>-81.79</td>\n",
       "    </tr>\n",
       "    <tr>\n",
       "      <th>20638</th>\n",
       "      <td>1</td>\n",
       "      <td>39.43</td>\n",
       "      <td>18.0</td>\n",
       "      <td>741.0</td>\n",
       "      <td>349.0</td>\n",
       "      <td>1.8672</td>\n",
       "      <td>84700.0</td>\n",
       "      <td>inland</td>\n",
       "      <td>0.0</td>\n",
       "      <td>-81.89</td>\n",
       "    </tr>\n",
       "    <tr>\n",
       "      <th>20639</th>\n",
       "      <td>1</td>\n",
       "      <td>39.37</td>\n",
       "      <td>16.0</td>\n",
       "      <td>1387.0</td>\n",
       "      <td>530.0</td>\n",
       "      <td>2.3886</td>\n",
       "      <td>89400.0</td>\n",
       "      <td>inland</td>\n",
       "      <td>0.0</td>\n",
       "      <td>-81.87</td>\n",
       "    </tr>\n",
       "  </tbody>\n",
       "</table>\n",
       "<p>20640 rows × 10 columns</p>\n",
       "</div>"
      ],
      "text/plain": [
       "       longitude  latitude  housing_median_age  population  households  \\\n",
       "0              1      0.00                41.0       322.0       126.0   \n",
       "1              1     37.86                21.0      2401.0      1138.0   \n",
       "2              1     37.85                52.0       496.0       177.0   \n",
       "3              1     37.85                52.0       558.0       219.0   \n",
       "4              1     37.85                52.0       565.0       259.0   \n",
       "...          ...       ...                 ...         ...         ...   \n",
       "20635          1     39.48                25.0       845.0       330.0   \n",
       "20636          1     39.49                18.0       356.0       114.0   \n",
       "20637          1     39.43                17.0      1007.0       433.0   \n",
       "20638          1     39.43                18.0       741.0       349.0   \n",
       "20639          1     39.37                16.0      1387.0       530.0   \n",
       "\n",
       "       median_income  median_house_value ocean_proximity  ceros  latmaslong  \n",
       "0             8.3252            452600.0        near bay    0.0      -84.35  \n",
       "1             8.3014            358500.0        near bay    0.0      -84.36  \n",
       "2             7.2574            352100.0        near bay    0.0      -84.39  \n",
       "3             5.6431            341300.0        near bay    0.0      -84.40  \n",
       "4             3.8462            342200.0        near bay    0.0      -84.40  \n",
       "...              ...                 ...             ...    ...         ...  \n",
       "20635         1.5603             78100.0          inland    0.0      -81.61  \n",
       "20636         2.5568             77100.0          inland    0.0      -81.72  \n",
       "20637         1.7000             92300.0          inland    0.0      -81.79  \n",
       "20638         1.8672             84700.0          inland    0.0      -81.89  \n",
       "20639         2.3886             89400.0          inland    0.0      -81.87  \n",
       "\n",
       "[20640 rows x 10 columns]"
      ]
     },
     "execution_count": 64,
     "metadata": {},
     "output_type": "execute_result"
    }
   ],
   "source": [
    "dfpruebas"
   ]
  },
  {
   "cell_type": "markdown",
   "id": "46bbe064",
   "metadata": {},
   "source": [
    "### Asignación por condición booleana"
   ]
  },
  {
   "cell_type": "code",
   "execution_count": 65,
   "id": "d5560184",
   "metadata": {},
   "outputs": [],
   "source": [
    "dfpruebas[dfpruebas['latitude']<38]=0"
   ]
  },
  {
   "cell_type": "code",
   "execution_count": 66,
   "id": "a1b9122e",
   "metadata": {},
   "outputs": [
    {
     "data": {
      "text/html": [
       "<div>\n",
       "<style scoped>\n",
       "    .dataframe tbody tr th:only-of-type {\n",
       "        vertical-align: middle;\n",
       "    }\n",
       "\n",
       "    .dataframe tbody tr th {\n",
       "        vertical-align: top;\n",
       "    }\n",
       "\n",
       "    .dataframe thead th {\n",
       "        text-align: right;\n",
       "    }\n",
       "</style>\n",
       "<table border=\"1\" class=\"dataframe\">\n",
       "  <thead>\n",
       "    <tr style=\"text-align: right;\">\n",
       "      <th></th>\n",
       "      <th>longitude</th>\n",
       "      <th>latitude</th>\n",
       "      <th>housing_median_age</th>\n",
       "      <th>population</th>\n",
       "      <th>households</th>\n",
       "      <th>median_income</th>\n",
       "      <th>median_house_value</th>\n",
       "      <th>ocean_proximity</th>\n",
       "      <th>ceros</th>\n",
       "      <th>latmaslong</th>\n",
       "    </tr>\n",
       "  </thead>\n",
       "  <tbody>\n",
       "    <tr>\n",
       "      <th>0</th>\n",
       "      <td>0</td>\n",
       "      <td>0.00</td>\n",
       "      <td>0.0</td>\n",
       "      <td>0.0</td>\n",
       "      <td>0.0</td>\n",
       "      <td>0.0000</td>\n",
       "      <td>0.0</td>\n",
       "      <td>0</td>\n",
       "      <td>0.0</td>\n",
       "      <td>0.00</td>\n",
       "    </tr>\n",
       "    <tr>\n",
       "      <th>1</th>\n",
       "      <td>0</td>\n",
       "      <td>0.00</td>\n",
       "      <td>0.0</td>\n",
       "      <td>0.0</td>\n",
       "      <td>0.0</td>\n",
       "      <td>0.0000</td>\n",
       "      <td>0.0</td>\n",
       "      <td>0</td>\n",
       "      <td>0.0</td>\n",
       "      <td>0.00</td>\n",
       "    </tr>\n",
       "    <tr>\n",
       "      <th>2</th>\n",
       "      <td>0</td>\n",
       "      <td>0.00</td>\n",
       "      <td>0.0</td>\n",
       "      <td>0.0</td>\n",
       "      <td>0.0</td>\n",
       "      <td>0.0000</td>\n",
       "      <td>0.0</td>\n",
       "      <td>0</td>\n",
       "      <td>0.0</td>\n",
       "      <td>0.00</td>\n",
       "    </tr>\n",
       "    <tr>\n",
       "      <th>3</th>\n",
       "      <td>0</td>\n",
       "      <td>0.00</td>\n",
       "      <td>0.0</td>\n",
       "      <td>0.0</td>\n",
       "      <td>0.0</td>\n",
       "      <td>0.0000</td>\n",
       "      <td>0.0</td>\n",
       "      <td>0</td>\n",
       "      <td>0.0</td>\n",
       "      <td>0.00</td>\n",
       "    </tr>\n",
       "    <tr>\n",
       "      <th>4</th>\n",
       "      <td>0</td>\n",
       "      <td>0.00</td>\n",
       "      <td>0.0</td>\n",
       "      <td>0.0</td>\n",
       "      <td>0.0</td>\n",
       "      <td>0.0000</td>\n",
       "      <td>0.0</td>\n",
       "      <td>0</td>\n",
       "      <td>0.0</td>\n",
       "      <td>0.00</td>\n",
       "    </tr>\n",
       "    <tr>\n",
       "      <th>...</th>\n",
       "      <td>...</td>\n",
       "      <td>...</td>\n",
       "      <td>...</td>\n",
       "      <td>...</td>\n",
       "      <td>...</td>\n",
       "      <td>...</td>\n",
       "      <td>...</td>\n",
       "      <td>...</td>\n",
       "      <td>...</td>\n",
       "      <td>...</td>\n",
       "    </tr>\n",
       "    <tr>\n",
       "      <th>20635</th>\n",
       "      <td>1</td>\n",
       "      <td>39.48</td>\n",
       "      <td>25.0</td>\n",
       "      <td>845.0</td>\n",
       "      <td>330.0</td>\n",
       "      <td>1.5603</td>\n",
       "      <td>78100.0</td>\n",
       "      <td>inland</td>\n",
       "      <td>0.0</td>\n",
       "      <td>-81.61</td>\n",
       "    </tr>\n",
       "    <tr>\n",
       "      <th>20636</th>\n",
       "      <td>1</td>\n",
       "      <td>39.49</td>\n",
       "      <td>18.0</td>\n",
       "      <td>356.0</td>\n",
       "      <td>114.0</td>\n",
       "      <td>2.5568</td>\n",
       "      <td>77100.0</td>\n",
       "      <td>inland</td>\n",
       "      <td>0.0</td>\n",
       "      <td>-81.72</td>\n",
       "    </tr>\n",
       "    <tr>\n",
       "      <th>20637</th>\n",
       "      <td>1</td>\n",
       "      <td>39.43</td>\n",
       "      <td>17.0</td>\n",
       "      <td>1007.0</td>\n",
       "      <td>433.0</td>\n",
       "      <td>1.7000</td>\n",
       "      <td>92300.0</td>\n",
       "      <td>inland</td>\n",
       "      <td>0.0</td>\n",
       "      <td>-81.79</td>\n",
       "    </tr>\n",
       "    <tr>\n",
       "      <th>20638</th>\n",
       "      <td>1</td>\n",
       "      <td>39.43</td>\n",
       "      <td>18.0</td>\n",
       "      <td>741.0</td>\n",
       "      <td>349.0</td>\n",
       "      <td>1.8672</td>\n",
       "      <td>84700.0</td>\n",
       "      <td>inland</td>\n",
       "      <td>0.0</td>\n",
       "      <td>-81.89</td>\n",
       "    </tr>\n",
       "    <tr>\n",
       "      <th>20639</th>\n",
       "      <td>1</td>\n",
       "      <td>39.37</td>\n",
       "      <td>16.0</td>\n",
       "      <td>1387.0</td>\n",
       "      <td>530.0</td>\n",
       "      <td>2.3886</td>\n",
       "      <td>89400.0</td>\n",
       "      <td>inland</td>\n",
       "      <td>0.0</td>\n",
       "      <td>-81.87</td>\n",
       "    </tr>\n",
       "  </tbody>\n",
       "</table>\n",
       "<p>20640 rows × 10 columns</p>\n",
       "</div>"
      ],
      "text/plain": [
       "       longitude  latitude  housing_median_age  population  households  \\\n",
       "0              0      0.00                 0.0         0.0         0.0   \n",
       "1              0      0.00                 0.0         0.0         0.0   \n",
       "2              0      0.00                 0.0         0.0         0.0   \n",
       "3              0      0.00                 0.0         0.0         0.0   \n",
       "4              0      0.00                 0.0         0.0         0.0   \n",
       "...          ...       ...                 ...         ...         ...   \n",
       "20635          1     39.48                25.0       845.0       330.0   \n",
       "20636          1     39.49                18.0       356.0       114.0   \n",
       "20637          1     39.43                17.0      1007.0       433.0   \n",
       "20638          1     39.43                18.0       741.0       349.0   \n",
       "20639          1     39.37                16.0      1387.0       530.0   \n",
       "\n",
       "       median_income  median_house_value ocean_proximity  ceros  latmaslong  \n",
       "0             0.0000                 0.0               0    0.0        0.00  \n",
       "1             0.0000                 0.0               0    0.0        0.00  \n",
       "2             0.0000                 0.0               0    0.0        0.00  \n",
       "3             0.0000                 0.0               0    0.0        0.00  \n",
       "4             0.0000                 0.0               0    0.0        0.00  \n",
       "...              ...                 ...             ...    ...         ...  \n",
       "20635         1.5603             78100.0          inland    0.0      -81.61  \n",
       "20636         2.5568             77100.0          inland    0.0      -81.72  \n",
       "20637         1.7000             92300.0          inland    0.0      -81.79  \n",
       "20638         1.8672             84700.0          inland    0.0      -81.89  \n",
       "20639         2.3886             89400.0          inland    0.0      -81.87  \n",
       "\n",
       "[20640 rows x 10 columns]"
      ]
     },
     "execution_count": 66,
     "metadata": {},
     "output_type": "execute_result"
    }
   ],
   "source": [
    "dfpruebas"
   ]
  },
  {
   "cell_type": "markdown",
   "id": "0d054a17",
   "metadata": {},
   "source": [
    "**Nota:** Como se puede ver, asigna el valor a todo el dataframe en este caso"
   ]
  },
  {
   "cell_type": "code",
   "execution_count": 67,
   "id": "834081d1",
   "metadata": {},
   "outputs": [],
   "source": [
    "df[df>4]=4"
   ]
  },
  {
   "cell_type": "code",
   "execution_count": 68,
   "id": "5aa73542",
   "metadata": {
    "scrolled": true
   },
   "outputs": [
    {
     "data": {
      "text/html": [
       "<div>\n",
       "<style scoped>\n",
       "    .dataframe tbody tr th:only-of-type {\n",
       "        vertical-align: middle;\n",
       "    }\n",
       "\n",
       "    .dataframe tbody tr th {\n",
       "        vertical-align: top;\n",
       "    }\n",
       "\n",
       "    .dataframe thead th {\n",
       "        text-align: right;\n",
       "    }\n",
       "</style>\n",
       "<table border=\"1\" class=\"dataframe\">\n",
       "  <thead>\n",
       "    <tr style=\"text-align: right;\">\n",
       "      <th></th>\n",
       "      <th>A</th>\n",
       "      <th>B</th>\n",
       "      <th>C</th>\n",
       "    </tr>\n",
       "  </thead>\n",
       "  <tbody>\n",
       "    <tr>\n",
       "      <th>l1</th>\n",
       "      <td>1</td>\n",
       "      <td>2</td>\n",
       "      <td>3</td>\n",
       "    </tr>\n",
       "    <tr>\n",
       "      <th>l2</th>\n",
       "      <td>2</td>\n",
       "      <td>4</td>\n",
       "      <td>4</td>\n",
       "    </tr>\n",
       "    <tr>\n",
       "      <th>l3</th>\n",
       "      <td>4</td>\n",
       "      <td>4</td>\n",
       "      <td>4</td>\n",
       "    </tr>\n",
       "  </tbody>\n",
       "</table>\n",
       "</div>"
      ],
      "text/plain": [
       "    A  B  C\n",
       "l1  1  2  3\n",
       "l2  2  4  4\n",
       "l3  4  4  4"
      ]
     },
     "execution_count": 68,
     "metadata": {},
     "output_type": "execute_result"
    }
   ],
   "source": [
    "df"
   ]
  },
  {
   "cell_type": "markdown",
   "id": "65720b0d",
   "metadata": {},
   "source": [
    "#### Sustituir valores de columna booleana por valor numérico\n",
    "\n",
    "**Nota:** Falta df de ejemplo para aplicar"
   ]
  },
  {
   "cell_type": "code",
   "execution_count": 69,
   "id": "1a1a9a01",
   "metadata": {},
   "outputs": [
    {
     "ename": "KeyError",
     "evalue": "'defects'",
     "output_type": "error",
     "traceback": [
      "\u001b[1;31m---------------------------------------------------------------------------\u001b[0m",
      "\u001b[1;31mKeyError\u001b[0m                                  Traceback (most recent call last)",
      "\u001b[1;32m~\\anaconda3\\envs\\tf2\\lib\\site-packages\\pandas\\core\\indexes\\base.py\u001b[0m in \u001b[0;36mget_loc\u001b[1;34m(self, key, method, tolerance)\u001b[0m\n\u001b[0;32m   3360\u001b[0m             \u001b[1;32mtry\u001b[0m\u001b[1;33m:\u001b[0m\u001b[1;33m\u001b[0m\u001b[1;33m\u001b[0m\u001b[0m\n\u001b[1;32m-> 3361\u001b[1;33m                 \u001b[1;32mreturn\u001b[0m \u001b[0mself\u001b[0m\u001b[1;33m.\u001b[0m\u001b[0m_engine\u001b[0m\u001b[1;33m.\u001b[0m\u001b[0mget_loc\u001b[0m\u001b[1;33m(\u001b[0m\u001b[0mcasted_key\u001b[0m\u001b[1;33m)\u001b[0m\u001b[1;33m\u001b[0m\u001b[1;33m\u001b[0m\u001b[0m\n\u001b[0m\u001b[0;32m   3362\u001b[0m             \u001b[1;32mexcept\u001b[0m \u001b[0mKeyError\u001b[0m \u001b[1;32mas\u001b[0m \u001b[0merr\u001b[0m\u001b[1;33m:\u001b[0m\u001b[1;33m\u001b[0m\u001b[1;33m\u001b[0m\u001b[0m\n",
      "\u001b[1;32m~\\anaconda3\\envs\\tf2\\lib\\site-packages\\pandas\\_libs\\index.pyx\u001b[0m in \u001b[0;36mpandas._libs.index.IndexEngine.get_loc\u001b[1;34m()\u001b[0m\n",
      "\u001b[1;32m~\\anaconda3\\envs\\tf2\\lib\\site-packages\\pandas\\_libs\\index.pyx\u001b[0m in \u001b[0;36mpandas._libs.index.IndexEngine.get_loc\u001b[1;34m()\u001b[0m\n",
      "\u001b[1;32mpandas\\_libs\\hashtable_class_helper.pxi\u001b[0m in \u001b[0;36mpandas._libs.hashtable.PyObjectHashTable.get_item\u001b[1;34m()\u001b[0m\n",
      "\u001b[1;32mpandas\\_libs\\hashtable_class_helper.pxi\u001b[0m in \u001b[0;36mpandas._libs.hashtable.PyObjectHashTable.get_item\u001b[1;34m()\u001b[0m\n",
      "\u001b[1;31mKeyError\u001b[0m: 'defects'",
      "\nThe above exception was the direct cause of the following exception:\n",
      "\u001b[1;31mKeyError\u001b[0m                                  Traceback (most recent call last)",
      "\u001b[1;32m~\\AppData\\Local\\Temp\\ipykernel_18568\\982298330.py\u001b[0m in \u001b[0;36m<module>\u001b[1;34m\u001b[0m\n\u001b[1;32m----> 1\u001b[1;33m \u001b[0mdf\u001b[0m\u001b[1;33m[\u001b[0m\u001b[1;34m'defects'\u001b[0m\u001b[1;33m]\u001b[0m \u001b[1;33m=\u001b[0m \u001b[0mdf\u001b[0m\u001b[1;33m[\u001b[0m\u001b[1;34m'defects'\u001b[0m\u001b[1;33m]\u001b[0m\u001b[1;33m.\u001b[0m\u001b[0mreplace\u001b[0m\u001b[1;33m(\u001b[0m\u001b[1;33m{\u001b[0m\u001b[1;32mTrue\u001b[0m\u001b[1;33m:\u001b[0m \u001b[1;36m1\u001b[0m\u001b[1;33m,\u001b[0m \u001b[1;32mFalse\u001b[0m\u001b[1;33m:\u001b[0m \u001b[1;36m0\u001b[0m\u001b[1;33m}\u001b[0m\u001b[1;33m)\u001b[0m\u001b[1;33m\u001b[0m\u001b[1;33m\u001b[0m\u001b[0m\n\u001b[0m",
      "\u001b[1;32m~\\anaconda3\\envs\\tf2\\lib\\site-packages\\pandas\\core\\frame.py\u001b[0m in \u001b[0;36m__getitem__\u001b[1;34m(self, key)\u001b[0m\n\u001b[0;32m   3456\u001b[0m             \u001b[1;32mif\u001b[0m \u001b[0mself\u001b[0m\u001b[1;33m.\u001b[0m\u001b[0mcolumns\u001b[0m\u001b[1;33m.\u001b[0m\u001b[0mnlevels\u001b[0m \u001b[1;33m>\u001b[0m \u001b[1;36m1\u001b[0m\u001b[1;33m:\u001b[0m\u001b[1;33m\u001b[0m\u001b[1;33m\u001b[0m\u001b[0m\n\u001b[0;32m   3457\u001b[0m                 \u001b[1;32mreturn\u001b[0m \u001b[0mself\u001b[0m\u001b[1;33m.\u001b[0m\u001b[0m_getitem_multilevel\u001b[0m\u001b[1;33m(\u001b[0m\u001b[0mkey\u001b[0m\u001b[1;33m)\u001b[0m\u001b[1;33m\u001b[0m\u001b[1;33m\u001b[0m\u001b[0m\n\u001b[1;32m-> 3458\u001b[1;33m             \u001b[0mindexer\u001b[0m \u001b[1;33m=\u001b[0m \u001b[0mself\u001b[0m\u001b[1;33m.\u001b[0m\u001b[0mcolumns\u001b[0m\u001b[1;33m.\u001b[0m\u001b[0mget_loc\u001b[0m\u001b[1;33m(\u001b[0m\u001b[0mkey\u001b[0m\u001b[1;33m)\u001b[0m\u001b[1;33m\u001b[0m\u001b[1;33m\u001b[0m\u001b[0m\n\u001b[0m\u001b[0;32m   3459\u001b[0m             \u001b[1;32mif\u001b[0m \u001b[0mis_integer\u001b[0m\u001b[1;33m(\u001b[0m\u001b[0mindexer\u001b[0m\u001b[1;33m)\u001b[0m\u001b[1;33m:\u001b[0m\u001b[1;33m\u001b[0m\u001b[1;33m\u001b[0m\u001b[0m\n\u001b[0;32m   3460\u001b[0m                 \u001b[0mindexer\u001b[0m \u001b[1;33m=\u001b[0m \u001b[1;33m[\u001b[0m\u001b[0mindexer\u001b[0m\u001b[1;33m]\u001b[0m\u001b[1;33m\u001b[0m\u001b[1;33m\u001b[0m\u001b[0m\n",
      "\u001b[1;32m~\\anaconda3\\envs\\tf2\\lib\\site-packages\\pandas\\core\\indexes\\base.py\u001b[0m in \u001b[0;36mget_loc\u001b[1;34m(self, key, method, tolerance)\u001b[0m\n\u001b[0;32m   3361\u001b[0m                 \u001b[1;32mreturn\u001b[0m \u001b[0mself\u001b[0m\u001b[1;33m.\u001b[0m\u001b[0m_engine\u001b[0m\u001b[1;33m.\u001b[0m\u001b[0mget_loc\u001b[0m\u001b[1;33m(\u001b[0m\u001b[0mcasted_key\u001b[0m\u001b[1;33m)\u001b[0m\u001b[1;33m\u001b[0m\u001b[1;33m\u001b[0m\u001b[0m\n\u001b[0;32m   3362\u001b[0m             \u001b[1;32mexcept\u001b[0m \u001b[0mKeyError\u001b[0m \u001b[1;32mas\u001b[0m \u001b[0merr\u001b[0m\u001b[1;33m:\u001b[0m\u001b[1;33m\u001b[0m\u001b[1;33m\u001b[0m\u001b[0m\n\u001b[1;32m-> 3363\u001b[1;33m                 \u001b[1;32mraise\u001b[0m \u001b[0mKeyError\u001b[0m\u001b[1;33m(\u001b[0m\u001b[0mkey\u001b[0m\u001b[1;33m)\u001b[0m \u001b[1;32mfrom\u001b[0m \u001b[0merr\u001b[0m\u001b[1;33m\u001b[0m\u001b[1;33m\u001b[0m\u001b[0m\n\u001b[0m\u001b[0;32m   3364\u001b[0m \u001b[1;33m\u001b[0m\u001b[0m\n\u001b[0;32m   3365\u001b[0m         \u001b[1;32mif\u001b[0m \u001b[0mis_scalar\u001b[0m\u001b[1;33m(\u001b[0m\u001b[0mkey\u001b[0m\u001b[1;33m)\u001b[0m \u001b[1;32mand\u001b[0m \u001b[0misna\u001b[0m\u001b[1;33m(\u001b[0m\u001b[0mkey\u001b[0m\u001b[1;33m)\u001b[0m \u001b[1;32mand\u001b[0m \u001b[1;32mnot\u001b[0m \u001b[0mself\u001b[0m\u001b[1;33m.\u001b[0m\u001b[0mhasnans\u001b[0m\u001b[1;33m:\u001b[0m\u001b[1;33m\u001b[0m\u001b[1;33m\u001b[0m\u001b[0m\n",
      "\u001b[1;31mKeyError\u001b[0m: 'defects'"
     ]
    }
   ],
   "source": [
    "df['defects'] = df['defects'].replace({True: 1, False: 0})"
   ]
  },
  {
   "cell_type": "markdown",
   "id": "470ef6e8",
   "metadata": {},
   "source": [
    "## Gestión de valores NaN\n",
    "https://pandas.pydata.org/docs/user_guide/missing_data.html"
   ]
  },
  {
   "cell_type": "markdown",
   "id": "f15af4a5",
   "metadata": {},
   "source": [
    "### Tabla que indica los valores NaN\n",
    "Devuelve una tabla que indica como falso los valores con dato y verdadero los NaN"
   ]
  },
  {
   "cell_type": "code",
   "execution_count": 70,
   "id": "abc8d0af",
   "metadata": {},
   "outputs": [
    {
     "data": {
      "text/html": [
       "<div>\n",
       "<style scoped>\n",
       "    .dataframe tbody tr th:only-of-type {\n",
       "        vertical-align: middle;\n",
       "    }\n",
       "\n",
       "    .dataframe tbody tr th {\n",
       "        vertical-align: top;\n",
       "    }\n",
       "\n",
       "    .dataframe thead th {\n",
       "        text-align: right;\n",
       "    }\n",
       "</style>\n",
       "<table border=\"1\" class=\"dataframe\">\n",
       "  <thead>\n",
       "    <tr style=\"text-align: right;\">\n",
       "      <th></th>\n",
       "      <th>longitude</th>\n",
       "      <th>latitude</th>\n",
       "      <th>housing_median_age</th>\n",
       "      <th>population</th>\n",
       "      <th>households</th>\n",
       "      <th>median_income</th>\n",
       "      <th>median_house_value</th>\n",
       "      <th>ocean_proximity</th>\n",
       "      <th>ceros</th>\n",
       "      <th>latmaslong</th>\n",
       "    </tr>\n",
       "  </thead>\n",
       "  <tbody>\n",
       "    <tr>\n",
       "      <th>0</th>\n",
       "      <td>False</td>\n",
       "      <td>False</td>\n",
       "      <td>False</td>\n",
       "      <td>False</td>\n",
       "      <td>False</td>\n",
       "      <td>False</td>\n",
       "      <td>False</td>\n",
       "      <td>False</td>\n",
       "      <td>False</td>\n",
       "      <td>False</td>\n",
       "    </tr>\n",
       "    <tr>\n",
       "      <th>1</th>\n",
       "      <td>False</td>\n",
       "      <td>False</td>\n",
       "      <td>False</td>\n",
       "      <td>False</td>\n",
       "      <td>False</td>\n",
       "      <td>False</td>\n",
       "      <td>False</td>\n",
       "      <td>False</td>\n",
       "      <td>False</td>\n",
       "      <td>False</td>\n",
       "    </tr>\n",
       "    <tr>\n",
       "      <th>2</th>\n",
       "      <td>False</td>\n",
       "      <td>False</td>\n",
       "      <td>False</td>\n",
       "      <td>False</td>\n",
       "      <td>False</td>\n",
       "      <td>False</td>\n",
       "      <td>False</td>\n",
       "      <td>False</td>\n",
       "      <td>False</td>\n",
       "      <td>False</td>\n",
       "    </tr>\n",
       "    <tr>\n",
       "      <th>3</th>\n",
       "      <td>False</td>\n",
       "      <td>False</td>\n",
       "      <td>False</td>\n",
       "      <td>False</td>\n",
       "      <td>False</td>\n",
       "      <td>False</td>\n",
       "      <td>False</td>\n",
       "      <td>False</td>\n",
       "      <td>False</td>\n",
       "      <td>False</td>\n",
       "    </tr>\n",
       "    <tr>\n",
       "      <th>4</th>\n",
       "      <td>False</td>\n",
       "      <td>False</td>\n",
       "      <td>False</td>\n",
       "      <td>False</td>\n",
       "      <td>False</td>\n",
       "      <td>False</td>\n",
       "      <td>False</td>\n",
       "      <td>False</td>\n",
       "      <td>False</td>\n",
       "      <td>False</td>\n",
       "    </tr>\n",
       "    <tr>\n",
       "      <th>...</th>\n",
       "      <td>...</td>\n",
       "      <td>...</td>\n",
       "      <td>...</td>\n",
       "      <td>...</td>\n",
       "      <td>...</td>\n",
       "      <td>...</td>\n",
       "      <td>...</td>\n",
       "      <td>...</td>\n",
       "      <td>...</td>\n",
       "      <td>...</td>\n",
       "    </tr>\n",
       "    <tr>\n",
       "      <th>20635</th>\n",
       "      <td>False</td>\n",
       "      <td>False</td>\n",
       "      <td>False</td>\n",
       "      <td>False</td>\n",
       "      <td>False</td>\n",
       "      <td>False</td>\n",
       "      <td>False</td>\n",
       "      <td>False</td>\n",
       "      <td>False</td>\n",
       "      <td>False</td>\n",
       "    </tr>\n",
       "    <tr>\n",
       "      <th>20636</th>\n",
       "      <td>False</td>\n",
       "      <td>False</td>\n",
       "      <td>False</td>\n",
       "      <td>False</td>\n",
       "      <td>False</td>\n",
       "      <td>False</td>\n",
       "      <td>False</td>\n",
       "      <td>False</td>\n",
       "      <td>False</td>\n",
       "      <td>False</td>\n",
       "    </tr>\n",
       "    <tr>\n",
       "      <th>20637</th>\n",
       "      <td>False</td>\n",
       "      <td>False</td>\n",
       "      <td>False</td>\n",
       "      <td>False</td>\n",
       "      <td>False</td>\n",
       "      <td>False</td>\n",
       "      <td>False</td>\n",
       "      <td>False</td>\n",
       "      <td>False</td>\n",
       "      <td>False</td>\n",
       "    </tr>\n",
       "    <tr>\n",
       "      <th>20638</th>\n",
       "      <td>False</td>\n",
       "      <td>False</td>\n",
       "      <td>False</td>\n",
       "      <td>False</td>\n",
       "      <td>False</td>\n",
       "      <td>False</td>\n",
       "      <td>False</td>\n",
       "      <td>False</td>\n",
       "      <td>False</td>\n",
       "      <td>False</td>\n",
       "    </tr>\n",
       "    <tr>\n",
       "      <th>20639</th>\n",
       "      <td>False</td>\n",
       "      <td>False</td>\n",
       "      <td>False</td>\n",
       "      <td>False</td>\n",
       "      <td>False</td>\n",
       "      <td>False</td>\n",
       "      <td>False</td>\n",
       "      <td>False</td>\n",
       "      <td>False</td>\n",
       "      <td>False</td>\n",
       "    </tr>\n",
       "  </tbody>\n",
       "</table>\n",
       "<p>20640 rows × 10 columns</p>\n",
       "</div>"
      ],
      "text/plain": [
       "       longitude  latitude  housing_median_age  population  households  \\\n",
       "0          False     False               False       False       False   \n",
       "1          False     False               False       False       False   \n",
       "2          False     False               False       False       False   \n",
       "3          False     False               False       False       False   \n",
       "4          False     False               False       False       False   \n",
       "...          ...       ...                 ...         ...         ...   \n",
       "20635      False     False               False       False       False   \n",
       "20636      False     False               False       False       False   \n",
       "20637      False     False               False       False       False   \n",
       "20638      False     False               False       False       False   \n",
       "20639      False     False               False       False       False   \n",
       "\n",
       "       median_income  median_house_value  ocean_proximity  ceros  latmaslong  \n",
       "0              False               False            False  False       False  \n",
       "1              False               False            False  False       False  \n",
       "2              False               False            False  False       False  \n",
       "3              False               False            False  False       False  \n",
       "4              False               False            False  False       False  \n",
       "...              ...                 ...              ...    ...         ...  \n",
       "20635          False               False            False  False       False  \n",
       "20636          False               False            False  False       False  \n",
       "20637          False               False            False  False       False  \n",
       "20638          False               False            False  False       False  \n",
       "20639          False               False            False  False       False  \n",
       "\n",
       "[20640 rows x 10 columns]"
      ]
     },
     "execution_count": 70,
     "metadata": {},
     "output_type": "execute_result"
    }
   ],
   "source": [
    "pd.isna(dfpruebas)"
   ]
  },
  {
   "cell_type": "markdown",
   "id": "70ea1245",
   "metadata": {},
   "source": [
    "### Borrar filas con valores NaN"
   ]
  },
  {
   "cell_type": "code",
   "execution_count": 71,
   "id": "a9e640dc",
   "metadata": {},
   "outputs": [
    {
     "data": {
      "text/html": [
       "<div>\n",
       "<style scoped>\n",
       "    .dataframe tbody tr th:only-of-type {\n",
       "        vertical-align: middle;\n",
       "    }\n",
       "\n",
       "    .dataframe tbody tr th {\n",
       "        vertical-align: top;\n",
       "    }\n",
       "\n",
       "    .dataframe thead th {\n",
       "        text-align: right;\n",
       "    }\n",
       "</style>\n",
       "<table border=\"1\" class=\"dataframe\">\n",
       "  <thead>\n",
       "    <tr style=\"text-align: right;\">\n",
       "      <th></th>\n",
       "      <th>longitude</th>\n",
       "      <th>latitude</th>\n",
       "      <th>housing_median_age</th>\n",
       "      <th>population</th>\n",
       "      <th>households</th>\n",
       "      <th>median_income</th>\n",
       "      <th>median_house_value</th>\n",
       "      <th>ocean_proximity</th>\n",
       "      <th>ceros</th>\n",
       "      <th>latmaslong</th>\n",
       "    </tr>\n",
       "  </thead>\n",
       "  <tbody>\n",
       "    <tr>\n",
       "      <th>0</th>\n",
       "      <td>0</td>\n",
       "      <td>0.00</td>\n",
       "      <td>0.0</td>\n",
       "      <td>0.0</td>\n",
       "      <td>0.0</td>\n",
       "      <td>0.0000</td>\n",
       "      <td>0.0</td>\n",
       "      <td>0</td>\n",
       "      <td>0.0</td>\n",
       "      <td>0.00</td>\n",
       "    </tr>\n",
       "    <tr>\n",
       "      <th>1</th>\n",
       "      <td>0</td>\n",
       "      <td>0.00</td>\n",
       "      <td>0.0</td>\n",
       "      <td>0.0</td>\n",
       "      <td>0.0</td>\n",
       "      <td>0.0000</td>\n",
       "      <td>0.0</td>\n",
       "      <td>0</td>\n",
       "      <td>0.0</td>\n",
       "      <td>0.00</td>\n",
       "    </tr>\n",
       "    <tr>\n",
       "      <th>2</th>\n",
       "      <td>0</td>\n",
       "      <td>0.00</td>\n",
       "      <td>0.0</td>\n",
       "      <td>0.0</td>\n",
       "      <td>0.0</td>\n",
       "      <td>0.0000</td>\n",
       "      <td>0.0</td>\n",
       "      <td>0</td>\n",
       "      <td>0.0</td>\n",
       "      <td>0.00</td>\n",
       "    </tr>\n",
       "    <tr>\n",
       "      <th>3</th>\n",
       "      <td>0</td>\n",
       "      <td>0.00</td>\n",
       "      <td>0.0</td>\n",
       "      <td>0.0</td>\n",
       "      <td>0.0</td>\n",
       "      <td>0.0000</td>\n",
       "      <td>0.0</td>\n",
       "      <td>0</td>\n",
       "      <td>0.0</td>\n",
       "      <td>0.00</td>\n",
       "    </tr>\n",
       "    <tr>\n",
       "      <th>4</th>\n",
       "      <td>0</td>\n",
       "      <td>0.00</td>\n",
       "      <td>0.0</td>\n",
       "      <td>0.0</td>\n",
       "      <td>0.0</td>\n",
       "      <td>0.0000</td>\n",
       "      <td>0.0</td>\n",
       "      <td>0</td>\n",
       "      <td>0.0</td>\n",
       "      <td>0.00</td>\n",
       "    </tr>\n",
       "    <tr>\n",
       "      <th>...</th>\n",
       "      <td>...</td>\n",
       "      <td>...</td>\n",
       "      <td>...</td>\n",
       "      <td>...</td>\n",
       "      <td>...</td>\n",
       "      <td>...</td>\n",
       "      <td>...</td>\n",
       "      <td>...</td>\n",
       "      <td>...</td>\n",
       "      <td>...</td>\n",
       "    </tr>\n",
       "    <tr>\n",
       "      <th>20635</th>\n",
       "      <td>1</td>\n",
       "      <td>39.48</td>\n",
       "      <td>25.0</td>\n",
       "      <td>845.0</td>\n",
       "      <td>330.0</td>\n",
       "      <td>1.5603</td>\n",
       "      <td>78100.0</td>\n",
       "      <td>inland</td>\n",
       "      <td>0.0</td>\n",
       "      <td>-81.61</td>\n",
       "    </tr>\n",
       "    <tr>\n",
       "      <th>20636</th>\n",
       "      <td>1</td>\n",
       "      <td>39.49</td>\n",
       "      <td>18.0</td>\n",
       "      <td>356.0</td>\n",
       "      <td>114.0</td>\n",
       "      <td>2.5568</td>\n",
       "      <td>77100.0</td>\n",
       "      <td>inland</td>\n",
       "      <td>0.0</td>\n",
       "      <td>-81.72</td>\n",
       "    </tr>\n",
       "    <tr>\n",
       "      <th>20637</th>\n",
       "      <td>1</td>\n",
       "      <td>39.43</td>\n",
       "      <td>17.0</td>\n",
       "      <td>1007.0</td>\n",
       "      <td>433.0</td>\n",
       "      <td>1.7000</td>\n",
       "      <td>92300.0</td>\n",
       "      <td>inland</td>\n",
       "      <td>0.0</td>\n",
       "      <td>-81.79</td>\n",
       "    </tr>\n",
       "    <tr>\n",
       "      <th>20638</th>\n",
       "      <td>1</td>\n",
       "      <td>39.43</td>\n",
       "      <td>18.0</td>\n",
       "      <td>741.0</td>\n",
       "      <td>349.0</td>\n",
       "      <td>1.8672</td>\n",
       "      <td>84700.0</td>\n",
       "      <td>inland</td>\n",
       "      <td>0.0</td>\n",
       "      <td>-81.89</td>\n",
       "    </tr>\n",
       "    <tr>\n",
       "      <th>20639</th>\n",
       "      <td>1</td>\n",
       "      <td>39.37</td>\n",
       "      <td>16.0</td>\n",
       "      <td>1387.0</td>\n",
       "      <td>530.0</td>\n",
       "      <td>2.3886</td>\n",
       "      <td>89400.0</td>\n",
       "      <td>inland</td>\n",
       "      <td>0.0</td>\n",
       "      <td>-81.87</td>\n",
       "    </tr>\n",
       "  </tbody>\n",
       "</table>\n",
       "<p>20640 rows × 10 columns</p>\n",
       "</div>"
      ],
      "text/plain": [
       "       longitude  latitude  housing_median_age  population  households  \\\n",
       "0              0      0.00                 0.0         0.0         0.0   \n",
       "1              0      0.00                 0.0         0.0         0.0   \n",
       "2              0      0.00                 0.0         0.0         0.0   \n",
       "3              0      0.00                 0.0         0.0         0.0   \n",
       "4              0      0.00                 0.0         0.0         0.0   \n",
       "...          ...       ...                 ...         ...         ...   \n",
       "20635          1     39.48                25.0       845.0       330.0   \n",
       "20636          1     39.49                18.0       356.0       114.0   \n",
       "20637          1     39.43                17.0      1007.0       433.0   \n",
       "20638          1     39.43                18.0       741.0       349.0   \n",
       "20639          1     39.37                16.0      1387.0       530.0   \n",
       "\n",
       "       median_income  median_house_value ocean_proximity  ceros  latmaslong  \n",
       "0             0.0000                 0.0               0    0.0        0.00  \n",
       "1             0.0000                 0.0               0    0.0        0.00  \n",
       "2             0.0000                 0.0               0    0.0        0.00  \n",
       "3             0.0000                 0.0               0    0.0        0.00  \n",
       "4             0.0000                 0.0               0    0.0        0.00  \n",
       "...              ...                 ...             ...    ...         ...  \n",
       "20635         1.5603             78100.0          inland    0.0      -81.61  \n",
       "20636         2.5568             77100.0          inland    0.0      -81.72  \n",
       "20637         1.7000             92300.0          inland    0.0      -81.79  \n",
       "20638         1.8672             84700.0          inland    0.0      -81.89  \n",
       "20639         2.3886             89400.0          inland    0.0      -81.87  \n",
       "\n",
       "[20640 rows x 10 columns]"
      ]
     },
     "execution_count": 71,
     "metadata": {},
     "output_type": "execute_result"
    }
   ],
   "source": [
    "dfpruebas.dropna(how='any')"
   ]
  },
  {
   "cell_type": "markdown",
   "id": "04ec4493",
   "metadata": {},
   "source": [
    "### Sustituye NaN por el valor indicado"
   ]
  },
  {
   "cell_type": "code",
   "execution_count": 72,
   "id": "776453c4",
   "metadata": {},
   "outputs": [
    {
     "data": {
      "text/html": [
       "<div>\n",
       "<style scoped>\n",
       "    .dataframe tbody tr th:only-of-type {\n",
       "        vertical-align: middle;\n",
       "    }\n",
       "\n",
       "    .dataframe tbody tr th {\n",
       "        vertical-align: top;\n",
       "    }\n",
       "\n",
       "    .dataframe thead th {\n",
       "        text-align: right;\n",
       "    }\n",
       "</style>\n",
       "<table border=\"1\" class=\"dataframe\">\n",
       "  <thead>\n",
       "    <tr style=\"text-align: right;\">\n",
       "      <th></th>\n",
       "      <th>longitude</th>\n",
       "      <th>latitude</th>\n",
       "      <th>housing_median_age</th>\n",
       "      <th>population</th>\n",
       "      <th>households</th>\n",
       "      <th>median_income</th>\n",
       "      <th>median_house_value</th>\n",
       "      <th>ocean_proximity</th>\n",
       "      <th>ceros</th>\n",
       "      <th>latmaslong</th>\n",
       "    </tr>\n",
       "  </thead>\n",
       "  <tbody>\n",
       "    <tr>\n",
       "      <th>0</th>\n",
       "      <td>0</td>\n",
       "      <td>0.00</td>\n",
       "      <td>0.0</td>\n",
       "      <td>0.0</td>\n",
       "      <td>0.0</td>\n",
       "      <td>0.0000</td>\n",
       "      <td>0.0</td>\n",
       "      <td>0</td>\n",
       "      <td>0.0</td>\n",
       "      <td>0.00</td>\n",
       "    </tr>\n",
       "    <tr>\n",
       "      <th>1</th>\n",
       "      <td>0</td>\n",
       "      <td>0.00</td>\n",
       "      <td>0.0</td>\n",
       "      <td>0.0</td>\n",
       "      <td>0.0</td>\n",
       "      <td>0.0000</td>\n",
       "      <td>0.0</td>\n",
       "      <td>0</td>\n",
       "      <td>0.0</td>\n",
       "      <td>0.00</td>\n",
       "    </tr>\n",
       "    <tr>\n",
       "      <th>2</th>\n",
       "      <td>0</td>\n",
       "      <td>0.00</td>\n",
       "      <td>0.0</td>\n",
       "      <td>0.0</td>\n",
       "      <td>0.0</td>\n",
       "      <td>0.0000</td>\n",
       "      <td>0.0</td>\n",
       "      <td>0</td>\n",
       "      <td>0.0</td>\n",
       "      <td>0.00</td>\n",
       "    </tr>\n",
       "    <tr>\n",
       "      <th>3</th>\n",
       "      <td>0</td>\n",
       "      <td>0.00</td>\n",
       "      <td>0.0</td>\n",
       "      <td>0.0</td>\n",
       "      <td>0.0</td>\n",
       "      <td>0.0000</td>\n",
       "      <td>0.0</td>\n",
       "      <td>0</td>\n",
       "      <td>0.0</td>\n",
       "      <td>0.00</td>\n",
       "    </tr>\n",
       "    <tr>\n",
       "      <th>4</th>\n",
       "      <td>0</td>\n",
       "      <td>0.00</td>\n",
       "      <td>0.0</td>\n",
       "      <td>0.0</td>\n",
       "      <td>0.0</td>\n",
       "      <td>0.0000</td>\n",
       "      <td>0.0</td>\n",
       "      <td>0</td>\n",
       "      <td>0.0</td>\n",
       "      <td>0.00</td>\n",
       "    </tr>\n",
       "    <tr>\n",
       "      <th>...</th>\n",
       "      <td>...</td>\n",
       "      <td>...</td>\n",
       "      <td>...</td>\n",
       "      <td>...</td>\n",
       "      <td>...</td>\n",
       "      <td>...</td>\n",
       "      <td>...</td>\n",
       "      <td>...</td>\n",
       "      <td>...</td>\n",
       "      <td>...</td>\n",
       "    </tr>\n",
       "    <tr>\n",
       "      <th>20635</th>\n",
       "      <td>1</td>\n",
       "      <td>39.48</td>\n",
       "      <td>25.0</td>\n",
       "      <td>845.0</td>\n",
       "      <td>330.0</td>\n",
       "      <td>1.5603</td>\n",
       "      <td>78100.0</td>\n",
       "      <td>inland</td>\n",
       "      <td>0.0</td>\n",
       "      <td>-81.61</td>\n",
       "    </tr>\n",
       "    <tr>\n",
       "      <th>20636</th>\n",
       "      <td>1</td>\n",
       "      <td>39.49</td>\n",
       "      <td>18.0</td>\n",
       "      <td>356.0</td>\n",
       "      <td>114.0</td>\n",
       "      <td>2.5568</td>\n",
       "      <td>77100.0</td>\n",
       "      <td>inland</td>\n",
       "      <td>0.0</td>\n",
       "      <td>-81.72</td>\n",
       "    </tr>\n",
       "    <tr>\n",
       "      <th>20637</th>\n",
       "      <td>1</td>\n",
       "      <td>39.43</td>\n",
       "      <td>17.0</td>\n",
       "      <td>1007.0</td>\n",
       "      <td>433.0</td>\n",
       "      <td>1.7000</td>\n",
       "      <td>92300.0</td>\n",
       "      <td>inland</td>\n",
       "      <td>0.0</td>\n",
       "      <td>-81.79</td>\n",
       "    </tr>\n",
       "    <tr>\n",
       "      <th>20638</th>\n",
       "      <td>1</td>\n",
       "      <td>39.43</td>\n",
       "      <td>18.0</td>\n",
       "      <td>741.0</td>\n",
       "      <td>349.0</td>\n",
       "      <td>1.8672</td>\n",
       "      <td>84700.0</td>\n",
       "      <td>inland</td>\n",
       "      <td>0.0</td>\n",
       "      <td>-81.89</td>\n",
       "    </tr>\n",
       "    <tr>\n",
       "      <th>20639</th>\n",
       "      <td>1</td>\n",
       "      <td>39.37</td>\n",
       "      <td>16.0</td>\n",
       "      <td>1387.0</td>\n",
       "      <td>530.0</td>\n",
       "      <td>2.3886</td>\n",
       "      <td>89400.0</td>\n",
       "      <td>inland</td>\n",
       "      <td>0.0</td>\n",
       "      <td>-81.87</td>\n",
       "    </tr>\n",
       "  </tbody>\n",
       "</table>\n",
       "<p>20640 rows × 10 columns</p>\n",
       "</div>"
      ],
      "text/plain": [
       "       longitude  latitude  housing_median_age  population  households  \\\n",
       "0              0      0.00                 0.0         0.0         0.0   \n",
       "1              0      0.00                 0.0         0.0         0.0   \n",
       "2              0      0.00                 0.0         0.0         0.0   \n",
       "3              0      0.00                 0.0         0.0         0.0   \n",
       "4              0      0.00                 0.0         0.0         0.0   \n",
       "...          ...       ...                 ...         ...         ...   \n",
       "20635          1     39.48                25.0       845.0       330.0   \n",
       "20636          1     39.49                18.0       356.0       114.0   \n",
       "20637          1     39.43                17.0      1007.0       433.0   \n",
       "20638          1     39.43                18.0       741.0       349.0   \n",
       "20639          1     39.37                16.0      1387.0       530.0   \n",
       "\n",
       "       median_income  median_house_value ocean_proximity  ceros  latmaslong  \n",
       "0             0.0000                 0.0               0    0.0        0.00  \n",
       "1             0.0000                 0.0               0    0.0        0.00  \n",
       "2             0.0000                 0.0               0    0.0        0.00  \n",
       "3             0.0000                 0.0               0    0.0        0.00  \n",
       "4             0.0000                 0.0               0    0.0        0.00  \n",
       "...              ...                 ...             ...    ...         ...  \n",
       "20635         1.5603             78100.0          inland    0.0      -81.61  \n",
       "20636         2.5568             77100.0          inland    0.0      -81.72  \n",
       "20637         1.7000             92300.0          inland    0.0      -81.79  \n",
       "20638         1.8672             84700.0          inland    0.0      -81.89  \n",
       "20639         2.3886             89400.0          inland    0.0      -81.87  \n",
       "\n",
       "[20640 rows x 10 columns]"
      ]
     },
     "execution_count": 72,
     "metadata": {},
     "output_type": "execute_result"
    }
   ],
   "source": [
    "dfpruebas.fillna(value=5)"
   ]
  },
  {
   "cell_type": "markdown",
   "id": "e4d5b607",
   "metadata": {},
   "source": [
    "## Estadísticos"
   ]
  },
  {
   "cell_type": "code",
   "execution_count": 73,
   "id": "82d15729",
   "metadata": {},
   "outputs": [
    {
     "data": {
      "text/html": [
       "<div>\n",
       "<style scoped>\n",
       "    .dataframe tbody tr th:only-of-type {\n",
       "        vertical-align: middle;\n",
       "    }\n",
       "\n",
       "    .dataframe tbody tr th {\n",
       "        vertical-align: top;\n",
       "    }\n",
       "\n",
       "    .dataframe thead th {\n",
       "        text-align: right;\n",
       "    }\n",
       "</style>\n",
       "<table border=\"1\" class=\"dataframe\">\n",
       "  <thead>\n",
       "    <tr style=\"text-align: right;\">\n",
       "      <th></th>\n",
       "      <th>A</th>\n",
       "      <th>B</th>\n",
       "      <th>C</th>\n",
       "    </tr>\n",
       "  </thead>\n",
       "  <tbody>\n",
       "    <tr>\n",
       "      <th>l1</th>\n",
       "      <td>1</td>\n",
       "      <td>2</td>\n",
       "      <td>3</td>\n",
       "    </tr>\n",
       "    <tr>\n",
       "      <th>l2</th>\n",
       "      <td>2</td>\n",
       "      <td>4</td>\n",
       "      <td>4</td>\n",
       "    </tr>\n",
       "    <tr>\n",
       "      <th>l3</th>\n",
       "      <td>4</td>\n",
       "      <td>4</td>\n",
       "      <td>4</td>\n",
       "    </tr>\n",
       "  </tbody>\n",
       "</table>\n",
       "</div>"
      ],
      "text/plain": [
       "    A  B  C\n",
       "l1  1  2  3\n",
       "l2  2  4  4\n",
       "l3  4  4  4"
      ]
     },
     "execution_count": 73,
     "metadata": {},
     "output_type": "execute_result"
    }
   ],
   "source": [
    "df"
   ]
  },
  {
   "cell_type": "markdown",
   "id": "cf51a2a7",
   "metadata": {},
   "source": [
    "### Media"
   ]
  },
  {
   "cell_type": "markdown",
   "id": "d415488c",
   "metadata": {},
   "source": [
    "Media por columnas"
   ]
  },
  {
   "cell_type": "code",
   "execution_count": 74,
   "id": "6b740a1c",
   "metadata": {},
   "outputs": [
    {
     "data": {
      "text/plain": [
       "A    2.333333\n",
       "B    3.333333\n",
       "C    3.666667\n",
       "dtype: float64"
      ]
     },
     "execution_count": 74,
     "metadata": {},
     "output_type": "execute_result"
    }
   ],
   "source": [
    "df.mean()"
   ]
  },
  {
   "cell_type": "markdown",
   "id": "a2646be6",
   "metadata": {},
   "source": [
    "Media por filas"
   ]
  },
  {
   "cell_type": "code",
   "execution_count": 75,
   "id": "66608de2",
   "metadata": {},
   "outputs": [
    {
     "data": {
      "text/plain": [
       "l1    2.000000\n",
       "l2    3.333333\n",
       "l3    4.000000\n",
       "dtype: float64"
      ]
     },
     "execution_count": 75,
     "metadata": {},
     "output_type": "execute_result"
    }
   ],
   "source": [
    "df.mean(axis=1)"
   ]
  },
  {
   "cell_type": "markdown",
   "id": "d0a39743",
   "metadata": {},
   "source": [
    "### Mediana"
   ]
  },
  {
   "cell_type": "code",
   "execution_count": 76,
   "id": "24aff5e1",
   "metadata": {},
   "outputs": [
    {
     "data": {
      "text/plain": [
       "A    2.0\n",
       "B    4.0\n",
       "C    4.0\n",
       "dtype: float64"
      ]
     },
     "execution_count": 76,
     "metadata": {},
     "output_type": "execute_result"
    }
   ],
   "source": [
    "df.median()"
   ]
  },
  {
   "cell_type": "markdown",
   "id": "b837f2b0",
   "metadata": {},
   "source": [
    "### Mínimo y máximo"
   ]
  },
  {
   "cell_type": "code",
   "execution_count": 77,
   "id": "eaa2b640",
   "metadata": {},
   "outputs": [
    {
     "data": {
      "text/plain": [
       "A    1\n",
       "B    2\n",
       "C    3\n",
       "dtype: int64"
      ]
     },
     "execution_count": 77,
     "metadata": {},
     "output_type": "execute_result"
    }
   ],
   "source": [
    "df.min()"
   ]
  },
  {
   "cell_type": "code",
   "execution_count": 78,
   "id": "ce244daf",
   "metadata": {},
   "outputs": [
    {
     "data": {
      "text/plain": [
       "A    4\n",
       "B    4\n",
       "C    4\n",
       "dtype: int64"
      ]
     },
     "execution_count": 78,
     "metadata": {},
     "output_type": "execute_result"
    }
   ],
   "source": [
    "df.max()"
   ]
  },
  {
   "cell_type": "markdown",
   "id": "34778d8c",
   "metadata": {},
   "source": [
    "### Varianza"
   ]
  },
  {
   "cell_type": "code",
   "execution_count": 79,
   "id": "9caac7e2",
   "metadata": {},
   "outputs": [
    {
     "data": {
      "text/plain": [
       "A    2.333333\n",
       "B    1.333333\n",
       "C    0.333333\n",
       "dtype: float64"
      ]
     },
     "execution_count": 79,
     "metadata": {},
     "output_type": "execute_result"
    }
   ],
   "source": [
    "df.var()"
   ]
  },
  {
   "cell_type": "markdown",
   "id": "947fd142",
   "metadata": {},
   "source": [
    "### Desviación típica"
   ]
  },
  {
   "cell_type": "code",
   "execution_count": 80,
   "id": "225f0146",
   "metadata": {},
   "outputs": [
    {
     "data": {
      "text/plain": [
       "A    1.527525\n",
       "B    1.154701\n",
       "C    0.577350\n",
       "dtype: float64"
      ]
     },
     "execution_count": 80,
     "metadata": {},
     "output_type": "execute_result"
    }
   ],
   "source": [
    "df.std()"
   ]
  },
  {
   "cell_type": "markdown",
   "id": "6752bf3c",
   "metadata": {},
   "source": [
    "### Percentil"
   ]
  },
  {
   "cell_type": "code",
   "execution_count": 81,
   "id": "c6fbcd7f",
   "metadata": {},
   "outputs": [
    {
     "data": {
      "text/plain": [
       "A    2.0\n",
       "B    4.0\n",
       "C    4.0\n",
       "Name: 0.5, dtype: float64"
      ]
     },
     "execution_count": 81,
     "metadata": {},
     "output_type": "execute_result"
    }
   ],
   "source": [
    "df.quantile(0.5)"
   ]
  },
  {
   "cell_type": "markdown",
   "id": "5dc8905f",
   "metadata": {},
   "source": [
    "### Metodos de conteo"
   ]
  },
  {
   "cell_type": "code",
   "execution_count": 82,
   "id": "bbbc93e9",
   "metadata": {},
   "outputs": [
    {
     "data": {
      "text/plain": [
       "A    3\n",
       "B    3\n",
       "C    3\n",
       "dtype: int64"
      ]
     },
     "execution_count": 82,
     "metadata": {},
     "output_type": "execute_result"
    }
   ],
   "source": [
    "df.count()"
   ]
  },
  {
   "cell_type": "code",
   "execution_count": 83,
   "id": "87a6a253",
   "metadata": {},
   "outputs": [
    {
     "data": {
      "text/plain": [
       "A  B  C\n",
       "1  2  3    1\n",
       "2  4  4    1\n",
       "4  4  4    1\n",
       "dtype: int64"
      ]
     },
     "execution_count": 83,
     "metadata": {},
     "output_type": "execute_result"
    }
   ],
   "source": [
    "df.value_counts()"
   ]
  },
  {
   "cell_type": "code",
   "execution_count": 84,
   "id": "2ce35679",
   "metadata": {},
   "outputs": [
    {
     "data": {
      "text/plain": [
       "B\n",
       "4    2\n",
       "2    1\n",
       "dtype: int64"
      ]
     },
     "execution_count": 84,
     "metadata": {},
     "output_type": "execute_result"
    }
   ],
   "source": [
    "df.value_counts('B')"
   ]
  },
  {
   "cell_type": "markdown",
   "id": "4ef46839",
   "metadata": {},
   "source": [
    "## Funciones definidas por el usuario"
   ]
  },
  {
   "cell_type": "markdown",
   "id": "704ad76a",
   "metadata": {},
   "source": [
    "### Resume por columnas la operación"
   ]
  },
  {
   "cell_type": "code",
   "execution_count": 85,
   "id": "635745ae",
   "metadata": {},
   "outputs": [
    {
     "data": {
      "text/plain": [
       "A    13.066667\n",
       "B    18.666667\n",
       "C    20.533333\n",
       "dtype: float64"
      ]
     },
     "execution_count": 85,
     "metadata": {},
     "output_type": "execute_result"
    }
   ],
   "source": [
    "df.agg(lambda x: np.mean(x)*5.6)"
   ]
  },
  {
   "cell_type": "markdown",
   "id": "32b348bd",
   "metadata": {},
   "source": [
    "### Modifica los datos del dataframe según la función"
   ]
  },
  {
   "cell_type": "code",
   "execution_count": 86,
   "id": "808b6f7c",
   "metadata": {},
   "outputs": [
    {
     "data": {
      "text/html": [
       "<div>\n",
       "<style scoped>\n",
       "    .dataframe tbody tr th:only-of-type {\n",
       "        vertical-align: middle;\n",
       "    }\n",
       "\n",
       "    .dataframe tbody tr th {\n",
       "        vertical-align: top;\n",
       "    }\n",
       "\n",
       "    .dataframe thead th {\n",
       "        text-align: right;\n",
       "    }\n",
       "</style>\n",
       "<table border=\"1\" class=\"dataframe\">\n",
       "  <thead>\n",
       "    <tr style=\"text-align: right;\">\n",
       "      <th></th>\n",
       "      <th>A</th>\n",
       "      <th>B</th>\n",
       "      <th>C</th>\n",
       "    </tr>\n",
       "  </thead>\n",
       "  <tbody>\n",
       "    <tr>\n",
       "      <th>l1</th>\n",
       "      <td>100</td>\n",
       "      <td>200</td>\n",
       "      <td>300</td>\n",
       "    </tr>\n",
       "    <tr>\n",
       "      <th>l2</th>\n",
       "      <td>200</td>\n",
       "      <td>400</td>\n",
       "      <td>400</td>\n",
       "    </tr>\n",
       "    <tr>\n",
       "      <th>l3</th>\n",
       "      <td>400</td>\n",
       "      <td>400</td>\n",
       "      <td>400</td>\n",
       "    </tr>\n",
       "  </tbody>\n",
       "</table>\n",
       "</div>"
      ],
      "text/plain": [
       "      A    B    C\n",
       "l1  100  200  300\n",
       "l2  200  400  400\n",
       "l3  400  400  400"
      ]
     },
     "execution_count": 86,
     "metadata": {},
     "output_type": "execute_result"
    }
   ],
   "source": [
    "df.transform(lambda x: x*100) "
   ]
  },
  {
   "cell_type": "code",
   "execution_count": 87,
   "id": "b676c9b0",
   "metadata": {},
   "outputs": [
    {
     "data": {
      "text/plain": [
       "l1     50\n",
       "l2    100\n",
       "l3    200\n",
       "Name: A, dtype: int64"
      ]
     },
     "execution_count": 87,
     "metadata": {},
     "output_type": "execute_result"
    }
   ],
   "source": [
    "df['A'].transform(lambda x: x*50)"
   ]
  },
  {
   "cell_type": "markdown",
   "id": "3b9e2eb9",
   "metadata": {},
   "source": [
    "## Agrupamiento"
   ]
  },
  {
   "cell_type": "markdown",
   "id": "0cae17a0",
   "metadata": {},
   "source": [
    "### Agrupamiento por valores"
   ]
  },
  {
   "cell_type": "code",
   "execution_count": 88,
   "id": "fcf645ff",
   "metadata": {},
   "outputs": [],
   "source": [
    "data = {'A': ['X', 'Y', 'X', 'Y', 'X'],\n",
    "        'B': ['A', 'B', 'A', 'A', 'B'],\n",
    "        'Valor': [10, 20, 30, 40, 50]}\n",
    "\n",
    "df = pd.DataFrame(data)"
   ]
  },
  {
   "cell_type": "code",
   "execution_count": 89,
   "id": "4091cd0f",
   "metadata": {},
   "outputs": [
    {
     "data": {
      "text/html": [
       "<div>\n",
       "<style scoped>\n",
       "    .dataframe tbody tr th:only-of-type {\n",
       "        vertical-align: middle;\n",
       "    }\n",
       "\n",
       "    .dataframe tbody tr th {\n",
       "        vertical-align: top;\n",
       "    }\n",
       "\n",
       "    .dataframe thead th {\n",
       "        text-align: right;\n",
       "    }\n",
       "</style>\n",
       "<table border=\"1\" class=\"dataframe\">\n",
       "  <thead>\n",
       "    <tr style=\"text-align: right;\">\n",
       "      <th></th>\n",
       "      <th>A</th>\n",
       "      <th>B</th>\n",
       "      <th>Valor</th>\n",
       "    </tr>\n",
       "  </thead>\n",
       "  <tbody>\n",
       "    <tr>\n",
       "      <th>0</th>\n",
       "      <td>X</td>\n",
       "      <td>A</td>\n",
       "      <td>10</td>\n",
       "    </tr>\n",
       "    <tr>\n",
       "      <th>1</th>\n",
       "      <td>Y</td>\n",
       "      <td>B</td>\n",
       "      <td>20</td>\n",
       "    </tr>\n",
       "    <tr>\n",
       "      <th>2</th>\n",
       "      <td>X</td>\n",
       "      <td>A</td>\n",
       "      <td>30</td>\n",
       "    </tr>\n",
       "    <tr>\n",
       "      <th>3</th>\n",
       "      <td>Y</td>\n",
       "      <td>A</td>\n",
       "      <td>40</td>\n",
       "    </tr>\n",
       "    <tr>\n",
       "      <th>4</th>\n",
       "      <td>X</td>\n",
       "      <td>B</td>\n",
       "      <td>50</td>\n",
       "    </tr>\n",
       "  </tbody>\n",
       "</table>\n",
       "</div>"
      ],
      "text/plain": [
       "   A  B  Valor\n",
       "0  X  A     10\n",
       "1  Y  B     20\n",
       "2  X  A     30\n",
       "3  Y  A     40\n",
       "4  X  B     50"
      ]
     },
     "execution_count": 89,
     "metadata": {},
     "output_type": "execute_result"
    }
   ],
   "source": [
    "df"
   ]
  },
  {
   "cell_type": "markdown",
   "id": "d2160926",
   "metadata": {},
   "source": [
    "Se tienen las combinaciones posibles de las columnas A y B combinadas expresando el valor de esa combinación mediante la suma"
   ]
  },
  {
   "cell_type": "code",
   "execution_count": 90,
   "id": "eea37908",
   "metadata": {
    "scrolled": true
   },
   "outputs": [
    {
     "data": {
      "text/html": [
       "<div>\n",
       "<style scoped>\n",
       "    .dataframe tbody tr th:only-of-type {\n",
       "        vertical-align: middle;\n",
       "    }\n",
       "\n",
       "    .dataframe tbody tr th {\n",
       "        vertical-align: top;\n",
       "    }\n",
       "\n",
       "    .dataframe thead th {\n",
       "        text-align: right;\n",
       "    }\n",
       "</style>\n",
       "<table border=\"1\" class=\"dataframe\">\n",
       "  <thead>\n",
       "    <tr style=\"text-align: right;\">\n",
       "      <th></th>\n",
       "      <th></th>\n",
       "      <th>Valor</th>\n",
       "    </tr>\n",
       "    <tr>\n",
       "      <th>A</th>\n",
       "      <th>B</th>\n",
       "      <th></th>\n",
       "    </tr>\n",
       "  </thead>\n",
       "  <tbody>\n",
       "    <tr>\n",
       "      <th rowspan=\"2\" valign=\"top\">X</th>\n",
       "      <th>A</th>\n",
       "      <td>40</td>\n",
       "    </tr>\n",
       "    <tr>\n",
       "      <th>B</th>\n",
       "      <td>50</td>\n",
       "    </tr>\n",
       "    <tr>\n",
       "      <th rowspan=\"2\" valign=\"top\">Y</th>\n",
       "      <th>A</th>\n",
       "      <td>40</td>\n",
       "    </tr>\n",
       "    <tr>\n",
       "      <th>B</th>\n",
       "      <td>20</td>\n",
       "    </tr>\n",
       "  </tbody>\n",
       "</table>\n",
       "</div>"
      ],
      "text/plain": [
       "     Valor\n",
       "A B       \n",
       "X A     40\n",
       "  B     50\n",
       "Y A     40\n",
       "  B     20"
      ]
     },
     "execution_count": 90,
     "metadata": {},
     "output_type": "execute_result"
    }
   ],
   "source": [
    "df.groupby(['A','B']).sum()"
   ]
  },
  {
   "cell_type": "markdown",
   "id": "803e4d96",
   "metadata": {},
   "source": [
    "Se tiene el valor agrupado de la columna A y los valores de las columna B y Valor resumidos mediante la suma"
   ]
  },
  {
   "cell_type": "code",
   "execution_count": 91,
   "id": "775c3f60",
   "metadata": {
    "scrolled": true
   },
   "outputs": [
    {
     "data": {
      "text/html": [
       "<div>\n",
       "<style scoped>\n",
       "    .dataframe tbody tr th:only-of-type {\n",
       "        vertical-align: middle;\n",
       "    }\n",
       "\n",
       "    .dataframe tbody tr th {\n",
       "        vertical-align: top;\n",
       "    }\n",
       "\n",
       "    .dataframe thead th {\n",
       "        text-align: right;\n",
       "    }\n",
       "</style>\n",
       "<table border=\"1\" class=\"dataframe\">\n",
       "  <thead>\n",
       "    <tr style=\"text-align: right;\">\n",
       "      <th></th>\n",
       "      <th>Valor</th>\n",
       "    </tr>\n",
       "    <tr>\n",
       "      <th>A</th>\n",
       "      <th></th>\n",
       "    </tr>\n",
       "  </thead>\n",
       "  <tbody>\n",
       "    <tr>\n",
       "      <th>X</th>\n",
       "      <td>90</td>\n",
       "    </tr>\n",
       "    <tr>\n",
       "      <th>Y</th>\n",
       "      <td>60</td>\n",
       "    </tr>\n",
       "  </tbody>\n",
       "</table>\n",
       "</div>"
      ],
      "text/plain": [
       "   Valor\n",
       "A       \n",
       "X     90\n",
       "Y     60"
      ]
     },
     "execution_count": 91,
     "metadata": {},
     "output_type": "execute_result"
    }
   ],
   "source": [
    "df.groupby(\"A\")[[\"B\", \"Valor\"]].sum()"
   ]
  },
  {
   "cell_type": "markdown",
   "id": "5d237e51",
   "metadata": {},
   "source": [
    "### Reducción booleana\n",
    "Se pueden resumir los datos mediante expresiones booleanas (cumpliendo una condición o no)"
   ]
  },
  {
   "cell_type": "code",
   "execution_count": 92,
   "id": "a1c7ad52",
   "metadata": {},
   "outputs": [
    {
     "data": {
      "text/html": [
       "<div>\n",
       "<style scoped>\n",
       "    .dataframe tbody tr th:only-of-type {\n",
       "        vertical-align: middle;\n",
       "    }\n",
       "\n",
       "    .dataframe tbody tr th {\n",
       "        vertical-align: top;\n",
       "    }\n",
       "\n",
       "    .dataframe thead th {\n",
       "        text-align: right;\n",
       "    }\n",
       "</style>\n",
       "<table border=\"1\" class=\"dataframe\">\n",
       "  <thead>\n",
       "    <tr style=\"text-align: right;\">\n",
       "      <th></th>\n",
       "      <th>A</th>\n",
       "      <th>B</th>\n",
       "      <th>C</th>\n",
       "    </tr>\n",
       "  </thead>\n",
       "  <tbody>\n",
       "    <tr>\n",
       "      <th>0</th>\n",
       "      <td>1</td>\n",
       "      <td>2</td>\n",
       "      <td>3</td>\n",
       "    </tr>\n",
       "    <tr>\n",
       "      <th>1</th>\n",
       "      <td>2</td>\n",
       "      <td>4</td>\n",
       "      <td>6</td>\n",
       "    </tr>\n",
       "    <tr>\n",
       "      <th>2</th>\n",
       "      <td>10</td>\n",
       "      <td>20</td>\n",
       "      <td>30</td>\n",
       "    </tr>\n",
       "  </tbody>\n",
       "</table>\n",
       "</div>"
      ],
      "text/plain": [
       "    A   B   C\n",
       "0   1   2   3\n",
       "1   2   4   6\n",
       "2  10  20  30"
      ]
     },
     "execution_count": 92,
     "metadata": {},
     "output_type": "execute_result"
    }
   ],
   "source": [
    "dfdic"
   ]
  },
  {
   "cell_type": "code",
   "execution_count": 93,
   "id": "94b1d058",
   "metadata": {},
   "outputs": [
    {
     "data": {
      "text/plain": [
       "A    False\n",
       "B     True\n",
       "C     True\n",
       "dtype: bool"
      ]
     },
     "execution_count": 93,
     "metadata": {},
     "output_type": "execute_result"
    }
   ],
   "source": [
    "(dfdic>10).any()"
   ]
  },
  {
   "cell_type": "code",
   "execution_count": 94,
   "id": "285ad043",
   "metadata": {},
   "outputs": [
    {
     "data": {
      "text/plain": [
       "A    False\n",
       "B    False\n",
       "C    False\n",
       "dtype: bool"
      ]
     },
     "execution_count": 94,
     "metadata": {},
     "output_type": "execute_result"
    }
   ],
   "source": [
    "(dfdic>10).all()"
   ]
  },
  {
   "cell_type": "code",
   "execution_count": 95,
   "id": "7a610221",
   "metadata": {},
   "outputs": [
    {
     "data": {
      "text/plain": [
       "False"
      ]
     },
     "execution_count": 95,
     "metadata": {},
     "output_type": "execute_result"
    }
   ],
   "source": [
    "dfdic.empty"
   ]
  },
  {
   "cell_type": "code",
   "execution_count": 96,
   "id": "9a7742ff",
   "metadata": {},
   "outputs": [],
   "source": [
    "dd = pd.DataFrame()"
   ]
  },
  {
   "cell_type": "code",
   "execution_count": 97,
   "id": "c7639cf0",
   "metadata": {},
   "outputs": [
    {
     "data": {
      "text/plain": [
       "True"
      ]
     },
     "execution_count": 97,
     "metadata": {},
     "output_type": "execute_result"
    }
   ],
   "source": [
    "dd.empty"
   ]
  },
  {
   "cell_type": "code",
   "execution_count": 98,
   "id": "0680edc4",
   "metadata": {},
   "outputs": [
    {
     "data": {
      "text/plain": [
       "longitude             False\n",
       "latitude              False\n",
       "housing_median_age    False\n",
       "population            False\n",
       "households            False\n",
       "median_income         False\n",
       "median_house_value    False\n",
       "ocean_proximity       False\n",
       "ceros                  True\n",
       "latmaslong            False\n",
       "dtype: bool"
      ]
     },
     "execution_count": 98,
     "metadata": {},
     "output_type": "execute_result"
    }
   ],
   "source": [
    "(dfpruebas==0).all()"
   ]
  },
  {
   "cell_type": "markdown",
   "id": "3bd11f44",
   "metadata": {},
   "source": [
    "## Reindexación y alteración de etiquetas"
   ]
  },
  {
   "cell_type": "code",
   "execution_count": 99,
   "id": "99edfea1",
   "metadata": {},
   "outputs": [],
   "source": [
    "s = pd.Series(np.random.randn(5), index=[\"a\", \"b\", \"c\", \"d\", \"e\"])"
   ]
  },
  {
   "cell_type": "code",
   "execution_count": 100,
   "id": "8ad68f4c",
   "metadata": {},
   "outputs": [
    {
     "data": {
      "text/plain": [
       "a   -0.040176\n",
       "b    0.014968\n",
       "c   -1.790213\n",
       "d    0.495583\n",
       "e   -0.398638\n",
       "dtype: float64"
      ]
     },
     "execution_count": 100,
     "metadata": {},
     "output_type": "execute_result"
    }
   ],
   "source": [
    "s"
   ]
  },
  {
   "cell_type": "code",
   "execution_count": 101,
   "id": "075acfa3",
   "metadata": {},
   "outputs": [
    {
     "data": {
      "text/plain": [
       "e   -0.398638\n",
       "b    0.014968\n",
       "f         NaN\n",
       "d    0.495583\n",
       "dtype: float64"
      ]
     },
     "execution_count": 101,
     "metadata": {},
     "output_type": "execute_result"
    }
   ],
   "source": [
    "\n",
    "s.reindex([\"e\", \"b\", \"f\", \"d\"])"
   ]
  },
  {
   "cell_type": "markdown",
   "id": "50ed96ba",
   "metadata": {},
   "source": [
    "Se puede ver como en este caso reorganiza el índice según la reindexación y crea la fila 'f' con valor NaN ya que no existía en la serie original"
   ]
  },
  {
   "cell_type": "code",
   "execution_count": 108,
   "id": "e65fe9d8",
   "metadata": {},
   "outputs": [],
   "source": [
    "data = [[1.394981,1.772517,None],[0.343054,1.912123,-0.050390],[0.695246,1.478369,1.227435],[None,0.279344,-0.613172]]"
   ]
  },
  {
   "cell_type": "code",
   "execution_count": 110,
   "id": "5b832705",
   "metadata": {},
   "outputs": [],
   "source": [
    "df = pd.DataFrame(data, index = ['a','b','c','d'], columns= ['one','two','three'] )"
   ]
  },
  {
   "cell_type": "code",
   "execution_count": 111,
   "id": "1ef8a916",
   "metadata": {},
   "outputs": [
    {
     "data": {
      "text/html": [
       "<div>\n",
       "<style scoped>\n",
       "    .dataframe tbody tr th:only-of-type {\n",
       "        vertical-align: middle;\n",
       "    }\n",
       "\n",
       "    .dataframe tbody tr th {\n",
       "        vertical-align: top;\n",
       "    }\n",
       "\n",
       "    .dataframe thead th {\n",
       "        text-align: right;\n",
       "    }\n",
       "</style>\n",
       "<table border=\"1\" class=\"dataframe\">\n",
       "  <thead>\n",
       "    <tr style=\"text-align: right;\">\n",
       "      <th></th>\n",
       "      <th>one</th>\n",
       "      <th>two</th>\n",
       "      <th>three</th>\n",
       "    </tr>\n",
       "  </thead>\n",
       "  <tbody>\n",
       "    <tr>\n",
       "      <th>a</th>\n",
       "      <td>1.394981</td>\n",
       "      <td>1.772517</td>\n",
       "      <td>NaN</td>\n",
       "    </tr>\n",
       "    <tr>\n",
       "      <th>b</th>\n",
       "      <td>0.343054</td>\n",
       "      <td>1.912123</td>\n",
       "      <td>-0.050390</td>\n",
       "    </tr>\n",
       "    <tr>\n",
       "      <th>c</th>\n",
       "      <td>0.695246</td>\n",
       "      <td>1.478369</td>\n",
       "      <td>1.227435</td>\n",
       "    </tr>\n",
       "    <tr>\n",
       "      <th>d</th>\n",
       "      <td>NaN</td>\n",
       "      <td>0.279344</td>\n",
       "      <td>-0.613172</td>\n",
       "    </tr>\n",
       "  </tbody>\n",
       "</table>\n",
       "</div>"
      ],
      "text/plain": [
       "        one       two     three\n",
       "a  1.394981  1.772517       NaN\n",
       "b  0.343054  1.912123 -0.050390\n",
       "c  0.695246  1.478369  1.227435\n",
       "d       NaN  0.279344 -0.613172"
      ]
     },
     "execution_count": 111,
     "metadata": {},
     "output_type": "execute_result"
    }
   ],
   "source": [
    "df"
   ]
  },
  {
   "cell_type": "code",
   "execution_count": 112,
   "id": "952611ae",
   "metadata": {},
   "outputs": [
    {
     "data": {
      "text/html": [
       "<div>\n",
       "<style scoped>\n",
       "    .dataframe tbody tr th:only-of-type {\n",
       "        vertical-align: middle;\n",
       "    }\n",
       "\n",
       "    .dataframe tbody tr th {\n",
       "        vertical-align: top;\n",
       "    }\n",
       "\n",
       "    .dataframe thead th {\n",
       "        text-align: right;\n",
       "    }\n",
       "</style>\n",
       "<table border=\"1\" class=\"dataframe\">\n",
       "  <thead>\n",
       "    <tr style=\"text-align: right;\">\n",
       "      <th></th>\n",
       "      <th>three</th>\n",
       "      <th>two</th>\n",
       "      <th>one</th>\n",
       "    </tr>\n",
       "  </thead>\n",
       "  <tbody>\n",
       "    <tr>\n",
       "      <th>c</th>\n",
       "      <td>1.227435</td>\n",
       "      <td>1.478369</td>\n",
       "      <td>0.695246</td>\n",
       "    </tr>\n",
       "    <tr>\n",
       "      <th>f</th>\n",
       "      <td>NaN</td>\n",
       "      <td>NaN</td>\n",
       "      <td>NaN</td>\n",
       "    </tr>\n",
       "    <tr>\n",
       "      <th>b</th>\n",
       "      <td>-0.050390</td>\n",
       "      <td>1.912123</td>\n",
       "      <td>0.343054</td>\n",
       "    </tr>\n",
       "  </tbody>\n",
       "</table>\n",
       "</div>"
      ],
      "text/plain": [
       "      three       two       one\n",
       "c  1.227435  1.478369  0.695246\n",
       "f       NaN       NaN       NaN\n",
       "b -0.050390  1.912123  0.343054"
      ]
     },
     "execution_count": 112,
     "metadata": {},
     "output_type": "execute_result"
    }
   ],
   "source": [
    "df.reindex(index=[\"c\", \"f\", \"b\"], columns=[\"three\", \"two\", \"one\"])"
   ]
  },
  {
   "cell_type": "markdown",
   "id": "686f2a05",
   "metadata": {},
   "source": [
    "Las etiquetas de índice se pueden compartir entre series y dataframes. Por lo que lo siguiente estaría permitido."
   ]
  },
  {
   "cell_type": "code",
   "execution_count": 114,
   "id": "ba336a71",
   "metadata": {},
   "outputs": [
    {
     "data": {
      "text/plain": [
       "a   -0.040176\n",
       "b    0.014968\n",
       "c   -1.790213\n",
       "d    0.495583\n",
       "dtype: float64"
      ]
     },
     "execution_count": 114,
     "metadata": {},
     "output_type": "execute_result"
    }
   ],
   "source": [
    "rs = s.reindex(df.index)\n",
    "rs"
   ]
  },
  {
   "cell_type": "code",
   "execution_count": 115,
   "id": "09fffbba",
   "metadata": {},
   "outputs": [
    {
     "data": {
      "text/html": [
       "<div>\n",
       "<style scoped>\n",
       "    .dataframe tbody tr th:only-of-type {\n",
       "        vertical-align: middle;\n",
       "    }\n",
       "\n",
       "    .dataframe tbody tr th {\n",
       "        vertical-align: top;\n",
       "    }\n",
       "\n",
       "    .dataframe thead th {\n",
       "        text-align: right;\n",
       "    }\n",
       "</style>\n",
       "<table border=\"1\" class=\"dataframe\">\n",
       "  <thead>\n",
       "    <tr style=\"text-align: right;\">\n",
       "      <th></th>\n",
       "      <th>three</th>\n",
       "      <th>two</th>\n",
       "      <th>one</th>\n",
       "    </tr>\n",
       "  </thead>\n",
       "  <tbody>\n",
       "    <tr>\n",
       "      <th>a</th>\n",
       "      <td>NaN</td>\n",
       "      <td>1.772517</td>\n",
       "      <td>1.394981</td>\n",
       "    </tr>\n",
       "    <tr>\n",
       "      <th>b</th>\n",
       "      <td>-0.050390</td>\n",
       "      <td>1.912123</td>\n",
       "      <td>0.343054</td>\n",
       "    </tr>\n",
       "    <tr>\n",
       "      <th>c</th>\n",
       "      <td>1.227435</td>\n",
       "      <td>1.478369</td>\n",
       "      <td>0.695246</td>\n",
       "    </tr>\n",
       "    <tr>\n",
       "      <th>d</th>\n",
       "      <td>-0.613172</td>\n",
       "      <td>0.279344</td>\n",
       "      <td>NaN</td>\n",
       "    </tr>\n",
       "  </tbody>\n",
       "</table>\n",
       "</div>"
      ],
      "text/plain": [
       "      three       two       one\n",
       "a       NaN  1.772517  1.394981\n",
       "b -0.050390  1.912123  0.343054\n",
       "c  1.227435  1.478369  0.695246\n",
       "d -0.613172  0.279344       NaN"
      ]
     },
     "execution_count": 115,
     "metadata": {},
     "output_type": "execute_result"
    }
   ],
   "source": [
    "df.reindex([\"three\", \"two\", \"one\"], axis=\"columns\") # se puede especificar el índice que se quiere alterar"
   ]
  },
  {
   "cell_type": "code",
   "execution_count": 116,
   "id": "6eb38be1",
   "metadata": {},
   "outputs": [
    {
     "data": {
      "text/html": [
       "<div>\n",
       "<style scoped>\n",
       "    .dataframe tbody tr th:only-of-type {\n",
       "        vertical-align: middle;\n",
       "    }\n",
       "\n",
       "    .dataframe tbody tr th {\n",
       "        vertical-align: top;\n",
       "    }\n",
       "\n",
       "    .dataframe thead th {\n",
       "        text-align: right;\n",
       "    }\n",
       "</style>\n",
       "<table border=\"1\" class=\"dataframe\">\n",
       "  <thead>\n",
       "    <tr style=\"text-align: right;\">\n",
       "      <th></th>\n",
       "      <th>one</th>\n",
       "      <th>two</th>\n",
       "      <th>three</th>\n",
       "    </tr>\n",
       "  </thead>\n",
       "  <tbody>\n",
       "    <tr>\n",
       "      <th>three</th>\n",
       "      <td>NaN</td>\n",
       "      <td>NaN</td>\n",
       "      <td>NaN</td>\n",
       "    </tr>\n",
       "    <tr>\n",
       "      <th>two</th>\n",
       "      <td>NaN</td>\n",
       "      <td>NaN</td>\n",
       "      <td>NaN</td>\n",
       "    </tr>\n",
       "    <tr>\n",
       "      <th>one</th>\n",
       "      <td>NaN</td>\n",
       "      <td>NaN</td>\n",
       "      <td>NaN</td>\n",
       "    </tr>\n",
       "  </tbody>\n",
       "</table>\n",
       "</div>"
      ],
      "text/plain": [
       "       one  two  three\n",
       "three  NaN  NaN    NaN\n",
       "two    NaN  NaN    NaN\n",
       "one    NaN  NaN    NaN"
      ]
     },
     "execution_count": 116,
     "metadata": {},
     "output_type": "execute_result"
    }
   ],
   "source": [
    "df.reindex([\"three\", \"two\", \"one\"], axis=\"index\")"
   ]
  },
  {
   "cell_type": "markdown",
   "id": "77b9b701",
   "metadata": {},
   "source": [
    "### Reindexación para alinear con otro objeto\n",
    "Consiste en reindexar un objeto tal como está indexado otro mediante la expresión df.reindex_like(DataFrame)"
   ]
  },
  {
   "cell_type": "code",
   "execution_count": 124,
   "id": "2c48757b",
   "metadata": {},
   "outputs": [],
   "source": [
    "df2 = df.reindex([\"a\", \"b\", \"c\"], columns=[\"one\", \"two\"])"
   ]
  },
  {
   "cell_type": "code",
   "execution_count": 129,
   "id": "3ef66e40",
   "metadata": {},
   "outputs": [
    {
     "data": {
      "text/html": [
       "<div>\n",
       "<style scoped>\n",
       "    .dataframe tbody tr th:only-of-type {\n",
       "        vertical-align: middle;\n",
       "    }\n",
       "\n",
       "    .dataframe tbody tr th {\n",
       "        vertical-align: top;\n",
       "    }\n",
       "\n",
       "    .dataframe thead th {\n",
       "        text-align: right;\n",
       "    }\n",
       "</style>\n",
       "<table border=\"1\" class=\"dataframe\">\n",
       "  <thead>\n",
       "    <tr style=\"text-align: right;\">\n",
       "      <th></th>\n",
       "      <th>one</th>\n",
       "      <th>two</th>\n",
       "    </tr>\n",
       "  </thead>\n",
       "  <tbody>\n",
       "    <tr>\n",
       "      <th>a</th>\n",
       "      <td>1.394981</td>\n",
       "      <td>1.772517</td>\n",
       "    </tr>\n",
       "    <tr>\n",
       "      <th>b</th>\n",
       "      <td>0.343054</td>\n",
       "      <td>1.912123</td>\n",
       "    </tr>\n",
       "    <tr>\n",
       "      <th>c</th>\n",
       "      <td>0.695246</td>\n",
       "      <td>1.478369</td>\n",
       "    </tr>\n",
       "  </tbody>\n",
       "</table>\n",
       "</div>"
      ],
      "text/plain": [
       "        one       two\n",
       "a  1.394981  1.772517\n",
       "b  0.343054  1.912123\n",
       "c  0.695246  1.478369"
      ]
     },
     "execution_count": 129,
     "metadata": {},
     "output_type": "execute_result"
    }
   ],
   "source": [
    "df2"
   ]
  },
  {
   "cell_type": "code",
   "execution_count": 127,
   "id": "568bce35",
   "metadata": {},
   "outputs": [],
   "source": [
    "df3 =df2-df2.mean()"
   ]
  },
  {
   "cell_type": "code",
   "execution_count": 128,
   "id": "f87b9f68",
   "metadata": {},
   "outputs": [
    {
     "data": {
      "text/html": [
       "<div>\n",
       "<style scoped>\n",
       "    .dataframe tbody tr th:only-of-type {\n",
       "        vertical-align: middle;\n",
       "    }\n",
       "\n",
       "    .dataframe tbody tr th {\n",
       "        vertical-align: top;\n",
       "    }\n",
       "\n",
       "    .dataframe thead th {\n",
       "        text-align: right;\n",
       "    }\n",
       "</style>\n",
       "<table border=\"1\" class=\"dataframe\">\n",
       "  <thead>\n",
       "    <tr style=\"text-align: right;\">\n",
       "      <th></th>\n",
       "      <th>one</th>\n",
       "      <th>two</th>\n",
       "    </tr>\n",
       "  </thead>\n",
       "  <tbody>\n",
       "    <tr>\n",
       "      <th>a</th>\n",
       "      <td>0.583887</td>\n",
       "      <td>0.051514</td>\n",
       "    </tr>\n",
       "    <tr>\n",
       "      <th>b</th>\n",
       "      <td>-0.468040</td>\n",
       "      <td>0.191120</td>\n",
       "    </tr>\n",
       "    <tr>\n",
       "      <th>c</th>\n",
       "      <td>-0.115848</td>\n",
       "      <td>-0.242634</td>\n",
       "    </tr>\n",
       "  </tbody>\n",
       "</table>\n",
       "</div>"
      ],
      "text/plain": [
       "        one       two\n",
       "a  0.583887  0.051514\n",
       "b -0.468040  0.191120\n",
       "c -0.115848 -0.242634"
      ]
     },
     "execution_count": 128,
     "metadata": {},
     "output_type": "execute_result"
    }
   ],
   "source": [
    "df3"
   ]
  },
  {
   "cell_type": "code",
   "execution_count": 130,
   "id": "6957ab2b",
   "metadata": {},
   "outputs": [
    {
     "data": {
      "text/html": [
       "<div>\n",
       "<style scoped>\n",
       "    .dataframe tbody tr th:only-of-type {\n",
       "        vertical-align: middle;\n",
       "    }\n",
       "\n",
       "    .dataframe tbody tr th {\n",
       "        vertical-align: top;\n",
       "    }\n",
       "\n",
       "    .dataframe thead th {\n",
       "        text-align: right;\n",
       "    }\n",
       "</style>\n",
       "<table border=\"1\" class=\"dataframe\">\n",
       "  <thead>\n",
       "    <tr style=\"text-align: right;\">\n",
       "      <th></th>\n",
       "      <th>one</th>\n",
       "      <th>two</th>\n",
       "    </tr>\n",
       "  </thead>\n",
       "  <tbody>\n",
       "    <tr>\n",
       "      <th>a</th>\n",
       "      <td>1.394981</td>\n",
       "      <td>1.772517</td>\n",
       "    </tr>\n",
       "    <tr>\n",
       "      <th>b</th>\n",
       "      <td>0.343054</td>\n",
       "      <td>1.912123</td>\n",
       "    </tr>\n",
       "    <tr>\n",
       "      <th>c</th>\n",
       "      <td>0.695246</td>\n",
       "      <td>1.478369</td>\n",
       "    </tr>\n",
       "  </tbody>\n",
       "</table>\n",
       "</div>"
      ],
      "text/plain": [
       "        one       two\n",
       "a  1.394981  1.772517\n",
       "b  0.343054  1.912123\n",
       "c  0.695246  1.478369"
      ]
     },
     "execution_count": 130,
     "metadata": {},
     "output_type": "execute_result"
    }
   ],
   "source": [
    "df.reindex_like(df3)"
   ]
  },
  {
   "cell_type": "markdown",
   "id": "1b216d3a",
   "metadata": {},
   "source": [
    "### Rellenar mientras se reindexa\n",
    "Útil para series temporales. Se pueden emplear los siguientes métodos:\n",
    "    \n",
    "| Método | Acción |\n",
    "|:--------:|:----:|\n",
    "|pad/ffill|Llenar valores hacia adelante| \n",
    "|bfill / backfill|Llena valores hacia atrás| \n",
    "|nearest|Rellenar desde el valor de índice más cercano|\n"
   ]
  },
  {
   "cell_type": "code",
   "execution_count": 157,
   "id": "404fc019",
   "metadata": {},
   "outputs": [],
   "source": [
    "rng = pd.date_range(\"1/3/2000\", periods=8)\n",
    "ts = pd.Series(np.random.randn(8), index=rng)\n",
    "ts2 = ts.iloc[[0, 3, 6]]"
   ]
  },
  {
   "cell_type": "code",
   "execution_count": 158,
   "id": "dbadb01b",
   "metadata": {},
   "outputs": [
    {
     "data": {
      "text/plain": [
       "2000-01-03    0.966269\n",
       "2000-01-04    1.976361\n",
       "2000-01-05    0.290852\n",
       "2000-01-06   -0.753616\n",
       "2000-01-07   -0.294379\n",
       "2000-01-08    0.553015\n",
       "2000-01-09    1.006104\n",
       "2000-01-10    0.165723\n",
       "Freq: D, dtype: float64"
      ]
     },
     "execution_count": 158,
     "metadata": {},
     "output_type": "execute_result"
    }
   ],
   "source": [
    "ts"
   ]
  },
  {
   "cell_type": "code",
   "execution_count": 159,
   "id": "9fed2f94",
   "metadata": {
    "scrolled": true
   },
   "outputs": [
    {
     "data": {
      "text/plain": [
       "2000-01-03    0.966269\n",
       "2000-01-06   -0.753616\n",
       "2000-01-09    1.006104\n",
       "Freq: 3D, dtype: float64"
      ]
     },
     "execution_count": 159,
     "metadata": {},
     "output_type": "execute_result"
    }
   ],
   "source": [
    "ts2"
   ]
  },
  {
   "cell_type": "code",
   "execution_count": 160,
   "id": "9971ecf4",
   "metadata": {},
   "outputs": [
    {
     "data": {
      "text/plain": [
       "2000-01-03    0.966269\n",
       "2000-01-04         NaN\n",
       "2000-01-05         NaN\n",
       "2000-01-06   -0.753616\n",
       "2000-01-07         NaN\n",
       "2000-01-08         NaN\n",
       "2000-01-09    1.006104\n",
       "2000-01-10         NaN\n",
       "Freq: D, dtype: float64"
      ]
     },
     "execution_count": 160,
     "metadata": {},
     "output_type": "execute_result"
    }
   ],
   "source": [
    "ts2.reindex(ts.index)"
   ]
  },
  {
   "cell_type": "code",
   "execution_count": 161,
   "id": "a1ad5db2",
   "metadata": {},
   "outputs": [
    {
     "data": {
      "text/plain": [
       "2000-01-03    0.966269\n",
       "2000-01-04    0.966269\n",
       "2000-01-05    0.966269\n",
       "2000-01-06   -0.753616\n",
       "2000-01-07   -0.753616\n",
       "2000-01-08   -0.753616\n",
       "2000-01-09    1.006104\n",
       "2000-01-10    1.006104\n",
       "Freq: D, dtype: float64"
      ]
     },
     "execution_count": 161,
     "metadata": {},
     "output_type": "execute_result"
    }
   ],
   "source": [
    "ts2.reindex(ts.index, method='ffill')"
   ]
  },
  {
   "cell_type": "code",
   "execution_count": 162,
   "id": "d226e7d1",
   "metadata": {},
   "outputs": [
    {
     "data": {
      "text/plain": [
       "2000-01-03    0.966269\n",
       "2000-01-04   -0.753616\n",
       "2000-01-05   -0.753616\n",
       "2000-01-06   -0.753616\n",
       "2000-01-07    1.006104\n",
       "2000-01-08    1.006104\n",
       "2000-01-09    1.006104\n",
       "2000-01-10         NaN\n",
       "Freq: D, dtype: float64"
      ]
     },
     "execution_count": 162,
     "metadata": {},
     "output_type": "execute_result"
    }
   ],
   "source": [
    "ts2.reindex(ts.index, method='bfill')"
   ]
  },
  {
   "cell_type": "code",
   "execution_count": 163,
   "id": "a4fa7a9f",
   "metadata": {},
   "outputs": [
    {
     "data": {
      "text/plain": [
       "2000-01-03    0.966269\n",
       "2000-01-04    0.966269\n",
       "2000-01-05   -0.753616\n",
       "2000-01-06   -0.753616\n",
       "2000-01-07   -0.753616\n",
       "2000-01-08    1.006104\n",
       "2000-01-09    1.006104\n",
       "2000-01-10    1.006104\n",
       "Freq: D, dtype: float64"
      ]
     },
     "execution_count": 163,
     "metadata": {},
     "output_type": "execute_result"
    }
   ],
   "source": [
    "ts2.reindex(ts.index, method='nearest')"
   ]
  },
  {
   "cell_type": "markdown",
   "id": "0194fd91",
   "metadata": {},
   "source": [
    "**Nota:** reindex devolverá un error si el índice no es monótonamente creciente o decreciente. Con los métodos fillnea() o interpolate() no se realiza la comprobación en el orden del índice."
   ]
  },
  {
   "cell_type": "markdown",
   "id": "ba36abe4",
   "metadata": {},
   "source": [
    "#### Definir límites en reindexación"
   ]
  },
  {
   "cell_type": "code",
   "execution_count": 164,
   "id": "8a820715",
   "metadata": {},
   "outputs": [
    {
     "data": {
      "text/plain": [
       "2000-01-03    0.966269\n",
       "2000-01-04    0.966269\n",
       "2000-01-05         NaN\n",
       "2000-01-06   -0.753616\n",
       "2000-01-07   -0.753616\n",
       "2000-01-08         NaN\n",
       "2000-01-09    1.006104\n",
       "2000-01-10    1.006104\n",
       "Freq: D, dtype: float64"
      ]
     },
     "execution_count": 164,
     "metadata": {},
     "output_type": "execute_result"
    }
   ],
   "source": [
    "ts2.reindex(ts.index, method='ffill', limit=1)"
   ]
  },
  {
   "cell_type": "code",
   "execution_count": 168,
   "id": "2aaa2d6e",
   "metadata": {},
   "outputs": [
    {
     "data": {
      "text/plain": [
       "2000-01-03    0.966269\n",
       "2000-01-04    0.966269\n",
       "2000-01-05         NaN\n",
       "2000-01-06   -0.753616\n",
       "2000-01-07   -0.753616\n",
       "2000-01-08         NaN\n",
       "2000-01-09    1.006104\n",
       "2000-01-10    1.006104\n",
       "Freq: D, dtype: float64"
      ]
     },
     "execution_count": 168,
     "metadata": {},
     "output_type": "execute_result"
    }
   ],
   "source": [
    "ts2.reindex(ts.index, method='ffill', tolerance='1 day')"
   ]
  },
  {
   "cell_type": "markdown",
   "id": "73ba3033",
   "metadata": {},
   "source": [
    "### Borrar una selección de etiquetas de un eje"
   ]
  },
  {
   "cell_type": "code",
   "execution_count": 169,
   "id": "31ee744c",
   "metadata": {},
   "outputs": [
    {
     "data": {
      "text/html": [
       "<div>\n",
       "<style scoped>\n",
       "    .dataframe tbody tr th:only-of-type {\n",
       "        vertical-align: middle;\n",
       "    }\n",
       "\n",
       "    .dataframe tbody tr th {\n",
       "        vertical-align: top;\n",
       "    }\n",
       "\n",
       "    .dataframe thead th {\n",
       "        text-align: right;\n",
       "    }\n",
       "</style>\n",
       "<table border=\"1\" class=\"dataframe\">\n",
       "  <thead>\n",
       "    <tr style=\"text-align: right;\">\n",
       "      <th></th>\n",
       "      <th>one</th>\n",
       "      <th>two</th>\n",
       "      <th>three</th>\n",
       "    </tr>\n",
       "  </thead>\n",
       "  <tbody>\n",
       "    <tr>\n",
       "      <th>b</th>\n",
       "      <td>0.343054</td>\n",
       "      <td>1.912123</td>\n",
       "      <td>-0.050390</td>\n",
       "    </tr>\n",
       "    <tr>\n",
       "      <th>c</th>\n",
       "      <td>0.695246</td>\n",
       "      <td>1.478369</td>\n",
       "      <td>1.227435</td>\n",
       "    </tr>\n",
       "  </tbody>\n",
       "</table>\n",
       "</div>"
      ],
      "text/plain": [
       "        one       two     three\n",
       "b  0.343054  1.912123 -0.050390\n",
       "c  0.695246  1.478369  1.227435"
      ]
     },
     "execution_count": 169,
     "metadata": {},
     "output_type": "execute_result"
    }
   ],
   "source": [
    "df.drop([\"a\", \"d\"], axis=0)"
   ]
  },
  {
   "cell_type": "code",
   "execution_count": 171,
   "id": "e3c05efa",
   "metadata": {},
   "outputs": [
    {
     "data": {
      "text/html": [
       "<div>\n",
       "<style scoped>\n",
       "    .dataframe tbody tr th:only-of-type {\n",
       "        vertical-align: middle;\n",
       "    }\n",
       "\n",
       "    .dataframe tbody tr th {\n",
       "        vertical-align: top;\n",
       "    }\n",
       "\n",
       "    .dataframe thead th {\n",
       "        text-align: right;\n",
       "    }\n",
       "</style>\n",
       "<table border=\"1\" class=\"dataframe\">\n",
       "  <thead>\n",
       "    <tr style=\"text-align: right;\">\n",
       "      <th></th>\n",
       "      <th>two</th>\n",
       "      <th>three</th>\n",
       "    </tr>\n",
       "  </thead>\n",
       "  <tbody>\n",
       "    <tr>\n",
       "      <th>a</th>\n",
       "      <td>1.772517</td>\n",
       "      <td>NaN</td>\n",
       "    </tr>\n",
       "    <tr>\n",
       "      <th>b</th>\n",
       "      <td>1.912123</td>\n",
       "      <td>-0.050390</td>\n",
       "    </tr>\n",
       "    <tr>\n",
       "      <th>c</th>\n",
       "      <td>1.478369</td>\n",
       "      <td>1.227435</td>\n",
       "    </tr>\n",
       "    <tr>\n",
       "      <th>d</th>\n",
       "      <td>0.279344</td>\n",
       "      <td>-0.613172</td>\n",
       "    </tr>\n",
       "  </tbody>\n",
       "</table>\n",
       "</div>"
      ],
      "text/plain": [
       "        two     three\n",
       "a  1.772517       NaN\n",
       "b  1.912123 -0.050390\n",
       "c  1.478369  1.227435\n",
       "d  0.279344 -0.613172"
      ]
     },
     "execution_count": 171,
     "metadata": {},
     "output_type": "execute_result"
    }
   ],
   "source": [
    "df.drop([\"one\"], axis=1)"
   ]
  },
  {
   "cell_type": "markdown",
   "id": "082d8fc0",
   "metadata": {},
   "source": [
    "### Renombrar mapear etiquetas"
   ]
  },
  {
   "cell_type": "code",
   "execution_count": 173,
   "id": "ac89f2c7",
   "metadata": {
    "scrolled": true
   },
   "outputs": [
    {
     "data": {
      "text/plain": [
       "A   -0.294405\n",
       "B    1.799087\n",
       "C    0.421478\n",
       "D    0.228509\n",
       "E   -0.964365\n",
       "dtype: float64"
      ]
     },
     "execution_count": 173,
     "metadata": {},
     "output_type": "execute_result"
    }
   ],
   "source": [
    "s.rename(str.upper)"
   ]
  },
  {
   "cell_type": "code",
   "execution_count": 174,
   "id": "0a6e0eb3",
   "metadata": {},
   "outputs": [
    {
     "data": {
      "text/html": [
       "<div>\n",
       "<style scoped>\n",
       "    .dataframe tbody tr th:only-of-type {\n",
       "        vertical-align: middle;\n",
       "    }\n",
       "\n",
       "    .dataframe tbody tr th {\n",
       "        vertical-align: top;\n",
       "    }\n",
       "\n",
       "    .dataframe thead th {\n",
       "        text-align: right;\n",
       "    }\n",
       "</style>\n",
       "<table border=\"1\" class=\"dataframe\">\n",
       "  <thead>\n",
       "    <tr style=\"text-align: right;\">\n",
       "      <th></th>\n",
       "      <th>foo</th>\n",
       "      <th>bar</th>\n",
       "      <th>three</th>\n",
       "    </tr>\n",
       "  </thead>\n",
       "  <tbody>\n",
       "    <tr>\n",
       "      <th>apple</th>\n",
       "      <td>1.394981</td>\n",
       "      <td>1.772517</td>\n",
       "      <td>NaN</td>\n",
       "    </tr>\n",
       "    <tr>\n",
       "      <th>banana</th>\n",
       "      <td>0.343054</td>\n",
       "      <td>1.912123</td>\n",
       "      <td>-0.050390</td>\n",
       "    </tr>\n",
       "    <tr>\n",
       "      <th>c</th>\n",
       "      <td>0.695246</td>\n",
       "      <td>1.478369</td>\n",
       "      <td>1.227435</td>\n",
       "    </tr>\n",
       "    <tr>\n",
       "      <th>durian</th>\n",
       "      <td>NaN</td>\n",
       "      <td>0.279344</td>\n",
       "      <td>-0.613172</td>\n",
       "    </tr>\n",
       "  </tbody>\n",
       "</table>\n",
       "</div>"
      ],
      "text/plain": [
       "             foo       bar     three\n",
       "apple   1.394981  1.772517       NaN\n",
       "banana  0.343054  1.912123 -0.050390\n",
       "c       0.695246  1.478369  1.227435\n",
       "durian       NaN  0.279344 -0.613172"
      ]
     },
     "execution_count": 174,
     "metadata": {},
     "output_type": "execute_result"
    }
   ],
   "source": [
    "df.rename(\n",
    "    columns={\"one\": \"foo\", \"two\": \"bar\"},\n",
    "    index={\"a\": \"apple\", \"b\": \"banana\", \"d\": \"durian\"},\n",
    ")\n"
   ]
  },
  {
   "cell_type": "markdown",
   "id": "755ddcc3",
   "metadata": {},
   "source": [
    "## Alineación de objetos con align\n",
    "Permite los siguientes comandos de unión:\n",
    "* **join = 'outer':** tomar la unión de los índices (por defecto)\n",
    "* **join='left'** usa el índice del objeto llamado\n",
    "* **join='right'** usa el índice del objeto pasado\n",
    "* **join= 'inner'** usa la intersección del índice"
   ]
  },
  {
   "cell_type": "code",
   "execution_count": 131,
   "id": "f89a4b8e",
   "metadata": {},
   "outputs": [],
   "source": [
    "s = pd.Series(np.random.randn(5), index=[\"a\", \"b\", \"c\", \"d\", \"e\"])"
   ]
  },
  {
   "cell_type": "code",
   "execution_count": 133,
   "id": "9e0b0fff",
   "metadata": {},
   "outputs": [],
   "source": [
    "s1 = s[:4]"
   ]
  },
  {
   "cell_type": "code",
   "execution_count": 134,
   "id": "8bb611b8",
   "metadata": {},
   "outputs": [],
   "source": [
    "s2=s[1:]"
   ]
  },
  {
   "cell_type": "code",
   "execution_count": 142,
   "id": "db9cdd58",
   "metadata": {},
   "outputs": [
    {
     "data": {
      "text/plain": [
       "(a   -0.294405\n",
       " b    1.799087\n",
       " c    0.421478\n",
       " d    0.228509\n",
       " e         NaN\n",
       " dtype: float64,\n",
       " a         NaN\n",
       " b    1.799087\n",
       " c    0.421478\n",
       " d    0.228509\n",
       " e   -0.964365\n",
       " dtype: float64)"
      ]
     },
     "execution_count": 142,
     "metadata": {},
     "output_type": "execute_result"
    }
   ],
   "source": [
    "s1.align(s2)"
   ]
  },
  {
   "cell_type": "code",
   "execution_count": 143,
   "id": "d123f9e2",
   "metadata": {},
   "outputs": [
    {
     "data": {
      "text/plain": [
       "(a   -0.294405\n",
       " b    1.799087\n",
       " c    0.421478\n",
       " d    0.228509\n",
       " dtype: float64,\n",
       " a         NaN\n",
       " b    1.799087\n",
       " c    0.421478\n",
       " d    0.228509\n",
       " dtype: float64)"
      ]
     },
     "execution_count": 143,
     "metadata": {},
     "output_type": "execute_result"
    }
   ],
   "source": [
    "s1.align(s2, join='left')"
   ]
  },
  {
   "cell_type": "code",
   "execution_count": 144,
   "id": "9f111446",
   "metadata": {},
   "outputs": [
    {
     "data": {
      "text/plain": [
       "(b    1.799087\n",
       " c    0.421478\n",
       " d    0.228509\n",
       " e         NaN\n",
       " dtype: float64,\n",
       " b    1.799087\n",
       " c    0.421478\n",
       " d    0.228509\n",
       " e   -0.964365\n",
       " dtype: float64)"
      ]
     },
     "execution_count": 144,
     "metadata": {},
     "output_type": "execute_result"
    }
   ],
   "source": [
    "s1.align(s2, join='right')"
   ]
  },
  {
   "cell_type": "code",
   "execution_count": 145,
   "id": "80ca3b79",
   "metadata": {},
   "outputs": [
    {
     "data": {
      "text/plain": [
       "(b    1.799087\n",
       " c    0.421478\n",
       " d    0.228509\n",
       " dtype: float64,\n",
       " b    1.799087\n",
       " c    0.421478\n",
       " d    0.228509\n",
       " dtype: float64)"
      ]
     },
     "execution_count": 145,
     "metadata": {},
     "output_type": "execute_result"
    }
   ],
   "source": [
    "s1.align(s2, join='inner')"
   ]
  },
  {
   "cell_type": "markdown",
   "id": "0b19b904",
   "metadata": {},
   "source": [
    "Por defecto en un dataframe se aplica la alineación a ambos índices"
   ]
  },
  {
   "cell_type": "code",
   "execution_count": 146,
   "id": "dde1b7de",
   "metadata": {},
   "outputs": [
    {
     "data": {
      "text/plain": [
       "(        one       two\n",
       " a  1.394981  1.772517\n",
       " b  0.343054  1.912123\n",
       " c  0.695246  1.478369,\n",
       "         one       two\n",
       " a  1.394981  1.772517\n",
       " b  0.343054  1.912123\n",
       " c  0.695246  1.478369)"
      ]
     },
     "execution_count": 146,
     "metadata": {},
     "output_type": "execute_result"
    }
   ],
   "source": [
    "df.align(df2, join=\"inner\")"
   ]
  },
  {
   "cell_type": "markdown",
   "id": "7312dc88",
   "metadata": {},
   "source": [
    "Se puede hacer una alineación sobre un eje específico"
   ]
  },
  {
   "cell_type": "code",
   "execution_count": 148,
   "id": "c6df138a",
   "metadata": {},
   "outputs": [
    {
     "data": {
      "text/plain": [
       "(        one       two     three\n",
       " a  1.394981  1.772517       NaN\n",
       " b  0.343054  1.912123 -0.050390\n",
       " c  0.695246  1.478369  1.227435,\n",
       "         one       two\n",
       " a  1.394981  1.772517\n",
       " b  0.343054  1.912123\n",
       " c  0.695246  1.478369)"
      ]
     },
     "execution_count": 148,
     "metadata": {},
     "output_type": "execute_result"
    }
   ],
   "source": [
    "df.align(df2, join=\"inner\", axis=0)"
   ]
  },
  {
   "cell_type": "code",
   "execution_count": 156,
   "id": "1b3c8f45",
   "metadata": {},
   "outputs": [
    {
     "data": {
      "text/plain": [
       "(        one     three       two\n",
       " a  1.394981       NaN  1.772517\n",
       " b  0.343054 -0.050390  1.912123\n",
       " c  0.695246  1.227435  1.478369\n",
       " d       NaN -0.613172  0.279344,\n",
       " one      1.394981\n",
       " three         NaN\n",
       " two      1.772517\n",
       " Name: a, dtype: float64)"
      ]
     },
     "execution_count": 156,
     "metadata": {},
     "output_type": "execute_result"
    }
   ],
   "source": [
    "df.align(df2.iloc[0], axis=1)"
   ]
  },
  {
   "cell_type": "markdown",
   "id": "f0795602",
   "metadata": {},
   "source": [
    "## Acceder a serie con propiedades temporales (.dt accessor)\n",
    "https://pandas.pydata.org/docs/user_guide/basics.html#dt-accessor"
   ]
  },
  {
   "cell_type": "code",
   "execution_count": 176,
   "id": "e2abfbb0",
   "metadata": {},
   "outputs": [],
   "source": [
    "s = pd.Series(pd.date_range(\"20130101 09:10:12\", periods=4))"
   ]
  },
  {
   "cell_type": "code",
   "execution_count": 177,
   "id": "4840ef39",
   "metadata": {},
   "outputs": [
    {
     "data": {
      "text/plain": [
       "0   2013-01-01 09:10:12\n",
       "1   2013-01-02 09:10:12\n",
       "2   2013-01-03 09:10:12\n",
       "3   2013-01-04 09:10:12\n",
       "dtype: datetime64[ns]"
      ]
     },
     "execution_count": 177,
     "metadata": {},
     "output_type": "execute_result"
    }
   ],
   "source": [
    "s"
   ]
  },
  {
   "cell_type": "code",
   "execution_count": 178,
   "id": "f336912f",
   "metadata": {},
   "outputs": [
    {
     "data": {
      "text/plain": [
       "0    9\n",
       "1    9\n",
       "2    9\n",
       "3    9\n",
       "dtype: int64"
      ]
     },
     "execution_count": 178,
     "metadata": {},
     "output_type": "execute_result"
    }
   ],
   "source": [
    "s.dt.hour"
   ]
  },
  {
   "cell_type": "code",
   "execution_count": 180,
   "id": "f7e90251",
   "metadata": {},
   "outputs": [
    {
     "data": {
      "text/plain": [
       "0    12\n",
       "1    12\n",
       "2    12\n",
       "3    12\n",
       "dtype: int64"
      ]
     },
     "execution_count": 180,
     "metadata": {},
     "output_type": "execute_result"
    }
   ],
   "source": [
    "s.dt.second"
   ]
  },
  {
   "cell_type": "code",
   "execution_count": 181,
   "id": "4024953a",
   "metadata": {},
   "outputs": [
    {
     "data": {
      "text/plain": [
       "0    1\n",
       "1    2\n",
       "2    3\n",
       "3    4\n",
       "dtype: int64"
      ]
     },
     "execution_count": 181,
     "metadata": {},
     "output_type": "execute_result"
    }
   ],
   "source": [
    "s.dt.day"
   ]
  },
  {
   "cell_type": "code",
   "execution_count": 182,
   "id": "0e896bc7",
   "metadata": {},
   "outputs": [
    {
     "data": {
      "text/plain": [
       "1   2013-01-02 09:10:12\n",
       "dtype: datetime64[ns]"
      ]
     },
     "execution_count": 182,
     "metadata": {},
     "output_type": "execute_result"
    }
   ],
   "source": [
    "s[s.dt.day == 2]"
   ]
  },
  {
   "cell_type": "code",
   "execution_count": 184,
   "id": "354ffb41",
   "metadata": {},
   "outputs": [
    {
     "data": {
      "text/plain": [
       "0   2013-01-01 09:10:12-05:00\n",
       "1   2013-01-02 09:10:12-05:00\n",
       "2   2013-01-03 09:10:12-05:00\n",
       "3   2013-01-04 09:10:12-05:00\n",
       "dtype: datetime64[ns, US/Eastern]"
      ]
     },
     "execution_count": 184,
     "metadata": {},
     "output_type": "execute_result"
    }
   ],
   "source": [
    "stz = s.dt.tz_localize(\"US/Eastern\")\n",
    "stz"
   ]
  },
  {
   "cell_type": "code",
   "execution_count": 185,
   "id": "d505690f",
   "metadata": {},
   "outputs": [
    {
     "data": {
      "text/plain": [
       "<DstTzInfo 'US/Eastern' LMT-1 day, 19:04:00 STD>"
      ]
     },
     "execution_count": 185,
     "metadata": {},
     "output_type": "execute_result"
    }
   ],
   "source": [
    "stz.dt.tz"
   ]
  },
  {
   "cell_type": "code",
   "execution_count": 186,
   "id": "df3dff28",
   "metadata": {},
   "outputs": [
    {
     "data": {
      "text/plain": [
       "0   2013-01-01 04:10:12-05:00\n",
       "1   2013-01-02 04:10:12-05:00\n",
       "2   2013-01-03 04:10:12-05:00\n",
       "3   2013-01-04 04:10:12-05:00\n",
       "dtype: datetime64[ns, US/Eastern]"
      ]
     },
     "execution_count": 186,
     "metadata": {},
     "output_type": "execute_result"
    }
   ],
   "source": [
    "s.dt.tz_localize(\"UTC\").dt.tz_convert(\"US/Eastern\")"
   ]
  },
  {
   "cell_type": "code",
   "execution_count": 187,
   "id": "1bf5e1ca",
   "metadata": {},
   "outputs": [],
   "source": [
    "s = pd.Series(pd.date_range(\"20130101\", periods=4))"
   ]
  },
  {
   "cell_type": "code",
   "execution_count": 188,
   "id": "33e1fd4b",
   "metadata": {},
   "outputs": [
    {
     "data": {
      "text/plain": [
       "0   2013-01-01\n",
       "1   2013-01-02\n",
       "2   2013-01-03\n",
       "3   2013-01-04\n",
       "dtype: datetime64[ns]"
      ]
     },
     "execution_count": 188,
     "metadata": {},
     "output_type": "execute_result"
    }
   ],
   "source": [
    "s"
   ]
  },
  {
   "cell_type": "code",
   "execution_count": 190,
   "id": "20b74d69",
   "metadata": {},
   "outputs": [
    {
     "data": {
      "text/plain": [
       "0    01/01/2013\n",
       "1    02/01/2013\n",
       "2    03/01/2013\n",
       "3    04/01/2013\n",
       "dtype: object"
      ]
     },
     "execution_count": 190,
     "metadata": {},
     "output_type": "execute_result"
    }
   ],
   "source": [
    "s.dt.strftime(\"%d/%m/%Y\")"
   ]
  },
  {
   "cell_type": "markdown",
   "id": "b33190bd",
   "metadata": {},
   "source": [
    "# Merge, join, concatenar y comparar\n",
    "https://pandas.pydata.org/docs/user_guide/merging.html"
   ]
  },
  {
   "cell_type": "markdown",
   "id": "2c69a3ce",
   "metadata": {},
   "source": [
    "# Gestión de índices duplicados\n",
    "https://pandas.pydata.org/docs/user_guide/duplicates.html"
   ]
  },
  {
   "cell_type": "markdown",
   "id": "5490bc14",
   "metadata": {},
   "source": [
    "# Gestión de datos categóricos\n",
    "https://pandas.pydata.org/docs/user_guide/categorical.html#dataframe-creation"
   ]
  },
  {
   "cell_type": "code",
   "execution_count": null,
   "id": "74c66bdd",
   "metadata": {},
   "outputs": [],
   "source": []
  }
 ],
 "metadata": {
  "kernelspec": {
   "display_name": "Python 3 (ipykernel)",
   "language": "python",
   "name": "python3"
  },
  "language_info": {
   "codemirror_mode": {
    "name": "ipython",
    "version": 3
   },
   "file_extension": ".py",
   "mimetype": "text/x-python",
   "name": "python",
   "nbconvert_exporter": "python",
   "pygments_lexer": "ipython3",
   "version": "3.8.15"
  },
  "toc": {
   "base_numbering": 1,
   "nav_menu": {
    "height": "717px",
    "width": "322px"
   },
   "number_sections": true,
   "sideBar": true,
   "skip_h1_title": false,
   "title_cell": "Table of Contents",
   "title_sidebar": "Contents",
   "toc_cell": false,
   "toc_position": {
    "height": "calc(100% - 180px)",
    "left": "10px",
    "top": "150px",
    "width": "471px"
   },
   "toc_section_display": true,
   "toc_window_display": true
  }
 },
 "nbformat": 4,
 "nbformat_minor": 5
}
